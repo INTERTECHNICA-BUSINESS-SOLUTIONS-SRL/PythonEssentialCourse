{
  "cells": [
    {
      "cell_type": "markdown",
      "metadata": {
        "id": "HoOwWSVgv-IC"
      },
      "source": [
        "# Handling CSV files\n",
        "\n",
        "CSV files are the fundamental portable data exchanged format used in many application domains, especially in data processing and analysis.\n",
        "Python has a very good support for management of data through CSV files, a fundamental module providing this support being the CSV module. "
      ]
    },
    {
      "cell_type": "markdown",
      "metadata": {
        "id": "rPAOGBiEGRmx"
      },
      "source": [
        "## Using csv module reader and writer functions\n",
        "The basic support for CSV data reading and writing is provided via the reader and writer functions."
      ]
    },
    {
      "cell_type": "markdown",
      "metadata": {},
      "source": [
        "First of all let's write data into CSV files."
      ]
    },
    {
      "cell_type": "code",
      "execution_count": 1,
      "metadata": {
        "colab": {
          "base_uri": "https://localhost:8080/"
        },
        "id": "vk_XRXQNw7OU",
        "outputId": "9a28bcdb-1972-4e40-ba78-77c577a978e5"
      },
      "outputs": [],
      "source": [
        "# import the necessary module\n",
        "import csv\n",
        "\n",
        "# prepare data samples\n",
        "person_data = [\n",
        "  [\"John\", \"Doe\", 50, \"john@doe.com\"],\n",
        "  [\"Jane\", \"Doe\", 45, \"jane@doe.com\"]  \n",
        "]\n",
        "\n",
        "# opening the CSV file for storing data\n",
        "csv_write_file = open(\"persons.csv\", \"w\", newline=\"\")\n",
        "\n",
        "# writing data with CSV writer\n",
        "csv_writer = csv.writer(csv_write_file, delimiter=\",\")\n",
        "for data in person_data:\n",
        "  csv_writer.writerow(data)\n",
        "\n",
        "# closing the file\n",
        "csv_write_file.close()"
      ]
    },
    {
      "cell_type": "markdown",
      "metadata": {},
      "source": [
        "We will be able to read the data afterwards."
      ]
    },
    {
      "cell_type": "code",
      "execution_count": 2,
      "metadata": {},
      "outputs": [
        {
          "name": "stdout",
          "output_type": "stream",
          "text": [
            "[['John', 'Doe', 50, 'john@doe.com'], ['Jane', 'Doe', 45, 'jane@doe.com']]\n"
          ]
        }
      ],
      "source": [
        "# prepare the in memory data storage\n",
        "read_data = []\n",
        "\n",
        "# opening the CSV file for reading data\n",
        "csv_read_file = open(\"persons.csv\", \"r\")\n",
        "\n",
        "# reading data with CSV reader\n",
        "csv_reader = csv.reader(csv_read_file, delimiter=\",\")\n",
        "for data in csv_reader:\n",
        "  # perform necessary data conversion\n",
        "  data[2] = int(data[2])\n",
        "  \n",
        "  #store data in memory\n",
        "  read_data.append(data)\n",
        "\n",
        "# closing the file\n",
        "csv_read_file.close()\n",
        "\n",
        "# print the read data\n",
        "print(read_data) "
      ]
    },
    {
      "cell_type": "markdown",
      "metadata": {},
      "source": [
        "## Using csv module DictReader and DictWriter objects\n",
        "These objects provide support for a more convenient data writing and reading, since they use dictionaries and each row value for a certain column will map to a dictionary key."
      ]
    },
    {
      "cell_type": "markdown",
      "metadata": {},
      "source": [
        "Let's write data again using this time the DictReader object."
      ]
    },
    {
      "cell_type": "code",
      "execution_count": 3,
      "metadata": {},
      "outputs": [],
      "source": [
        "from datetime import datetime as dt\n",
        "\n",
        "# prepare data samples\n",
        "structured_person_data = [\n",
        "  {\"first_name\":\"John\", \"last_name\":\"Doe\", \"birth_date\": dt.strptime(\"20-12-1970\", \"%d-%m-%Y\"), \"email\":\"john@doe.com\"},\n",
        "  {\"first_name\":\"Jane\", \"last_name\":\"Doe\", \"birth_date\": dt.strptime(\"10-11-1975\", \"%d-%m-%Y\"), \"email\":\"jane@doe.com\"}  \n",
        "]\n",
        "\n",
        "# opening the CSV file for storing data\n",
        "csv_write_file = open(\"persons_structured.csv\", \"w\", newline=\"\")\n",
        "\n",
        "# writing data with CSV writer\n",
        "csv_dict_writer = csv.DictWriter(csv_write_file, fieldnames=[\"first_name\", \"last_name\", \"birth_date\", \"email\"])\n",
        "csv_dict_writer.writeheader()\n",
        "\n",
        "for data in structured_person_data:\n",
        "  # data is written row by row in the file\n",
        "  # datetime data is saved by default in ISO format\n",
        "  csv_dict_writer.writerow(data)\n",
        "\n",
        "# closing the file\n",
        "csv_write_file.close()"
      ]
    },
    {
      "cell_type": "markdown",
      "metadata": {},
      "source": [
        "Let's read the data again using the DictReader object."
      ]
    },
    {
      "cell_type": "code",
      "execution_count": 4,
      "metadata": {},
      "outputs": [
        {
          "name": "stdout",
          "output_type": "stream",
          "text": [
            "[{'first_name': 'John', 'last_name': 'Doe', 'birth_date': datetime.datetime(1970, 12, 20, 0, 0), 'email': 'john@doe.com'}, {'first_name': 'Jane', 'last_name': 'Doe', 'birth_date': datetime.datetime(1975, 11, 10, 0, 0), 'email': 'jane@doe.com'}]\n"
          ]
        }
      ],
      "source": [
        "# prepare the in memory data storage\n",
        "read_structured_data = []\n",
        "\n",
        "# opening the CSV file for reading data\n",
        "csv_read_file = open(\"persons_structured.csv\", \"r\")\n",
        "\n",
        "# reading data with CSV reader\n",
        "csv_dict_reader = csv.DictReader(csv_read_file, delimiter=\",\")\n",
        "for structured_data in csv_dict_reader:\n",
        "  # perform necessary data conversion\n",
        "  # the data access is more expressive now since we use field names\n",
        "  structured_data[\"birth_date\"] = dt.fromisoformat(structured_data[\"birth_date\"])\n",
        "  \n",
        "  #store data in memory\n",
        "  read_structured_data.append(structured_data)\n",
        "\n",
        "# closing the file\n",
        "csv_read_file.close()\n",
        "\n",
        "# print the read data\n",
        "print(read_structured_data) "
      ]
    }
  ],
  "metadata": {
    "colab": {
      "provenance": []
    },
    "kernelspec": {
      "display_name": "Python 3",
      "name": "python3"
    },
    "language_info": {
      "codemirror_mode": {
        "name": "ipython",
        "version": 3
      },
      "file_extension": ".py",
      "mimetype": "text/x-python",
      "name": "python",
      "nbconvert_exporter": "python",
      "pygments_lexer": "ipython3",
      "version": "3.9.7"
    }
  },
  "nbformat": 4,
  "nbformat_minor": 0
}
