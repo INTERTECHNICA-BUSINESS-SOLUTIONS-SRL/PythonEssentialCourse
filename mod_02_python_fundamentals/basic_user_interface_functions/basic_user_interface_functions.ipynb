{
  "nbformat": 4,
  "nbformat_minor": 0,
  "metadata": {
    "colab": {
      "provenance": []
    },
    "kernelspec": {
      "name": "python3",
      "display_name": "Python 3"
    },
    "language_info": {
      "name": "python"
    }
  },
  "cells": [
    {
      "cell_type": "markdown",
      "source": [
        "# Basic user interface functions\n",
        "\n",
        "Basic user interface functions allow data reading and displaying to the users of an application."
      ],
      "metadata": {
        "id": "HoOwWSVgv-IC"
      }
    },
    {
      "cell_type": "markdown",
      "source": [
        "## The input function\n",
        "The input function allows reading of data from the standard user interface input (usually the system's console).\n",
        "\n",
        "The function displays a used defined prompt that guides the application operator in regards with the data that needs to be specified."
      ],
      "metadata": {
        "id": "gB_wJkrmwlDZ"
      }
    },
    {
      "cell_type": "code",
      "source": [
        "# implement a code block that reads basic person data\n",
        "# from the console\n",
        "first_name = input(\"Please provide [First Name]:\")\n",
        "last_name = input(\"Please provide [Last Name]:\")\n",
        "age = input(\"Please provide [Age]:\")\n",
        "\n",
        "# print person information\n",
        "print(\"First Name:\", first_name, \"\\nLast Name:\", last_name, \"\\nAge:\", age)"
      ],
      "metadata": {
        "id": "vk_XRXQNw7OU",
        "colab": {
          "base_uri": "https://localhost:8080/"
        },
        "outputId": "90d90972-00d8-4f11-ba86-57776b376900"
      },
      "execution_count": 1,
      "outputs": [
        {
          "output_type": "stream",
          "name": "stdout",
          "text": [
            "Please provide [First Name]:John\n",
            "Please provide [Last Name]:Smith\n",
            "Please provide [Age]:70\n",
            "First Name: John \n",
            "Last Name: Smith \n",
            "Age: 70\n"
          ]
        }
      ]
    },
    {
      "cell_type": "markdown",
      "source": [
        "## The print function\n",
        "The print function allows the application to display information at the system's console.\n",
        "\n",
        "The print function allows extra formatting of the displayed data via the following parameters:\n",
        "\n",
        "*   sep - the separator between displayed values\n",
        "*   end - the textual data displayed at the end"
      ],
      "metadata": {
        "id": "Se8xCscAICSC"
      }
    },
    {
      "cell_type": "code",
      "source": [
        "# initialize data for printing\n",
        "first_name, last_name, age = \"John\", \"Smith\", 70\n",
        "\n",
        "# print the data using the print function's capabilities\n",
        "print(\"First Name:\" + first_name, \"Last Name:\" + last_name, \"Age:\" + str(age), sep = \"\\n\", end = \"\\n------------------\")"
      ],
      "metadata": {
        "colab": {
          "base_uri": "https://localhost:8080/"
        },
        "id": "X9-FZvIEIPz7",
        "outputId": "bd283a44-bb4d-438e-97a5-94a014e88197"
      },
      "execution_count": 2,
      "outputs": [
        {
          "output_type": "stream",
          "name": "stdout",
          "text": [
            "First Name:John\n",
            "Last Name:Smith\n",
            "Age:70\n",
            "------------------"
          ]
        }
      ]
    }
  ]
}