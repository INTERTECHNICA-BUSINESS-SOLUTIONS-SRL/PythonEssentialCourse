{
  "nbformat": 4,
  "nbformat_minor": 0,
  "metadata": {
    "colab": {
      "provenance": []
    },
    "kernelspec": {
      "name": "python3",
      "display_name": "Python 3"
    },
    "language_info": {
      "name": "python"
    }
  },
  "cells": [
    {
      "cell_type": "markdown",
      "source": [
        "# Variables\n",
        "This notebook focuses on exemplification of how verables are declared and used."
      ],
      "metadata": {
        "id": "fupxwtTH6m4c"
      }
    },
    {
      "cell_type": "markdown",
      "source": [
        "## Variable naming\n",
        "Let's explore the basics of variable naming from simple to complex variable names."
      ],
      "metadata": {
        "id": "GQPl9HYb7tdi"
      }
    },
    {
      "cell_type": "code",
      "execution_count": 1,
      "metadata": {
        "id": "Ka7sCsAXY24Q",
        "colab": {
          "base_uri": "https://localhost:8080/"
        },
        "outputId": "19503ab7-8f66-4ccf-a412-e4f0ee4d7589"
      },
      "outputs": [
        {
          "output_type": "stream",
          "name": "stdout",
          "text": [
            "1 2 3 4\n"
          ]
        }
      ],
      "source": [
        "x = 1 # using standard variable names\n",
        "x1 = 2 # a variable containing numbers in its name\n",
        "_x = 3 # a variable containing underscore in its name\n",
        "X_y_1 = 4 # a variable with a complex name\n",
        "\n",
        "print(x, x1, _x, X_y_1)"
      ]
    },
    {
      "cell_type": "markdown",
      "source": [
        "## Dynamic semantics\n",
        "Let's explore the concept of dynamic semantics by assignig different values with diferent types to the same variable.\n",
        "\n",
        "The **type** function returns the type of a certain variable."
      ],
      "metadata": {
        "id": "I5qWXikTY5vT"
      }
    },
    {
      "cell_type": "code",
      "source": [
        "data = 1 # assigning a numerical value to the variable\n",
        "print(\"Data value is \", data)\n",
        "print(\"Data type value is \", type(data))\n",
        "\n",
        "data = \"A textual value\" # assigning a string value to the same variable and changing its semantics\n",
        "print(\"Data value is \", data)\n",
        "print(\"Data type value is \", type(data))"
      ],
      "metadata": {
        "colab": {
          "base_uri": "https://localhost:8080/"
        },
        "id": "CLYMWsow8Qer",
        "outputId": "1f8a45f1-b28c-45ae-ec8f-1038c992d9e2"
      },
      "execution_count": 2,
      "outputs": [
        {
          "output_type": "stream",
          "name": "stdout",
          "text": [
            "Data value is  1\n",
            "Data type value is  <class 'int'>\n",
            "Data value is  A textual value\n",
            "Data type value is  <class 'str'>\n"
          ]
        }
      ]
    },
    {
      "cell_type": "markdown",
      "source": [
        "## Variable deletion\n",
        "Let's create and delete a variable, the **del** keyword will completely delete a variable.\n"
      ],
      "metadata": {
        "id": "P5uKvzyF9eo5"
      }
    },
    {
      "cell_type": "code",
      "source": [
        "temp_data = 1 # create a variable\n",
        "del temp_data # delete the variable by using the del keyword"
      ],
      "metadata": {
        "id": "oLDYfQo19vBq"
      },
      "execution_count": 3,
      "outputs": []
    }
  ]
}