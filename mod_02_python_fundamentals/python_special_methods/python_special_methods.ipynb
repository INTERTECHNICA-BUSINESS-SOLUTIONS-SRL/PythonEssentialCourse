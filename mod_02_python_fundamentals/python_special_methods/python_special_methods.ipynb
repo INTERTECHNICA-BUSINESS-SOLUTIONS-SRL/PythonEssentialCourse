{
  "cells": [
    {
      "cell_type": "markdown",
      "metadata": {
        "id": "HoOwWSVgv-IC"
      },
      "source": [
        "# Special methods\n",
        "Python uses several special methods to control instance initialization and the string representation of objects."
      ]
    },
    {
      "cell_type": "code",
      "execution_count": 22,
      "metadata": {
        "id": "vk_XRXQNw7OU"
      },
      "outputs": [],
      "source": [
        "# defining a class representing a commercial product\n",
        "class CommercialProduct :\n",
        "\n",
        "  # defining the class constructor\n",
        "  # which allow the initialization of the instance attributes\n",
        "  def __init__(self, name, price) :\n",
        "    # ensure that the instance attributes are created and initialized\n",
        "    self._name = name\n",
        "    self._price = price\n",
        "\n",
        "  def get_name(self) :\n",
        "    return self._name\n",
        "\n",
        "  def set_name(self, name_value) :\n",
        "    self._name = name_value\n",
        "\n",
        "  def get_price(self) :\n",
        "    return self._price\n",
        "\n",
        "  def set_price(self, price_value) :\n",
        "    self._price = price_value\n",
        "\n",
        "  # defines a representation closer to a programming/application model\n",
        "  def __repr__(self):\n",
        "    repr_string = \"(Name:'{0}', Price {1})\"\n",
        "    return repr_string.format(self._name, self._price)\n",
        "\n",
        "  # defines a representation closer which has a human friendly representation\n",
        "  def __str__(self):\n",
        "    str_string = \"The product name is:'{0}' and the price is:{1}\"\n",
        "    return str_string.format(self._name, self._price)"
      ]
    },
    {
      "cell_type": "code",
      "source": [
        "# let's create a new instance and initialize it in the same time\n",
        "commerciaL_product = CommercialProduct(\"TV Set\", 2500)\n",
        "\n",
        "# displaying the programmatic representation of the object\n",
        "print(repr(commerciaL_product))\n",
        "\n",
        "# displaying the human readable representation of the object\n",
        "print(str(commerciaL_product))"
      ],
      "metadata": {
        "colab": {
          "base_uri": "https://localhost:8080/"
        },
        "id": "tPaW_FvRDzUF",
        "outputId": "cacb430d-a20f-43c2-82b8-bbd8c10d998a"
      },
      "execution_count": 27,
      "outputs": [
        {
          "output_type": "stream",
          "name": "stdout",
          "text": [
            "(Name:'TV Set', Price 2500)\n",
            "The product name is:'TV Set' and the price is:2500\n"
          ]
        }
      ]
    }
  ],
  "metadata": {
    "colab": {
      "provenance": []
    },
    "kernelspec": {
      "display_name": "Python 3",
      "name": "python3"
    },
    "language_info": {
      "name": "python"
    }
  },
  "nbformat": 4,
  "nbformat_minor": 0
}