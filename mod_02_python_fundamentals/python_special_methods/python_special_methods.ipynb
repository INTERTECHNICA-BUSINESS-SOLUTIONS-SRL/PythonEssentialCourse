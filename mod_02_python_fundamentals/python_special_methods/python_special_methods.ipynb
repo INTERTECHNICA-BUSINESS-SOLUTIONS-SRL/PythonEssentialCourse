{
  "cells": [
    {
      "cell_type": "markdown",
      "metadata": {
        "id": "HoOwWSVgv-IC"
      },
      "source": [
        "# Special methods\n",
        "Python uses several special methods to control instance initialization and the string representation of objects."
      ]
    },
    {
      "cell_type": "markdown",
      "metadata": {},
      "source": [
        "## Implementing special class methods\n",
        "\n",
        "Let's implement several special methods in context of a class."
      ]
    },
    {
      "cell_type": "code",
      "execution_count": 1,
      "metadata": {
        "id": "vk_XRXQNw7OU"
      },
      "outputs": [],
      "source": [
        "# defining a class representing a commercial product\n",
        "class CommercialProduct :\n",
        "\n",
        "  # defining the class constructor\n",
        "  # which allow the initialization of the instance attributes\n",
        "  def __init__(self, name, price) :\n",
        "    # ensure that the instance attributes are created and initialized\n",
        "    self._name = name\n",
        "    self._price = price\n",
        "\n",
        "  def get_name(self) :\n",
        "    return self._name\n",
        "\n",
        "  def set_name(self, name_value) :\n",
        "    self._name = name_value\n",
        "\n",
        "  def get_price(self) :\n",
        "    return self._price\n",
        "\n",
        "  def set_price(self, price_value) :\n",
        "    self._price = price_value\n",
        "\n",
        "  # defines a representation closer to a programming/application model\n",
        "  def __repr__(self):\n",
        "    repr_string = \"(Name:'{0}', Price {1})\"\n",
        "    return repr_string.format(self._name, self._price)\n",
        "\n",
        "  # defines a representation closer which has a human friendly representation\n",
        "  def __str__(self):\n",
        "    str_string = \"The product name is:'{0}' and the price is:{1}\"\n",
        "    return str_string.format(self._name, self._price)"
      ]
    },
    {
      "cell_type": "code",
      "execution_count": 2,
      "metadata": {
        "colab": {
          "base_uri": "https://localhost:8080/"
        },
        "id": "tPaW_FvRDzUF",
        "outputId": "cacb430d-a20f-43c2-82b8-bbd8c10d998a"
      },
      "outputs": [
        {
          "name": "stdout",
          "output_type": "stream",
          "text": [
            "(Name:'TV Set', Price 2500)\n",
            "The product name is:'TV Set' and the price is:2500\n"
          ]
        }
      ],
      "source": [
        "# let's create a new instance and initialize it in the same time\n",
        "commerciaL_product = CommercialProduct(\"TV Set\", 2500)\n",
        "\n",
        "# displaying the programmatic representation of the object\n",
        "print(repr(commerciaL_product))\n",
        "\n",
        "# displaying the human readable representation of the object\n",
        "print(str(commerciaL_product))"
      ]
    },
    {
      "cell_type": "markdown",
      "metadata": {},
      "source": [
        "## Using instantiation to ensure coherent implementation of class relations\n",
        "\n",
        "Class instantiation should be used to implement the mechanisms necessary to ensure that relations among classes are meaningfully handled."
      ]
    },
    {
      "cell_type": "code",
      "execution_count": 3,
      "metadata": {},
      "outputs": [],
      "source": [
        "# Let's consider a student class defined by the an unique identifier, first_name, last_name and email.\n",
        "# The student may receive a badge containing the student's identifier, badge that is unique to him.\n",
        "# In the implementation the Student will own the Student <--> Badge relation (it will store it).\n",
        "\n",
        "class Badge:\n",
        "\n",
        "    def __init__(self):\n",
        "        self.identifier = None\n",
        "\n",
        "class Student:\n",
        "    def __init__(self, identifier, first_name, last_name, email):\n",
        "        self.identifier = identifier\n",
        "        self.first_name = first_name\n",
        "        self.first_name = first_name\n",
        "        self.last_name = last_name\n",
        "        self.email = email\n",
        "        self.badge = None\n",
        "\n",
        "    # specific getters and setters might be used to control the relation dynamic  \n",
        "    def get_badge(self):\n",
        "        return self.badge\n",
        "\n",
        "    def set_badge(self, value):\n",
        "        self.badge = value\n",
        "        self.badge.identifier = self.identifier"
      ]
    },
    {
      "cell_type": "code",
      "execution_count": 4,
      "metadata": {},
      "outputs": [
        {
          "name": "stdout",
          "output_type": "stream",
          "text": [
            "Retrieved badge with id 1\n"
          ]
        }
      ],
      "source": [
        "# test student to badge relation\n",
        "student = Student(1, \"John\", \"Doe\", \"john_doe@gmail.com\")\n",
        "badge = Badge()\n",
        "\n",
        "student.set_badge(badge)\n",
        "\n",
        "print(\"Retrieved badge with id {0}\".format(student.get_badge().identifier))"
      ]
    },
    {
      "cell_type": "code",
      "execution_count": 5,
      "metadata": {},
      "outputs": [],
      "source": [
        "# A specific relation class can be constructed to maintain the relation between\n",
        "# students and badges\n",
        "\n",
        "class Badge:\n",
        "\n",
        "    def __init__(self, identifier):\n",
        "        self.identifier = identifier\n",
        "\n",
        "\n",
        "class Student:\n",
        "    def __init__(self, identifier, first_name, last_name, email):\n",
        "        self.identifier = identifier\n",
        "        self.first_name = first_name\n",
        "        self.first_name = first_name\n",
        "        self.last_name = last_name\n",
        "        self.email = email\n",
        "\n",
        "# Implement student <--> badge relation storage\n",
        "# for simplicity purpose we don't implement this defensively\n",
        "class StudentToBadge:\n",
        "\n",
        "    def __init__(self):\n",
        "        # init relation storage\n",
        "        self.students_to_badges = {}\n",
        "\n",
        "    def add_student_to_badge_relation(self, student, badge):\n",
        "        if (badge.identifier is None) or (badge.identifier != student.identifier):\n",
        "            # invalid data\n",
        "            return\n",
        "        # store the relation record into storage\n",
        "        self.students_to_badges[student.identifier] = (student, badge)\n",
        "\n",
        "    def get_student_by_badge(self, badge):\n",
        "        #look up by badge id and return the student information\n",
        "        data = self.students_to_badges[badge.identifier]\n",
        "        return data[0]\n",
        "\n",
        "    def get_badge_by_student(self, student):\n",
        "        #look up by student id and return the badge information\n",
        "        data = self.students_to_badges[student.identifier]\n",
        "        return data[1]\n",
        "    "
      ]
    },
    {
      "cell_type": "code",
      "execution_count": 6,
      "metadata": {},
      "outputs": [
        {
          "name": "stdout",
          "output_type": "stream",
          "text": [
            "For student with identifier 1 retrieved badge with identifier 1\n"
          ]
        }
      ],
      "source": [
        "# test the student to badge relation\n",
        "student = Student(1, \"John\", \"Doe\", \"john_doe@gmail.com\")\n",
        "badge = Badge(1)\n",
        "\n",
        "student_to_badge = StudentToBadge()\n",
        "student_to_badge.add_student_to_badge_relation(student, badge)\n",
        "print(\n",
        "    \"For student with identifier {0} retrieved badge with identifier {1}\".format(\n",
        "        student.identifier,\n",
        "        student_to_badge.get_badge_by_student(student).identifier\n",
        "    )\n",
        ")\n"
      ]
    }
  ],
  "metadata": {
    "colab": {
      "provenance": []
    },
    "kernelspec": {
      "display_name": "Python 3",
      "name": "python3"
    },
    "language_info": {
      "codemirror_mode": {
        "name": "ipython",
        "version": 3
      },
      "file_extension": ".py",
      "mimetype": "text/x-python",
      "name": "python",
      "nbconvert_exporter": "python",
      "pygments_lexer": "ipython3",
      "version": "3.9.7"
    }
  },
  "nbformat": 4,
  "nbformat_minor": 0
}
