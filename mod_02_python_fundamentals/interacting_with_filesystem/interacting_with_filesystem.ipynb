{
  "nbformat": 4,
  "nbformat_minor": 0,
  "metadata": {
    "colab": {
      "provenance": []
    },
    "kernelspec": {
      "name": "python3",
      "display_name": "Python 3"
    },
    "language_info": {
      "name": "python"
    }
  },
  "cells": [
    {
      "cell_type": "markdown",
      "source": [
        "# Interacting with the filesystem\n",
        "\n",
        "Interacting with the filesystem is an essential feature of the Python applications.\n",
        "\n",
        "Python os builtin module allows an application to list, get properties, create, modify or delete files and directories in the filesystem."
      ],
      "metadata": {
        "id": "HoOwWSVgv-IC"
      }
    },
    {
      "cell_type": "markdown",
      "source": [
        "## Listing and extracting information related to files and directories\n",
        "\n",
        "Pyton allows obtaining information about the files and directories in the filesystem via the functionalities exported by the os module."
      ],
      "metadata": {
        "id": "qM-mv0Zz9m4m"
      }
    },
    {
      "cell_type": "code",
      "source": [
        "# import the necessary module\n",
        "import os\n",
        "\n",
        "# obtain the current working directory\n",
        "print(\"The current working directory is: \\n{0}\\n\".format(os.getcwd()))\n",
        "\n",
        "# list all the directories and files from the filesystem's root\n",
        "print(\"The directories and files from filesystem's root are: \\n{0}\\n\".format(os.listdir(\"/\")))\n",
        "\n",
        "# print the filesystem information regarding the current working directory\n",
        "print(\"The raw information about the current working directory is: \\n{0}\\n\".format(os.stat(os.getcwd())))\n",
        "\n",
        "# extract the filesystem information in a meaningful way\n",
        "stat_result = os.stat(os.getcwd())\n",
        "print(\"Some relevant information regarding the current working directory is: \\\n",
        "  \\nUser id: {0} \\\n",
        "  \\nCreation timestamp [seconds]: {1} \\\n",
        "  \\nAccess timestamp [seconds]: {2} \\\n",
        "  \\nModification timestamp [seconds]: {3} \\\n",
        "  \\nSize: {4}\"\n",
        "  .format(\n",
        "    stat_result.st_uid,\n",
        "    stat_result.st_ctime,\n",
        "    stat_result.st_atime,\n",
        "    stat_result.st_mtime,\n",
        "    stat_result.st_size\n",
        "  ))"
      ],
      "metadata": {
        "id": "vk_XRXQNw7OU",
        "colab": {
          "base_uri": "https://localhost:8080/"
        },
        "outputId": "05cfcee8-1221-4465-c773-2a63cc37f95d"
      },
      "execution_count": 1,
      "outputs": [
        {
          "output_type": "stream",
          "name": "stdout",
          "text": [
            "The current working directory is: \n",
            "/content\n",
            "\n",
            "The directories and files from filesystem's root are: \n",
            "['srv', 'root', 'etc', 'sys', 'boot', 'libx32', 'var', 'lib32', 'usr', 'proc', 'sbin', 'tmp', 'dev', 'media', 'mnt', 'run', 'bin', 'lib', 'opt', 'home', 'lib64', 'content', '.dockerenv', 'datalab', 'tools', 'python-apt', 'NGC-DL-CONTAINER-LICENSE', 'cuda-keyring_1.0-1_all.deb']\n",
            "\n",
            "The raw information about the current working directory is: \n",
            "os.stat_result(st_mode=16877, st_ino=2621463, st_dev=50, st_nlink=1, st_uid=0, st_gid=0, st_size=4096, st_atime=1691250856, st_mtime=1691250711, st_ctime=1691250711)\n",
            "\n",
            "Some relevant information regarding the current working directory is:   \n",
            "User id: 0   \n",
            "Creation timestamp [seconds]: 1691250711.8196971   \n",
            "Access timestamp [seconds]: 1691250856.711497   \n",
            "Modification timestamp [seconds]: 1691250711.8196971   \n",
            "Size: 4096\n"
          ]
        }
      ]
    },
    {
      "cell_type": "markdown",
      "source": [
        "## Changing entities from the filesystem\n",
        "\n",
        "Python allows changing the properties of the entitites from the filesystem, including creation or deletion of files and directories."
      ],
      "metadata": {
        "id": "vJLE66ReXxPq"
      }
    },
    {
      "cell_type": "code",
      "source": [
        "# specify the project directories\n",
        "project_path = \"project\"\n",
        "project_directories = [\"src\", \"config\", \"build\", \"bin\"]\n",
        "\n",
        "# create the directory structure\n",
        "for project_directory in project_directories:\n",
        "  directory_name = os.getcwd() + \"/\" + project_path + \"/\" + project_directory\n",
        "  if not os.access(directory_name, os.F_OK) : os.makedirs(directory_name)\n",
        "\n",
        "# change the working path to the project directory and list its content\n",
        "old_cwd = os.getcwd()\n",
        "os.chdir(os.getcwd() + \"/\" + project_path)\n",
        "print(\"The files in the project directory {0} are: {1}\".format(os.getcwd(), os.listdir(os.getcwd())))\n",
        "\n",
        "# change the working directory to the initial path\n",
        "os.chdir(old_cwd)\n",
        "\n",
        "# delete the created structure\n",
        "for project_directory in project_directories:\n",
        "  directory_name = os.getcwd() + \"/\" + project_path + \"/\" + project_directory\n",
        "  if os.access(directory_name, os.F_OK) : os.removedirs(directory_name)"
      ],
      "metadata": {
        "colab": {
          "base_uri": "https://localhost:8080/"
        },
        "id": "LSPLwHYXYDNe",
        "outputId": "4e1b265a-b53f-4e44-c182-f39fcd131391"
      },
      "execution_count": 14,
      "outputs": [
        {
          "output_type": "stream",
          "name": "stdout",
          "text": [
            "The files in the project directory /content/project are: ['build', 'src', 'config', 'bin']\n"
          ]
        }
      ]
    }
  ]
}