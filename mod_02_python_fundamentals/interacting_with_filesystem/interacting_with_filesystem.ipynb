{
  "cells": [
    {
      "cell_type": "markdown",
      "metadata": {
        "id": "HoOwWSVgv-IC"
      },
      "source": [
        "# Interacting with the filesystem\n",
        "\n",
        "Interacting with the filesystem is an essential feature of the Python applications.\n",
        "\n",
        "Python os builtin module allows an application to list, get properties, create, modify or delete files and directories in the filesystem."
      ]
    },
    {
      "cell_type": "markdown",
      "metadata": {
        "id": "qM-mv0Zz9m4m"
      },
      "source": [
        "## Listing and extracting information related to files and directories\n",
        "\n",
        "Pyton allows obtaining information about the files and directories in the filesystem via the functionalities exported by the os module."
      ]
    },
    {
      "cell_type": "code",
      "execution_count": null,
      "metadata": {
        "colab": {
          "base_uri": "https://localhost:8080/"
        },
        "id": "vk_XRXQNw7OU",
        "outputId": "05cfcee8-1221-4465-c773-2a63cc37f95d"
      },
      "outputs": [],
      "source": [
        "# import the necessary module\n",
        "import os\n",
        "\n",
        "# obtain the current working directory\n",
        "print(\"The current working directory is: \\n{0}\\n\".format(os.getcwd()))\n",
        "\n",
        "# list all the directories and files from the filesystem's root\n",
        "print(\"The directories and files from filesystem's root are: \\n{0}\\n\".format(os.listdir(\"/\")))\n",
        "\n",
        "# print the filesystem information regarding the current working directory\n",
        "print(\"The raw information about the current working directory is: \\n{0}\\n\".format(os.stat(os.getcwd())))\n",
        "\n",
        "# extract the filesystem information in a meaningful way\n",
        "stat_result = os.stat(os.getcwd())\n",
        "print(\"Some relevant information regarding the current working directory is: \\\n",
        "  \\nUser id: {0} \\\n",
        "  \\nCreation timestamp [seconds]: {1} \\\n",
        "  \\nAccess timestamp [seconds]: {2} \\\n",
        "  \\nModification timestamp [seconds]: {3} \\\n",
        "  \\nSize: {4}\"\n",
        "  .format(\n",
        "    stat_result.st_uid,\n",
        "    stat_result.st_ctime,\n",
        "    stat_result.st_atime,\n",
        "    stat_result.st_mtime,\n",
        "    stat_result.st_size\n",
        "  ))"
      ]
    },
    {
      "cell_type": "markdown",
      "metadata": {
        "id": "vJLE66ReXxPq"
      },
      "source": [
        "## Changing entities from the filesystem\n",
        "\n",
        "Python allows changing the properties of the entitites from the filesystem, including creation or deletion of files and directories."
      ]
    },
    {
      "cell_type": "code",
      "execution_count": null,
      "metadata": {
        "colab": {
          "base_uri": "https://localhost:8080/"
        },
        "id": "LSPLwHYXYDNe",
        "outputId": "4e1b265a-b53f-4e44-c182-f39fcd131391"
      },
      "outputs": [],
      "source": [
        "# specify the project directories\n",
        "project_path = \"project\"\n",
        "project_directories = [\"src\", \"config\", \"build\", \"bin\"]\n",
        "\n",
        "# create the directory structure\n",
        "for project_directory in project_directories:\n",
        "  directory_name = os.getcwd() + \"/\" + project_path + \"/\" + project_directory\n",
        "  if not os.access(directory_name, os.F_OK) : \n",
        "    os.makedirs(directory_name)\n",
        "\n",
        "# change the working path to the project directory and list its content\n",
        "old_cwd = os.getcwd()\n",
        "os.chdir(os.getcwd() + \"/\" + project_path)\n",
        "print(\"The files in the project directory {0} are: {1}\".format(os.getcwd(), os.listdir(os.getcwd())))\n",
        "\n",
        "# change the working directory to the initial path\n",
        "os.chdir(old_cwd)\n",
        "\n",
        "# delete the created structure\n",
        "for project_directory in project_directories:\n",
        "  directory_name = os.getcwd() + \"/\" + project_path + \"/\" + project_directory\n",
        "  if os.access(directory_name, os.F_OK) : os.removedirs(directory_name)"
      ]
    }
  ],
  "metadata": {
    "colab": {
      "provenance": []
    },
    "kernelspec": {
      "display_name": "Python 3",
      "name": "python3"
    },
    "language_info": {
      "codemirror_mode": {
        "name": "ipython",
        "version": 3
      },
      "file_extension": ".py",
      "mimetype": "text/x-python",
      "name": "python",
      "nbconvert_exporter": "python",
      "pygments_lexer": "ipython3",
      "version": "3.9.7"
    }
  },
  "nbformat": 4,
  "nbformat_minor": 0
}
