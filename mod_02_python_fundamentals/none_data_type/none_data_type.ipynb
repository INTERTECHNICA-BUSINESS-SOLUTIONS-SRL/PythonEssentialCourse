{
  "nbformat": 4,
  "nbformat_minor": 0,
  "metadata": {
    "colab": {
      "provenance": []
    },
    "kernelspec": {
      "name": "python3",
      "display_name": "Python 3"
    },
    "language_info": {
      "name": "python"
    }
  },
  "cells": [
    {
      "cell_type": "markdown",
      "source": [
        "# None data type\n",
        "This notebook focuses on presenting the Python None data type which signifies that the variable has no value at all."
      ],
      "metadata": {
        "id": "HoOwWSVgv-IC"
      }
    },
    {
      "cell_type": "markdown",
      "source": [
        "## Using None data type\n",
        "Assigning the None constant to a variable means that the variable has no value assigned at all (alternatively it has a null value)."
      ],
      "metadata": {
        "id": "gB_wJkrmwlDZ"
      }
    },
    {
      "cell_type": "code",
      "source": [
        "# creating a None type variable\n",
        "none_value_variable = None\n",
        "print(\"A variable of None type is considered as having the value:\", none_value_variable)"
      ],
      "metadata": {
        "colab": {
          "base_uri": "https://localhost:8080/"
        },
        "id": "vk_XRXQNw7OU",
        "outputId": "e55637e0-109d-4c5f-fad3-ac01875ffbde"
      },
      "execution_count": 1,
      "outputs": [
        {
          "output_type": "stream",
          "name": "stdout",
          "text": [
            "A variable of None type is considered as having the value: None\n"
          ]
        }
      ]
    },
    {
      "cell_type": "markdown",
      "source": [
        "## Handling None based expressions\n",
        "Let's explore how we can handle None expressions and variables."
      ],
      "metadata": {
        "id": "6r5jv-ONzlmp"
      }
    },
    {
      "cell_type": "code",
      "source": [
        "# handling None type variables\n",
        "none_value_variable = None\n",
        "\n",
        "print(\"The type of a None value variable is: \", type(none_value_variable))\n",
        "print(\"Using the 'is None' expression on a None value variable returns:\", none_value_variable is None)"
      ],
      "metadata": {
        "colab": {
          "base_uri": "https://localhost:8080/"
        },
        "id": "OpFYHKl1zptY",
        "outputId": "42ae49eb-b427-4641-9830-094d9ee932a9"
      },
      "execution_count": 3,
      "outputs": [
        {
          "output_type": "stream",
          "name": "stdout",
          "text": [
            "The type of a None value variable is:  <class 'NoneType'>\n",
            "Using the 'is None' expression on a None value variable returns: True\n"
          ]
        }
      ]
    }
  ]
}