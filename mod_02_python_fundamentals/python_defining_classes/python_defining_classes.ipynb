{
  "cells": [
    {
      "cell_type": "markdown",
      "metadata": {
        "id": "HoOwWSVgv-IC"
      },
      "source": [
        "# Class Definition\n",
        "\n",
        "Defining classes is an essential feature of the Python's programming language.\n",
        "Class definitions allows specification for attributes and methods."
      ]
    },
    {
      "cell_type": "markdown",
      "source": [
        "## Simple class definition\n",
        "Let's start with a simple class definition representing a commercial product."
      ],
      "metadata": {
        "id": "rPAOGBiEGRmx"
      }
    },
    {
      "cell_type": "code",
      "execution_count": 9,
      "metadata": {
        "id": "vk_XRXQNw7OU"
      },
      "outputs": [],
      "source": [
        "# we start the definition of the class by specifying the class name\n",
        "# the class definition is a code block in itself\n",
        "class CommercialProduct :\n",
        "\n",
        "  # the class version is a class level data attribute\n",
        "  # shared by all the instances of the class\n",
        "  CLASS_VERSION = \"1.0.0\"\n",
        "\n",
        "  # a getter method for getting the name attribute of the commercial product\n",
        "  # even if the getter function do not need a parameter, the class methods\n",
        "  # require the self parameter which refer the object instance at runtime\n",
        "  def get_name(self) :\n",
        "    # we need to verify if the name attribute has been created\n",
        "    # and return its value\n",
        "    if hasattr(self, \"name\") :\n",
        "      return self.name\n",
        "    else:\n",
        "      return None\n",
        "\n",
        "  # a setter method for setting the name attribute of the commercial product\n",
        "  # to a new value\n",
        "  # the self parameter will be specified as well\n",
        "  def set_name(self, name_value) :\n",
        "    # setting a value to the attribute ensure its creation as well\n",
        "    self.name = name_value"
      ]
    }
  ],
  "metadata": {
    "colab": {
      "provenance": []
    },
    "kernelspec": {
      "display_name": "Python 3",
      "name": "python3"
    },
    "language_info": {
      "name": "python"
    }
  },
  "nbformat": 4,
  "nbformat_minor": 0
}