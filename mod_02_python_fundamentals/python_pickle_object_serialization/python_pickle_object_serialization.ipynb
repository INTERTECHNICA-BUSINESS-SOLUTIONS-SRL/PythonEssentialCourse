{
  "cells": [
    {
      "cell_type": "markdown",
      "metadata": {
        "id": "HoOwWSVgv-IC"
      },
      "source": [
        "# Python: pickle Object Serialization\n",
        "\n",
        "The pickle module in Python is a built-in library for serializing and de-serializing Python objects. It allows saving the state of an object to a file and load it back later. This is useful for storing complex objects that contain nested data structures or reference cycles.\n",
        "\n",
        "The pickle module works by converting the object to a byte stream and then writing it to a file. The object can later be restored from the save byte stream."
      ]
    },
    {
      "cell_type": "code",
      "execution_count": 1,
      "metadata": {},
      "outputs": [],
      "source": [
        "# importing the module\n",
        "import pickle"
      ]
    },
    {
      "cell_type": "code",
      "execution_count": 2,
      "metadata": {
        "colab": {
          "base_uri": "https://localhost:8080/"
        },
        "id": "vk_XRXQNw7OU",
        "outputId": "7446fc6d-1e27-4337-9768-75d010bee584"
      },
      "outputs": [],
      "source": [
        "# creating data to serialize, we will use simple code\n",
        "class Product:\n",
        "\n",
        "    def __init__(self):\n",
        "        self.name  = None\n",
        "\n",
        "class ProductCategory :\n",
        "    \n",
        "    def __init__(self):\n",
        "        self.name = None\n",
        "        self.categories = list([])\n",
        "        self.products = []\n",
        "\n",
        "# initial product data creation\n",
        "fridge_product = Product()\n",
        "fridge_product.name = \"Fridge\"\n",
        "\n",
        "television_set_product = Product()\n",
        "television_set_product.name = \"Television Set\"\n",
        "\n",
        "# initial category data creation\n",
        "electric_product_category = ProductCategory()\n",
        "electric_product_category.name = \"Electric Products\"\n",
        "electric_product_category.products.append(fridge_product)\n",
        "electric_product_category.products.append(television_set_product)\n",
        "\n",
        "entertainment_product_category = ProductCategory()\n",
        "entertainment_product_category.name = \"Entertainment Product\"\n",
        "entertainment_product_category.products.append(television_set_product)\n",
        "\n",
        "taxed_product_category = ProductCategory()\n",
        "taxed_product_category.name = \"Taxed Products\"\n",
        "taxed_product_category.categories.append(electric_product_category)\n",
        "taxed_product_category.categories.append(entertainment_product_category)"
      ]
    },
    {
      "cell_type": "markdown",
      "metadata": {},
      "source": [
        "The pickle module can generate the pickled object data into a string format. The object can be loaded later from this string.\n",
        "\n",
        "It must be noted that unlike JSON format, the pickle string format is not intended to be human readable."
      ]
    },
    {
      "cell_type": "code",
      "execution_count": 3,
      "metadata": {},
      "outputs": [
        {
          "name": "stdout",
          "output_type": "stream",
          "text": [
            "The generated pickle string is: \n",
            "b'\\x80\\x04\\x95\\xf3\\x00\\x00\\x00\\x00\\x00\\x00\\x00\\x8c\\x08__main__\\x94\\x8c\\x0fProductCategory\\x94\\x93\\x94)\\x81\\x94}\\x94(\\x8c\\x04name\\x94\\x8c\\x0eTaxed Products\\x94\\x8c\\ncategories\\x94]\\x94(h\\x02)\\x81\\x94}\\x94(h\\x05\\x8c\\x11Electric Products\\x94h\\x07]\\x94\\x8c\\x08products\\x94]\\x94(h\\x00\\x8c\\x07Product\\x94\\x93\\x94)\\x81\\x94}\\x94h\\x05\\x8c\\x06Fridge\\x94sbh\\x10)\\x81\\x94}\\x94h\\x05\\x8c\\x0eTelevision Set\\x94sbeubh\\x02)\\x81\\x94}\\x94(h\\x05\\x8c\\x15Entertainment Product\\x94h\\x07]\\x94h\\r]\\x94h\\x14aubeh\\r]\\x94ub.'\n",
            "\n"
          ]
        }
      ],
      "source": [
        "# generate pickle string\n",
        "pickle.dumps(taxed_product_category)\n",
        "object_pickle_string = pickle.dumps(taxed_product_category)\n",
        "print(\"The generated pickle string is: \\n{0}\\n\".format(object_pickle_string))"
      ]
    },
    {
      "cell_type": "code",
      "execution_count": 4,
      "metadata": {},
      "outputs": [],
      "source": [
        "# defining a function for recursively\n",
        "# print product category data\n",
        "def print_product_category(category, level = 0):\n",
        "    print(level*\"\\t\", \"Category name:\", category.name)\n",
        "\n",
        "    for product in category.products:\n",
        "        print(level*\"\\t\", \" \", \"Product name:\", product.name)\n",
        "            \n",
        "    for subcategory in category.categories:\n",
        "        print_product_category(subcategory, level + 1)"
      ]
    },
    {
      "cell_type": "code",
      "execution_count": 5,
      "metadata": {},
      "outputs": [
        {
          "name": "stdout",
          "output_type": "stream",
          "text": [
            " Category name: Taxed Products\n",
            "\t Category name: Electric Products\n",
            "\t   Product name: Fridge\n",
            "\t   Product name: Television Set\n",
            "\t Category name: Entertainment Product\n",
            "\t   Product name: Television Set\n"
          ]
        }
      ],
      "source": [
        "# load product category from string\n",
        "loaded_product_category = pickle.loads(object_pickle_string)\n",
        "print_product_category(loaded_product_category)"
      ]
    },
    {
      "cell_type": "markdown",
      "metadata": {},
      "source": [
        "The pickle module can perform serialization into files as well, however this serialization requires binary data reading/writing capabilities."
      ]
    },
    {
      "cell_type": "code",
      "execution_count": 6,
      "metadata": {},
      "outputs": [
        {
          "name": "stdout",
          "output_type": "stream",
          "text": [
            " Category name: Taxed Products\n",
            "\t Category name: Electric Products\n",
            "\t   Product name: Fridge\n",
            "\t   Product name: Television Set\n",
            "\t Category name: Entertainment Product\n",
            "\t   Product name: Television Set\n"
          ]
        }
      ],
      "source": [
        "# save a product category object into a pickle file\n",
        "# the file must be opened in binary mode\n",
        "object_file_write = open(\"object_data.pkl\", \"wb\")\n",
        "pickle.dump(taxed_product_category, object_file_write)\n",
        "object_file_write.close()\n",
        "\n",
        "# load the product category object from the pickle file\n",
        "# the file must be opened in binary mode\n",
        "object_file_read = open(\"object_data.pkl\", \"rb\")\n",
        "file_loaded_taxed_product_category = pickle.load(object_file_read)\n",
        "object_file_read.close()\n",
        "\n",
        "# print loaded object's values\n",
        "print_product_category(file_loaded_taxed_product_category)"
      ]
    }
  ],
  "metadata": {
    "colab": {
      "provenance": []
    },
    "kernelspec": {
      "display_name": "Python 3",
      "name": "python3"
    },
    "language_info": {
      "codemirror_mode": {
        "name": "ipython",
        "version": 3
      },
      "file_extension": ".py",
      "mimetype": "text/x-python",
      "name": "python",
      "nbconvert_exporter": "python",
      "pygments_lexer": "ipython3",
      "version": "3.11.4"
    }
  },
  "nbformat": 4,
  "nbformat_minor": 0
}
