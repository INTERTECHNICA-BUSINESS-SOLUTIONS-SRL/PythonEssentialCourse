{
  "cells": [
    {
      "cell_type": "markdown",
      "metadata": {
        "id": "HoOwWSVgv-IC"
      },
      "source": [
        "# String conversion functions\n",
        "\n",
        "The string conversion functions allow conversion of values having various data types to and from string data type.\n",
        "\n",
        "They are especially relevant for meaningfully processing user input."
      ]
    },
    {
      "cell_type": "markdown",
      "metadata": {
        "id": "gB_wJkrmwlDZ"
      },
      "source": [
        "## Input validation and processing example\n",
        "Let's use the string conversion functions for validating and processing user input."
      ]
    },
    {
      "cell_type": "code",
      "execution_count": 13,
      "metadata": {
        "colab": {
          "base_uri": "https://localhost:8080/"
        },
        "id": "vk_XRXQNw7OU",
        "outputId": "42e1a47e-1ad9-46af-8129-a728b0328b9f"
      },
      "outputs": [
        {
          "name": "stdout",
          "output_type": "stream",
          "text": [
            "Please provide [First Name]:John\n",
            "Please provide [Last Name]:Smith\n",
            "Please provide [Age]:70\n",
            "\n",
            "First Name: John \n",
            "Last Name: Smith \n",
            "Age: 70\n"
          ]
        }
      ],
      "source": [
        "# first name should be a non-empty string, only letters accepted\n",
        "first_name = None\n",
        "while(first_name is None):\n",
        "  first_name_input = input(\"Please provide [First Name]:\")\n",
        "  if not first_name_input.isalpha():\n",
        "    print(\"First name should be not empty, only letters are accepted. Please retry!\")\n",
        "    continue\n",
        "  else:\n",
        "    first_name = first_name_input\n",
        "\n",
        "# last name should be a non-empty string, only letters accepted\n",
        "last_name = None\n",
        "while(last_name is None):\n",
        "  last_name_input = input(\"Please provide [Last Name]:\")\n",
        "  if not last_name_input.isalpha():\n",
        "    print(\"Last name should be not empty, only letters are accepted. Please retry!\")\n",
        "    continue\n",
        "  else:\n",
        "    last_name = last_name_input\n",
        "\n",
        "# age should be a positive integer\n",
        "age = None\n",
        "while(age is None):\n",
        "  age_input = input(\"Please provide [Age]:\")\n",
        "  if not (age_input.isdecimal() and (int(age_input) > 0)):\n",
        "    print(\"The age should be a positive number. Please retry!\")\n",
        "    continue\n",
        "  else:\n",
        "    age = int(age_input)\n",
        "\n",
        "# display the results\n",
        "print(\"\\nFirst Name:\", first_name, \"\\nLast Name:\", last_name, \"\\nAge:\", age)"
      ]
    },
    {
      "cell_type": "markdown",
      "metadata": {},
      "source": [
        "## Practice and homework\n",
        "Please follow the instructions and solve the associated challenges."
      ]
    },
    {
      "cell_type": "code",
      "execution_count": 1,
      "metadata": {},
      "outputs": [],
      "source": [
        "# We need to implement a mechanism to read basic sales information\n",
        "# in the form of product name and quantity sold. \n",
        "# Please implement the following:\n",
        "#\n",
        "# 1. Read sales records from the user interface until the user decides to stop. \n",
        "# A sale record contains the product id (alphanumeric) and the units sold (integer).\n",
        "# The product id must be 5 characters long starting with a letter and quantity sold \n",
        "# for each record must not exceed 1000 units.\n",
        "#\n",
        "# 2. Once the user decides to stop perform the following:\n",
        "# \n",
        "# a) List all read record sales;\n",
        "# b) Create a dictionary containing as keys being product ids and the values\n",
        "# being the total quantity sold for that product. \n",
        "# c) Print the dictionary content in a human readable format."
      ]
    }
  ],
  "metadata": {
    "colab": {
      "provenance": []
    },
    "kernelspec": {
      "display_name": "Python 3",
      "name": "python3"
    },
    "language_info": {
      "codemirror_mode": {
        "name": "ipython",
        "version": 3
      },
      "file_extension": ".py",
      "mimetype": "text/x-python",
      "name": "python",
      "nbconvert_exporter": "python",
      "pygments_lexer": "ipython3",
      "version": "3.9.7"
    }
  },
  "nbformat": 4,
  "nbformat_minor": 0
}
