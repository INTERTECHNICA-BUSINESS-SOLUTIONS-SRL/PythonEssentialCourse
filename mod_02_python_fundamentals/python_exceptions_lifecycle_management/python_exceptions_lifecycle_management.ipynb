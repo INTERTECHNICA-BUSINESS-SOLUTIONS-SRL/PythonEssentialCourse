{
  "cells": [
    {
      "cell_type": "markdown",
      "metadata": {
        "id": "HoOwWSVgv-IC"
      },
      "source": [
        "# Python: Exceptions Lifecycle Management\n",
        "\n",
        "Python allows for a very extensive and powerful exceptions lifecycle management via the try-except-else-finally block. This block allows catching and processing exceptions, along with fragments of code that will execute if no exceptions or always execute regardless if there were exceptions or not."
      ]
    },
    {
      "cell_type": "markdown",
      "metadata": {
        "id": "rlLBsXrBmnQy"
      },
      "source": [
        "## Catching exceptions\n",
        "\n",
        "Exceptions can be caught via the except block. An except block allows more than one exception to be listed in its clause.\n",
        "\n",
        "The first except block that matches the type of the raised exception will be executed, the other except blocks will be ignored."
      ]
    },
    {
      "cell_type": "code",
      "execution_count": 15,
      "metadata": {
        "colab": {
          "base_uri": "https://localhost:8080/"
        },
        "id": "vk_XRXQNw7OU",
        "outputId": "7446fc6d-1e27-4337-9768-75d010bee584"
      },
      "outputs": [],
      "source": [
        "# define support exceptions\n",
        "class MissingValueException(Exception) : pass\n",
        "class InvalidValueException(Exception) : pass\n",
        "class InvalidYearException(InvalidValueException) : pass"
      ]
    },
    {
      "cell_type": "code",
      "execution_count": 16,
      "metadata": {},
      "outputs": [
        {
          "name": "stdout",
          "output_type": "stream",
          "text": [
            "An exception occurred: Sample exception - missing value\n"
          ]
        }
      ],
      "source": [
        "# a simple raising an catching of an exception\n",
        "try:\n",
        "    # the exception is raised\n",
        "    raise MissingValueException(\"Sample exception - missing value\")\n",
        "except MissingValueException as e:\n",
        "    # the raised exception matches the type in the except clause \n",
        "    # and therefore is processed\n",
        "    print(\"An exception occurred: {0}\".format(e))"
      ]
    },
    {
      "cell_type": "code",
      "execution_count": 17,
      "metadata": {},
      "outputs": [
        {
          "name": "stdout",
          "output_type": "stream",
          "text": [
            "An exception occurred: Sample exception - invalid value\n"
          ]
        }
      ],
      "source": [
        "# an except statement can have multiple exception types assigned\n",
        "try:\n",
        "    # raise a sample exception\n",
        "    raise InvalidValueException(\"Sample exception - invalid value\")\n",
        "except (MissingValueException, InvalidValueException) as e:\n",
        "    # the raised exception matches one of the types  \n",
        "    # in the except clause and therefore is processed\n",
        "    print(\"An exception occurred: {0}\".format(e))"
      ]
    },
    {
      "cell_type": "code",
      "execution_count": 18,
      "metadata": {},
      "outputs": [
        {
          "name": "stdout",
          "output_type": "stream",
          "text": [
            "An invalid value exception occurred: Sample exception - invalid value\n"
          ]
        }
      ],
      "source": [
        "# an try statement can have multiple except statements\n",
        "# the first matching one will be executed\n",
        "try:\n",
        "    # raise a sample exception\n",
        "    raise InvalidValueException(\"Sample exception - invalid value\")\n",
        "except MissingValueException as e:\n",
        "    print(\"A missing value exception occurred: {0}\".format(e))\n",
        "except InvalidValueException as e:\n",
        "    print(\"An invalid value exception occurred: {0}\".format(e))"
      ]
    },
    {
      "cell_type": "code",
      "execution_count": 19,
      "metadata": {},
      "outputs": [
        {
          "name": "stdout",
          "output_type": "stream",
          "text": [
            "An invalid year exception occurred: Sample exception - invalid year value\n"
          ]
        }
      ],
      "source": [
        "# more specialized exceptions should be handled earlier \n",
        "# than less specialized exceptions\n",
        "try:\n",
        "    # raise a sample exception\n",
        "    raise InvalidYearException(\"Sample exception - invalid year value\")\n",
        "except InvalidYearException as e:\n",
        "    print(\"An invalid year exception occurred: {0}\".format(e))\n",
        "except MissingValueException as e:\n",
        "    print(\"A missing value exception occurred: {0}\".format(e))\n",
        "except InvalidValueException as e:\n",
        "    print(\"An invalid value exception occurred: {0}\".format(e))"
      ]
    },
    {
      "cell_type": "markdown",
      "metadata": {
        "id": "1KYfSg_w5NEM"
      },
      "source": [
        "## The else block\n",
        "\n",
        "The try statement may have an else block associated to it. The else block is executed when no exceptions have been raised in the try block."
      ]
    },
    {
      "cell_type": "code",
      "execution_count": 20,
      "metadata": {
        "colab": {
          "base_uri": "https://localhost:8080/"
        },
        "id": "7_g99dLLSCQ_",
        "outputId": "954fadfc-e48e-4a2a-aece-7ba69284e176"
      },
      "outputs": [
        {
          "name": "stdout",
          "output_type": "stream",
          "text": [
            "No exception has been generated\n"
          ]
        }
      ],
      "source": [
        "# the else block will be executed only if there no exception is raised\n",
        "try:\n",
        "  pass\n",
        "except InvalidYearException as e:\n",
        "    print(\"An invalid year exception occurred: {0}\".format(e))\n",
        "except MissingValueException as e:\n",
        "    print(\"A missing value exception occurred: {0}\".format(e))\n",
        "except InvalidValueException as e:\n",
        "    print(\"An invalid value exception occurred: {0}\".format(e))\n",
        "else:\n",
        "  print(\"No exception has been generated\")"
      ]
    },
    {
      "cell_type": "markdown",
      "metadata": {},
      "source": [
        "## The finally block\n",
        "\n",
        "The finally block is always executed, regardless if an exception is generated or not."
      ]
    },
    {
      "cell_type": "code",
      "execution_count": 21,
      "metadata": {},
      "outputs": [
        {
          "name": "stdout",
          "output_type": "stream",
          "text": [
            "An invalid year exception occurred: Sample exception - invalid year value\n",
            "The finally block has been executed\n"
          ]
        }
      ],
      "source": [
        "# the finally block is always executed regardless if an exception \n",
        "# is generated or not\n",
        "try:\n",
        "    # raise a sample exception\n",
        "    raise InvalidYearException(\"Sample exception - invalid year value\")\n",
        "except InvalidYearException as e:\n",
        "    print(\"An invalid year exception occurred: {0}\".format(e))\n",
        "except MissingValueException as e:\n",
        "    print(\"A missing value exception occurred: {0}\".format(e))\n",
        "except InvalidValueException as e:\n",
        "    print(\"An invalid value exception occurred: {0}\".format(e))\n",
        "else:\n",
        "    print(\"No exception has been generated\")\n",
        "finally:\n",
        "    print(\"The finally block has been executed\")"
      ]
    },
    {
      "cell_type": "markdown",
      "metadata": {},
      "source": [
        "## Example implementation\n",
        "\n",
        "Let's use the examples above for implementing a function that is able to read year values. \n",
        "\n",
        "For exemplifications purposes, a year value is considered valid only if it is greater or equal to 1900 and less or equal to 2023."
      ]
    },
    {
      "cell_type": "code",
      "execution_count": 22,
      "metadata": {},
      "outputs": [],
      "source": [
        "# creating the support exception classes\n",
        "class MissingValueException(Exception) : pass\n",
        "class InvalidValueException(Exception) : pass\n",
        "class InvalidYearException(InvalidValueException) : pass\n",
        "\n",
        "# implementing a function that reads the year value\n",
        "# and raises exceptions if the read value is invalid\n",
        "def read_year_value():\n",
        "    read_value = input(\"Please provide the year value: \")\n",
        "    \n",
        "    # if no data has been read, raise a missing value exception\n",
        "    if len(read_value) == 0: \n",
        "        raise MissingValueException()\n",
        "    \n",
        "    year_value = None\n",
        "    try:\n",
        "        # if year value is not an int, raise an invalid value exception\n",
        "        year_value = int(read_value)\n",
        "    except ValueError as e:\n",
        "        raise InvalidValueException() from e\n",
        "    \n",
        "    # if the year was not within the valid boundaries, raise an invalid year\n",
        "    # value exception        \n",
        "    if (year_value < 1900) or (year_value >2023):\n",
        "        raise InvalidYearException()\n",
        "\n",
        "    return read_value    "
      ]
    },
    {
      "cell_type": "code",
      "execution_count": 23,
      "metadata": {},
      "outputs": [
        {
          "name": "stdout",
          "output_type": "stream",
          "text": [
            "The read year value is 1990\n"
          ]
        }
      ],
      "source": [
        "# initialize the value holding the year\n",
        "year_value = None\n",
        "\n",
        "while True:\n",
        "    try:\n",
        "        year_value = read_year_value()\n",
        "        break\n",
        "    except InvalidYearException:\n",
        "        print(\"Please a year value which is within the accepted year value boundaries\")\n",
        "    except InvalidValueException:\n",
        "        print(\"Please provide an integer value\")\n",
        "    except MissingValueException:\n",
        "        print(\"Please provide an input value for the year\")\n",
        "    \n",
        "print(\"The read year value is {0}\".format(year_value))"
      ]
    }
  ],
  "metadata": {
    "colab": {
      "provenance": []
    },
    "kernelspec": {
      "display_name": "Python 3",
      "name": "python3"
    },
    "language_info": {
      "codemirror_mode": {
        "name": "ipython",
        "version": 3
      },
      "file_extension": ".py",
      "mimetype": "text/x-python",
      "name": "python",
      "nbconvert_exporter": "python",
      "pygments_lexer": "ipython3",
      "version": "3.11.5"
    }
  },
  "nbformat": 4,
  "nbformat_minor": 0
}
