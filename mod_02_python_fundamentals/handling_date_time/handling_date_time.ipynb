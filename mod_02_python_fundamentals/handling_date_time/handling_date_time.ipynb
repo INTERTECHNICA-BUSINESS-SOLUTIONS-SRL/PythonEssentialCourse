{
  "cells": [
    {
      "cell_type": "markdown",
      "metadata": {
        "id": "HoOwWSVgv-IC"
      },
      "source": [
        "# Handling date and time information\n",
        "\n",
        "Handling date and time operations is another essential functionality offered by the Python, a important builtin module being datetime.\n",
        "\n",
        "There are other Python builtin modules which deal with the date and time information, modules such as calendar or time, however the datetime module covers the most important range of functionalities related to date and time."
      ]
    },
    {
      "cell_type": "markdown",
      "metadata": {
        "id": "rPAOGBiEGRmx"
      },
      "source": [
        "## Formatting date and time information\n",
        "Python allows the formatting of date time information via the strftime function (method) of a datetime object."
      ]
    },
    {
      "cell_type": "code",
      "execution_count": 1,
      "metadata": {
        "colab": {
          "base_uri": "https://localhost:8080/"
        },
        "id": "vk_XRXQNw7OU",
        "outputId": "9a28bcdb-1972-4e40-ba78-77c577a978e5"
      },
      "outputs": [
        {
          "name": "stdout",
          "output_type": "stream",
          "text": [
            "The current date and time is: 2023-09-25 22:35:37.930678\n",
            "\n",
            "The current date is: Monday 25/Sep/2023 and the time is: 22:35:37\n",
            " \n",
            "The current date and time information is year: 2023, month: 9, day: 25, hour: 22, minute: 35, second: 37\n"
          ]
        }
      ],
      "source": [
        "# import the necessary module\n",
        "from datetime import datetime as dt\n",
        "\n",
        "# obtain the current datetime\n",
        "dt_now = dt.now()\n",
        "\n",
        "# print the current datetime in default form\n",
        "print(\"The current date and time is: {0}\\n\".format(dt.now()))\n",
        "\n",
        "# print the current datetime in formatted mode\n",
        "date_format_string = \"%A %d/%b/%Y\"\n",
        "time_format_string = \"%H:%M:%S\"\n",
        "\n",
        "print(\"The current date is: {0} and the time is: {1}\\n \".format(\n",
        "    dt_now.strftime(date_format_string),\n",
        "    dt_now.strftime(time_format_string)\n",
        "  )\n",
        ")\n",
        "\n",
        "# extract and print the current date time information\n",
        "print(\"The current date and time information is year: {0}, month: {1}, day: {2}, hour: {3}, minute: {4}, second: {5}\".format(\n",
        "    dt_now.year, dt_now.month, dt_now.day, dt_now.hour, dt_now.minute, dt_now.second)\n",
        ")"
      ]
    },
    {
      "cell_type": "markdown",
      "metadata": {
        "id": "Z7iNfFUmGfHM"
      },
      "source": [
        "## Date and time manipulation\n",
        "Python allows the formatting of date time information via the strftime function (method) of a datetime object."
      ]
    },
    {
      "cell_type": "code",
      "execution_count": 2,
      "metadata": {
        "colab": {
          "base_uri": "https://localhost:8080/"
        },
        "id": "60pgG2IS4_sD",
        "outputId": "50b695d8-5b00-4c59-eaeb-673a50bccb0d"
      },
      "outputs": [
        {
          "name": "stdout",
          "output_type": "stream",
          "text": [
            "The created datetime is: 2023-01-01 01:01:01\n",
            "\n",
            "The created datetime from isoformat string is: 2023-01-01 01:01:01\n",
            "\n",
            "The custom created datetime is: 2022-12-20 00:00:00\n",
            "\n",
            "The datetime one year later is: 2024-01-01 01:01:01\n",
            "\n",
            "The datetime one year later being later than original datetime is: True\n",
            "\n",
            "The difference between datetime one year later and than original datetime is in days: 365\n",
            "\n"
          ]
        }
      ],
      "source": [
        "# create a datetime value specifying all its attributes\n",
        "cdt = dt(2023, 1, 1, 1, 1, 1)\n",
        "print(\"The created datetime is: {0}\\n\".format(cdt))\n",
        "\n",
        "# create the same date and time from an isoformat string\n",
        "cdt_from_iso = dt.fromisoformat(\"2023-01-01T01:01:01\")\n",
        "print(\"The created datetime from isoformat string is: {0}\\n\".format(cdt_from_iso))\n",
        "\n",
        "# create a date time from a custom date time format\n",
        "cdt_custom = dt.strptime(\"20-12-2022\", \"%d-%m-%Y\")\n",
        "print(\"The custom created datetime is: {0}\\n\".format(cdt_custom))\n",
        "\n",
        "# adding an additional year\n",
        "cdt_1_year_later = cdt.replace(year = cdt.year + 1)\n",
        "print(\"The datetime one year later is: {0}\\n\".format(cdt_1_year_later))\n",
        "\n",
        "# date and time can be compared via standard operators\n",
        "print(\"The datetime one year later being later than original datetime is: {0}\\n\".format(cdt_1_year_later > cdt))\n",
        "\n",
        "# obtain the difference between the two datetime values\n",
        "time_delta = cdt_1_year_later - cdt\n",
        "print(\"The difference between datetime one year later and than original datetime is in days: {0}\\n\".format(time_delta.days))"
      ]
    },
    {
      "cell_type": "markdown",
      "metadata": {},
      "source": [
        "## Using timedelta data\n",
        "In Python timedelta represents a duration, more precisely the difference between two dates. Python uses timedelta for calculating time between two dates or to modify a date by adding a duration to it."
      ]
    },
    {
      "cell_type": "code",
      "execution_count": 3,
      "metadata": {},
      "outputs": [],
      "source": [
        "from datetime import timedelta"
      ]
    },
    {
      "cell_type": "code",
      "execution_count": 4,
      "metadata": {},
      "outputs": [
        {
          "name": "stdout",
          "output_type": "stream",
          "text": [
            "The created timedelta object is: \n",
            "8 days, 12:00:00.010000\n",
            "\n",
            "The timedelta duration in seconds is: 734400.01\n",
            "The timedelta duration in minutes is: 12240\n"
          ]
        }
      ],
      "source": [
        "# timedelta objects can be created by using the timedelta function\n",
        "# it accepts the days, seconds, microseconds, milliseconds, minutes, hours, weeks parameters\n",
        "# they are all optional\n",
        "\n",
        "time_delta = timedelta(weeks=1, days=1, hours=12, milliseconds=10)\n",
        "print(\"The created timedelta object is: \\n{0}\\n\".format(time_delta))\n",
        "\n",
        "# a timed delta object can be converted to seconds by using\n",
        "# the total_seconds function\n",
        "total_seconds = time_delta.total_seconds()\n",
        "print(\"The timedelta duration in seconds is: {0}\".format(total_seconds))\n",
        "print(\"The timedelta duration in minutes is: {0}\".format(\n",
        "    int(total_seconds) // 60))"
      ]
    },
    {
      "cell_type": "code",
      "execution_count": 5,
      "metadata": {},
      "outputs": [
        {
          "name": "stdout",
          "output_type": "stream",
          "text": [
            "The incremented datetime information is year: 2023, month: 1, day: 24, hour: 1, minute: 0, second: 0\n"
          ]
        }
      ],
      "source": [
        "# timedelta can be used to increment / decrement date time values\n",
        "dt_beginning_year = dt.strptime(\"01-01-2023\", \"%d-%m-%Y\")\n",
        "increment_time_delta = timedelta(weeks = 3, days = 2, hours = 1)\n",
        "dt_incremented = dt_beginning_year + increment_time_delta\n",
        "\n",
        "print(\"The incremented datetime information is year: {0}, month: {1}, day: {2}, hour: {3}, minute: {4}, second: {5}\".format(\n",
        "    dt_incremented.year, dt_incremented.month, dt_incremented.day, dt_incremented.hour, dt_incremented.minute, dt_incremented.second)\n",
        ")"
      ]
    },
    {
      "cell_type": "code",
      "execution_count": 6,
      "metadata": {},
      "outputs": [
        {
          "name": "stdout",
          "output_type": "stream",
          "text": [
            "The resulted timedelta is: datetime.timedelta(days=23, seconds=3600)\n"
          ]
        }
      ],
      "source": [
        "# timedelta can be used to calculate differences between two dates\n",
        "time_delta_diff = dt_incremented - dt_beginning_year\n",
        "print(\"The resulted timedelta is: {0}\".format(repr(time_delta_diff)))"
      ]
    }
  ],
  "metadata": {
    "colab": {
      "provenance": []
    },
    "kernelspec": {
      "display_name": "Python 3",
      "name": "python3"
    },
    "language_info": {
      "codemirror_mode": {
        "name": "ipython",
        "version": 3
      },
      "file_extension": ".py",
      "mimetype": "text/x-python",
      "name": "python",
      "nbconvert_exporter": "python",
      "pygments_lexer": "ipython3",
      "version": "3.11.4"
    }
  },
  "nbformat": 4,
  "nbformat_minor": 0
}
