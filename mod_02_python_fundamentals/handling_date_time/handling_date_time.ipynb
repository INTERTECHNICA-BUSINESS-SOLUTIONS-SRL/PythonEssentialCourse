{
  "cells": [
    {
      "cell_type": "markdown",
      "metadata": {
        "id": "HoOwWSVgv-IC"
      },
      "source": [
        "# Handling date and time information\n",
        "\n",
        "Handle date and time operations is another essential functionality offered by the Python, a importan builtin module being datetime.\n",
        "\n",
        "There are other Python builtin modules which deal with the date and time information, moudules such as calendar or time, however the datetime module covers the most important range of functionalities related to date and time."
      ]
    },
    {
      "cell_type": "markdown",
      "source": [
        "## Formatting date and time information\n",
        "Python allows the formatting of date time information via the strftime function (method) of a datetime object."
      ],
      "metadata": {
        "id": "rPAOGBiEGRmx"
      }
    },
    {
      "cell_type": "code",
      "execution_count": 46,
      "metadata": {
        "colab": {
          "base_uri": "https://localhost:8080/"
        },
        "id": "vk_XRXQNw7OU",
        "outputId": "9a28bcdb-1972-4e40-ba78-77c577a978e5"
      },
      "outputs": [
        {
          "output_type": "stream",
          "name": "stdout",
          "text": [
            "The current date and time is: 2023-08-06 00:28:01.220394\n",
            "\n",
            "The current date is: Sunday 06/Aug/2023 and the time is: 00:28:01\n",
            " \n",
            "The current date and time information is year: 2023, month: 8, day: 6, hour: 0, minute: 28, second: 1\n"
          ]
        }
      ],
      "source": [
        "# import the necessary module\n",
        "from datetime import datetime as dt\n",
        "\n",
        "# obtain the current datetime\n",
        "dt_now = dt.now()\n",
        "\n",
        "# print the current datetime in default form\n",
        "print(\"The current date and time is: {0}\\n\".format(dt.now()))\n",
        "\n",
        "# print the current datetime in formatted mode\n",
        "date_format_string = \"%A %d/%b/%Y\"\n",
        "time_format_string = \"%H:%M:%S\"\n",
        "\n",
        "print(\"The current date is: {0} and the time is: {1}\\n \".format(\n",
        "    dt_now.strftime(date_format_string),\n",
        "    dt_now.strftime(time_format_string)\n",
        "  )\n",
        ")\n",
        "\n",
        "# extract and print the current date time information\n",
        "print(\"The current date and time information is year: {0}, month: {1}, day: {2}, hour: {3}, minute: {4}, second: {5}\".format(\n",
        "    dt_now.year, dt_now.month, dt_now.day, dt_now.hour, dt_now.minute, dt_now.second)\n",
        ")"
      ]
    },
    {
      "cell_type": "markdown",
      "source": [
        "## Date and time manipulation\n",
        "Python allows the formatting of date time information via the strftime function (method) of a datetime object."
      ],
      "metadata": {
        "id": "Z7iNfFUmGfHM"
      }
    },
    {
      "cell_type": "code",
      "source": [
        "# create a datetime value specifying all its attributes\n",
        "cdt = dt(2023, 1, 1, 1, 1, 1)\n",
        "print(\"The created datetime is: {0}\\n\".format(cdt))\n",
        "\n",
        "# create the same date and time from an isoformat string\n",
        "cdt_from_iso = dt.fromisoformat(\"2023-01-01T01:01:01\")\n",
        "print(\"The created datetime from isoformat string is: {0}\\n\".format(cdt_from_iso))\n",
        "\n",
        "# adding an additional year\n",
        "cdt_1_year_later = cdt.replace(year = cdt.year + 1)\n",
        "print(\"The datetime one year later is: {0}\\n\".format(cdt_1_year_later))\n",
        "\n",
        "# date and time can be compared via standard operators\n",
        "print(\"The datetime one year later being later than original datetime is: {0}\\n\".format(cdt_1_year_later > cdt))\n",
        "\n",
        "# obtain the difference between the two datetime values\n",
        "time_delta = cdt_1_year_later - cdt\n",
        "print(\"The difference between datetime one year later and than original datetime is: {0}\\n\".format(time_delta))"
      ],
      "metadata": {
        "colab": {
          "base_uri": "https://localhost:8080/"
        },
        "id": "60pgG2IS4_sD",
        "outputId": "50b695d8-5b00-4c59-eaeb-673a50bccb0d"
      },
      "execution_count": 64,
      "outputs": [
        {
          "output_type": "stream",
          "name": "stdout",
          "text": [
            "The created datetime is: 2023-01-01 01:01:01\n",
            "\n",
            "The created datetime from isoformat string is: 2023-01-01 01:01:01\n",
            "\n",
            "The datetime one year later is: 2024-01-01 01:01:01\n",
            "\n",
            "The datetime one year later being later than original datetime is: True\n",
            "\n",
            "The difference between datetime one year later and than original datetime is: 365 days, 0:00:00\n",
            "\n"
          ]
        }
      ]
    }
  ],
  "metadata": {
    "colab": {
      "provenance": []
    },
    "kernelspec": {
      "display_name": "Python 3",
      "name": "python3"
    },
    "language_info": {
      "name": "python"
    }
  },
  "nbformat": 4,
  "nbformat_minor": 0
}