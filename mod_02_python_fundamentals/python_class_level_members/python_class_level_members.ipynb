{
  "cells": [
    {
      "cell_type": "markdown",
      "metadata": {
        "id": "HoOwWSVgv-IC"
      },
      "source": [
        "# Class level members\n",
        "Python allows the classes to have members that are defined at class level.\n",
        "\n",
        "Class data members are simply variables that are defined at the class level. Their value is shared by all the instances of that class.\n",
        "\n",
        "Methods defined at class level are either class methods (annotated with the @classmethod decoration) or utility static methods (annotated with the @staticmethod decoration).\n",
        "Class methods receive a reference to the class itself as a first parameter of the function, while the static methods do not receive any parameter at all."
      ]
    },
    {
      "cell_type": "code",
      "execution_count": 1,
      "metadata": {
        "id": "vk_XRXQNw7OU"
      },
      "outputs": [],
      "source": [
        "# defining a class having support for counting its instances\n",
        "class CountableInstances:\n",
        "  # store the number of instances\n",
        "  _number_of_instances = 0\n",
        "\n",
        "  # class method returning number of instances\n",
        "  @classmethod\n",
        "  def get_number_of_instances(cls) :\n",
        "    return cls._number_of_instances\n",
        "\n",
        "  # class method setting number of instances\n",
        "  @classmethod\n",
        "  def set_number_of_instances(cls, value) :\n",
        "    cls._number_of_instances = value\n",
        "\n",
        "  # utility method for generating a user friendly message about number of instances\n",
        "  @staticmethod\n",
        "  def format_instance_number_message(value) :\n",
        "    return \"The number of instances of {0} is {1}\".format(CountableInstances, CountableInstances.get_number_of_instances())\n",
        "\n",
        "  # increase number of instances in constructor\n",
        "  def __init__(self):\n",
        "    CountableInstances.set_number_of_instances(CountableInstances.get_number_of_instances() + 1)\n",
        "    print(CountableInstances.format_instance_number_message(CountableInstances.get_number_of_instances()))\n",
        "\n",
        "  # decrease number of instances in destructor\n",
        "  def __del__(self) :\n",
        "    CountableInstances.set_number_of_instances(CountableInstances.get_number_of_instances() - 1)\n",
        "    print(CountableInstances.format_instance_number_message(CountableInstances.get_number_of_instances()))"
      ]
    },
    {
      "cell_type": "code",
      "execution_count": 2,
      "metadata": {
        "colab": {
          "base_uri": "https://localhost:8080/"
        },
        "id": "rnwYRjVKr1S4",
        "outputId": "88bc1a10-698f-4a0d-e3e3-1aef374bcddc"
      },
      "outputs": [
        {
          "name": "stdout",
          "output_type": "stream",
          "text": [
            "The number of instances of <class '__main__.CountableInstances'> is 1\n",
            "The number of instances of <class '__main__.CountableInstances'> is 0\n"
          ]
        }
      ],
      "source": [
        "# instantiate the class, printing the number of instances\n",
        "inst_1 = CountableInstances()\n",
        "\n",
        "# delete the class, printing the number of instances\n",
        "del inst_1"
      ]
    }
  ],
  "metadata": {
    "colab": {
      "provenance": []
    },
    "kernelspec": {
      "display_name": "Python 3",
      "name": "python3"
    },
    "language_info": {
      "name": "python"
    }
  },
  "nbformat": 4,
  "nbformat_minor": 0
}
