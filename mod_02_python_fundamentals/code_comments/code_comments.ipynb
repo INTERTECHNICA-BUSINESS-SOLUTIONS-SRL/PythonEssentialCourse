{
  "cells": [
    {
      "cell_type": "markdown",
      "metadata": {
        "id": "m5PQuJWnOgpY"
      },
      "source": [
        "# Code Comments\n",
        "This notebook focuses on exemplification of code comments.\n"
      ]
    },
    {
      "cell_type": "markdown",
      "metadata": {
        "id": "0VvHfvNsPDzL"
      },
      "source": [
        "## Single Line Code Comments\n",
        "Single line code comments are a very convenient mechanism that allows code commenting."
      ]
    },
    {
      "cell_type": "code",
      "execution_count": 1,
      "metadata": {
        "id": "I6yAILAJPbnY"
      },
      "outputs": [],
      "source": [
        "# this is a single line comment"
      ]
    },
    {
      "cell_type": "code",
      "execution_count": 2,
      "metadata": {
        "colab": {
          "base_uri": "https://localhost:8080/"
        },
        "id": "8Eh2he_CIqhb",
        "outputId": "26d3aa73-652b-400a-c4c7-9fb2c1103640"
      },
      "outputs": [
        {
          "name": "stdout",
          "output_type": "stream",
          "text": [
            "Code can precede comments\n"
          ]
        }
      ],
      "source": [
        "print (\"Code can precede comments\"); # Comments can be added after coding instructions on the same line"
      ]
    },
    {
      "cell_type": "markdown",
      "metadata": {
        "id": "OfgsYFJmPi1A"
      },
      "source": [
        "## Multi Line Code Comments\n",
        "Multi line code comments allow adding extensive documentation to the code."
      ]
    },
    {
      "cell_type": "code",
      "execution_count": 3,
      "metadata": {
        "id": "t0CH-zBcQEyD"
      },
      "outputs": [],
      "source": [
        "# multiple comments can be\n",
        "# expanded on multiple lines\n",
        "# as necessary"
      ]
    },
    {
      "cell_type": "code",
      "execution_count": 4,
      "metadata": {
        "colab": {
          "base_uri": "https://localhost:8080/",
          "height": 35
        },
        "id": "Yd6vo0ciQQb_",
        "outputId": "916b85fa-7adb-4bad-9873-af494edd7483"
      },
      "outputs": [
        {
          "data": {
            "application/vnd.google.colaboratory.intrinsic+json": {
              "type": "string"
            },
            "text/plain": [
              "'\\nPython support a dedicated syntax\\nfor code than spans multiple lines\\nso that developers can handle\\nentire blocks of in-code documentation\\n'"
            ]
          },
          "execution_count": 4,
          "metadata": {},
          "output_type": "execute_result"
        }
      ],
      "source": [
        "\"\"\"\n",
        "Python supports a dedicated syntax\n",
        "for code than spans multiple lines\n",
        "so that developers can handle\n",
        "entire blocks of in-code documentation\n",
        "\"\"\""
      ]
    },
    {
      "cell_type": "markdown",
      "metadata": {
        "id": "tfCb4BCZQVbA"
      },
      "source": [
        "## Bad Code Commenting Practices\n",
        "Code comments should not repeat the actions implemented in the code. Additionally code comments should be maintained."
      ]
    },
    {
      "cell_type": "code",
      "execution_count": 5,
      "metadata": {
        "id": "cC2yff3WQ5CH"
      },
      "outputs": [],
      "source": [
        "# a code comment that just repeats the actions implemented in the code does not add any value\n",
        "\n",
        "x = 1; # assign value 1 to the variable x"
      ]
    },
    {
      "cell_type": "code",
      "execution_count": 6,
      "metadata": {
        "id": "hO2vKOidSYen"
      },
      "outputs": [],
      "source": [
        "# a code comment that is outdated is actually creating unnecessary confusion\n",
        "\n",
        "x = x / 2; # multiply the value with 3"
      ]
    }
  ],
  "metadata": {
    "colab": {
      "provenance": []
    },
    "kernelspec": {
      "display_name": "Python 3",
      "name": "python3"
    },
    "language_info": {
      "name": "python"
    }
  },
  "nbformat": 4,
  "nbformat_minor": 0
}
