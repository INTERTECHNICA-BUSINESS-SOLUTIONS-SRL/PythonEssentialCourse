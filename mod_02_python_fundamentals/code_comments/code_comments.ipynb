{
  "nbformat": 4,
  "nbformat_minor": 0,
  "metadata": {
    "colab": {
      "provenance": []
    },
    "kernelspec": {
      "name": "python3",
      "display_name": "Python 3"
    },
    "language_info": {
      "name": "python"
    }
  },
  "cells": [
    {
      "cell_type": "markdown",
      "source": [
        "# Code Comments\n",
        "This notebook focuses on exemplification of code comments.\n"
      ],
      "metadata": {
        "id": "m5PQuJWnOgpY"
      }
    },
    {
      "cell_type": "markdown",
      "source": [
        "## Single Line Code Comments\n",
        "Single line code comments are a very convenient mechanism that allows code commenting."
      ],
      "metadata": {
        "id": "0VvHfvNsPDzL"
      }
    },
    {
      "cell_type": "code",
      "source": [
        "# this is a single line comment"
      ],
      "metadata": {
        "id": "I6yAILAJPbnY"
      },
      "execution_count": 1,
      "outputs": []
    },
    {
      "cell_type": "code",
      "execution_count": 2,
      "metadata": {
        "colab": {
          "base_uri": "https://localhost:8080/"
        },
        "id": "8Eh2he_CIqhb",
        "outputId": "26d3aa73-652b-400a-c4c7-9fb2c1103640"
      },
      "outputs": [
        {
          "output_type": "stream",
          "name": "stdout",
          "text": [
            "Code can precede comments\n"
          ]
        }
      ],
      "source": [
        "print (\"Code can precede comments\"); # Comments can be added after coding instructions on the same line"
      ]
    },
    {
      "cell_type": "markdown",
      "source": [
        "## Multi Line Code Comments\n",
        "Multi line code comments allow adding extensive documentation to the code."
      ],
      "metadata": {
        "id": "OfgsYFJmPi1A"
      }
    },
    {
      "cell_type": "code",
      "source": [
        "# multiple comments can be\n",
        "# expanded on multiple lines\n",
        "# as necessary"
      ],
      "metadata": {
        "id": "t0CH-zBcQEyD"
      },
      "execution_count": 3,
      "outputs": []
    },
    {
      "cell_type": "code",
      "source": [
        "\"\"\"\n",
        "Python supports a dedicated syntax\n",
        "for code than spans multiple lines\n",
        "so that developers can handle\n",
        "entire blocks of in-code documentation\n",
        "\"\"\""
      ],
      "metadata": {
        "colab": {
          "base_uri": "https://localhost:8080/",
          "height": 35
        },
        "id": "Yd6vo0ciQQb_",
        "outputId": "916b85fa-7adb-4bad-9873-af494edd7483"
      },
      "execution_count": 4,
      "outputs": [
        {
          "output_type": "execute_result",
          "data": {
            "text/plain": [
              "'\\nPython support a dedicated syntax\\nfor code than spans multiple lines\\nso that developers can handle\\nentire blocks of in-code documentation\\n'"
            ],
            "application/vnd.google.colaboratory.intrinsic+json": {
              "type": "string"
            }
          },
          "metadata": {},
          "execution_count": 4
        }
      ]
    },
    {
      "cell_type": "markdown",
      "source": [
        "## Bad Code Commenting Practices\n",
        "Code comments should not repeat the actions implemented in the code. Additionally code comments should be maintained."
      ],
      "metadata": {
        "id": "tfCb4BCZQVbA"
      }
    },
    {
      "cell_type": "code",
      "source": [
        "# a code comment that just repeats the actions implemented in the code does not add any value\n",
        "\n",
        "x = 1; # assign value 1 to the variable x"
      ],
      "metadata": {
        "id": "cC2yff3WQ5CH"
      },
      "execution_count": 5,
      "outputs": []
    },
    {
      "cell_type": "code",
      "source": [
        "# a code comment that is outdated is actually creating unnecessary confusion\n",
        "\n",
        "x = x / 2; # multiply the value with 3"
      ],
      "metadata": {
        "id": "hO2vKOidSYen"
      },
      "execution_count": 6,
      "outputs": []
    }
  ]
}