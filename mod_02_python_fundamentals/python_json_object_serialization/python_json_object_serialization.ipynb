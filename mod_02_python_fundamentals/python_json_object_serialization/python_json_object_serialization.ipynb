{
  "cells": [
    {
      "cell_type": "markdown",
      "metadata": {
        "id": "HoOwWSVgv-IC"
      },
      "source": [
        "# Python: JSON Object Serialization\n",
        "\n",
        "Python allows objects to be serialized in a JSON format which is highly portable across applications.\n",
        "This is possible through the usage of the json module, which is specialized in saving dictionary objects into JSON format. \n",
        "\n",
        "The json module also allows usage of custom encoders/decoders to be used for serialization of complex objects."
      ]
    },
    {
      "cell_type": "code",
      "execution_count": 1,
      "metadata": {},
      "outputs": [],
      "source": [
        "# importing the module\n",
        "import json"
      ]
    },
    {
      "cell_type": "markdown",
      "metadata": {
        "id": "rlLBsXrBmnQy"
      },
      "source": [
        "## Serializing dictionary data in JSON format\n",
        "\n",
        "The json module works first and foremost with dictionary data. It is able to serialize dictionary data with almost no requirement for development customization."
      ]
    },
    {
      "cell_type": "code",
      "execution_count": 2,
      "metadata": {},
      "outputs": [],
      "source": [
        "# creating dictionary data for representing domain objects\n",
        "# such data can be processed out of the box by the JSON module\n",
        "dict_fridge_product = {\n",
        "    \"name\": \"Fridge\"\n",
        "}\n",
        "\n",
        "dict_television_set_product = {\n",
        "    \"name\": \"Television Set\"\n",
        "}\n",
        "\n",
        "dict_electric_product_category = {\n",
        "    \"name\": \"Electric Products\",\n",
        "    \"sub_categories\": [],\n",
        "    \"products\": [dict_fridge_product, dict_television_set_product]\n",
        "}\n",
        "\n",
        "dict_entertainment_product_category = {\n",
        "    \"name\": \"Entertainment Product\",\n",
        "    \"sub_categories\": [],\n",
        "    \"products\": [dict_television_set_product]\n",
        "}\n",
        "\n",
        "dict_taxed_product_category = {\n",
        "    \"name\": \"Taxed Products\",\n",
        "    \"sub_categories\": [dict_electric_product_category, dict_entertainment_product_category]\n",
        "}"
      ]
    },
    {
      "cell_type": "code",
      "execution_count": 3,
      "metadata": {},
      "outputs": [
        {
          "name": "stdout",
          "output_type": "stream",
          "text": [
            "The generated json string is: \n",
            " {\n",
            "  \"name\": \"Taxed Products\",\n",
            "  \"sub_categories\": [\n",
            "    {\n",
            "      \"name\": \"Electric Products\",\n",
            "      \"sub_categories\": [],\n",
            "      \"products\": [\n",
            "        {\n",
            "          \"name\": \"Fridge\"\n",
            "        },\n",
            "        {\n",
            "          \"name\": \"Television Set\"\n",
            "        }\n",
            "      ]\n",
            "    },\n",
            "    {\n",
            "      \"name\": \"Entertainment Product\",\n",
            "      \"sub_categories\": [],\n",
            "      \"products\": [\n",
            "        {\n",
            "          \"name\": \"Television Set\"\n",
            "        }\n",
            "      ]\n",
            "    }\n",
            "  ]\n",
            "} \n",
            "\n",
            "The loaded dict_taxed_product_category has type <class 'dict'> and its content is: \n",
            " {'name': 'Taxed Products', 'sub_categories': [{'name': 'Electric Products', 'sub_categories': [], 'products': [{'name': 'Fridge'}, {'name': 'Television Set'}]}, {'name': 'Entertainment Product', 'sub_categories': [], 'products': [{'name': 'Television Set'}]}]} \n",
            "\n"
          ]
        }
      ],
      "source": [
        "# we can save the top level product category information into a string\n",
        "# and then reload it\n",
        "\n",
        "# save the json data and used a 2 spaces indent for readability\n",
        "json_string = json.dumps(dict_taxed_product_category, indent=2)\n",
        "print(\"The generated json string is: \\n {0} \\n\".format(json_string))\n",
        "\n",
        "#load back the object from the JSON string\n",
        "loaded_dict_taxed_product_category = json.loads(json_string)\n",
        "\n",
        "# display the loaded data for comparison with original data\n",
        "print(\n",
        "    \"The loaded dict_taxed_product_category has type {0} and its content is: \\n {1} \\n\".format(\n",
        "        type(loaded_dict_taxed_product_category),\n",
        "        loaded_dict_taxed_product_category\n",
        "    )\n",
        ")"
      ]
    },
    {
      "cell_type": "code",
      "execution_count": 4,
      "metadata": {},
      "outputs": [
        {
          "name": "stdout",
          "output_type": "stream",
          "text": [
            "The loaded dict_taxed_product_category has type <class 'dict'> and its content is: \n",
            " {'name': 'Taxed Products', 'sub_categories': [{'name': 'Electric Products', 'sub_categories': [], 'products': [{'name': 'Fridge'}, {'name': 'Television Set'}]}, {'name': 'Entertainment Product', 'sub_categories': [], 'products': [{'name': 'Television Set'}]}]} \n",
            "\n"
          ]
        }
      ],
      "source": [
        "# JSON serialized data can be also saved in files\n",
        "# and later on dictionaries can be recreated from this data\n",
        "\n",
        "# save data to file\n",
        "json_file_write = open(\"data.json\", \"w\")\n",
        "json.dump(dict_taxed_product_category, json_file_write, indent=2)\n",
        "json_file_write.close()\n",
        "\n",
        "# load data from file\n",
        "json_file_read = open(\"data.json\", \"r\")\n",
        "file_loaded_dict_taxed_product_category = json.loads(json_string)\n",
        "json_file_read.close()\n",
        "\n",
        "# display the loaded data for comparison with original data\n",
        "print(\n",
        "    \"The loaded dict_taxed_product_category has type {0} and its content is: \\n {1} \\n\".format(\n",
        "        type(file_loaded_dict_taxed_product_category),\n",
        "        file_loaded_dict_taxed_product_category\n",
        "    )\n",
        ")"
      ]
    },
    {
      "cell_type": "markdown",
      "metadata": {},
      "source": [
        "## Serializing objects in JSON format\n",
        "\n",
        "The json module can serialize complex objects in JSON format as well. In this case, it will require implementation of custom encoders and decoders that will ensure the transformation of objects to and from dictionary data. "
      ]
    },
    {
      "cell_type": "code",
      "execution_count": 5,
      "metadata": {
        "colab": {
          "base_uri": "https://localhost:8080/"
        },
        "id": "vk_XRXQNw7OU",
        "outputId": "7446fc6d-1e27-4337-9768-75d010bee584"
      },
      "outputs": [],
      "source": [
        "# creating data to serialize, we will use simple code\n",
        "class Product:\n",
        "\n",
        "    def __init__(self):\n",
        "        self.name  = None\n",
        "\n",
        "class ProductCategory :\n",
        "    \n",
        "    def __init__(self):\n",
        "        self.name = None\n",
        "        self.categories = list([])\n",
        "        self.products = []\n",
        "\n",
        "# initial product data creation\n",
        "fridge_product = Product()\n",
        "fridge_product.name = \"Fridge\"\n",
        "\n",
        "television_set_product = Product()\n",
        "television_set_product.name = \"Television Set\"\n",
        "\n",
        "# initial category data creation\n",
        "electric_product_category = ProductCategory()\n",
        "electric_product_category.name = \"Electric Products\"\n",
        "electric_product_category.products.append(fridge_product)\n",
        "electric_product_category.products.append(television_set_product)\n",
        "\n",
        "entertainment_product_category = ProductCategory()\n",
        "entertainment_product_category.name = \"Entertainment Product\"\n",
        "entertainment_product_category.products.append(television_set_product)\n",
        "\n",
        "taxed_product_category = ProductCategory()\n",
        "taxed_product_category.name = \"Taxed Products\"\n",
        "taxed_product_category.categories.append(electric_product_category)\n",
        "taxed_product_category.categories.append(entertainment_product_category)"
      ]
    },
    {
      "cell_type": "code",
      "execution_count": 6,
      "metadata": {},
      "outputs": [],
      "source": [
        "# ensure product encoding\n",
        "class ProductEncoder(json.JSONEncoder):\n",
        "    def default(self, o):\n",
        "        # if the object is a product we will simply provide the dictionary\n",
        "        if type(o) == Product:\n",
        "            data = o.__dict__.copy()\n",
        "            # we store a product data type\n",
        "            data[\"__data_type\"] = repr(Product)\n",
        "            return data\n",
        "        else:\n",
        "            # otherwise we return None\n",
        "            return None\n",
        "\n",
        "# ensure product decoding\n",
        "\n",
        "\n",
        "class ProductDecoder(json.JSONDecoder):\n",
        "    def __init__(self):\n",
        "        # register object hook\n",
        "        super().__init__(object_hook=self.object_hook)\n",
        "\n",
        "    # the object hook will ensure that products are decoded\n",
        "    def object_hook(self, dict):\n",
        "        # if we don't receive a dictionary\n",
        "        # we return the same object\n",
        "        if (type(dict) != type({})):\n",
        "            return dict\n",
        "\n",
        "        # if the dictionary has the current value marked as product\n",
        "        # we will extract and return the product\n",
        "        if (repr(Product) == dict[\"__data_type\"]):\n",
        "            product = Product()\n",
        "            product.name = dict[\"name\"]\n",
        "            return product\n",
        "        else:\n",
        "            # otherwise we return the same dictionary\n",
        "            return dict"
      ]
    },
    {
      "cell_type": "code",
      "execution_count": 7,
      "metadata": {},
      "outputs": [],
      "source": [
        "# ensure product category encoding\n",
        "class ProductCategoryEncoder(json.JSONEncoder):\n",
        "    def default(self, o):\n",
        "        # if the object is a product category\n",
        "        # we will create a custom dictionary\n",
        "        if type(o) == ProductCategory:\n",
        "            data = {}\n",
        "            data[\"name\"] = o.name\n",
        "\n",
        "            # add categories information\n",
        "            data[\"categories\"] = list()\n",
        "            for product_category in o.categories:\n",
        "                data[\"categories\"].append(\n",
        "                    ProductCategoryEncoder().default(product_category))\n",
        "\n",
        "            # add products information\n",
        "            data[\"products\"] = list()\n",
        "            for product in o.products:\n",
        "                data[\"products\"].append(ProductEncoder().default(product))\n",
        "\n",
        "            # add product category data marker\n",
        "            data[\"__data_type\"] = repr(ProductCategory)\n",
        "            return data\n",
        "        else:\n",
        "            # otherwise we return None\n",
        "            return None\n",
        "\n",
        "\n",
        "# ensure product category decoding\n",
        "class ProductCategoryDecoder(json.JSONDecoder):\n",
        "    def __init__(self):\n",
        "        # register object hook\n",
        "        super().__init__(object_hook=self.object_hook)\n",
        "\n",
        "    # the object hook will ensure that products are decoded\n",
        "    def object_hook(self, dict):\n",
        "        # if we don't receive a dictionary\n",
        "        # we return the same object\n",
        "        if (type(dict) != type({})):\n",
        "            return dict\n",
        "\n",
        "        # if the dictionary has the current value marked as product\n",
        "        # we will extract and return the product\n",
        "        if (repr(ProductCategory) == dict[\"__data_type\"]):\n",
        "            product_category = ProductCategory()\n",
        "            product_category.name = dict[\"name\"]\n",
        "\n",
        "            if \"categories\" in dict:\n",
        "                product_category.categories = []\n",
        "                for category_data in dict[\"categories\"]:\n",
        "                    product_category.categories.append(\n",
        "                        ProductCategoryDecoder().object_hook(category_data))\n",
        "\n",
        "            if \"products\" in dict:\n",
        "                product_category.products = []\n",
        "                for product_data in dict[\"products\"]:\n",
        "                    product_category.products.append(\n",
        "                        ProductDecoder().object_hook(product_data))\n",
        "\n",
        "            return product_category\n",
        "        else:\n",
        "            # otherwise we return the same dictionary\n",
        "            return dict"
      ]
    },
    {
      "cell_type": "code",
      "execution_count": 8,
      "metadata": {},
      "outputs": [
        {
          "name": "stdout",
          "output_type": "stream",
          "text": [
            "The generated JSON string is: \n",
            "{\n",
            "  \"name\": \"Taxed Products\",\n",
            "  \"categories\": [\n",
            "    {\n",
            "      \"name\": \"Electric Products\",\n",
            "      \"categories\": [],\n",
            "      \"products\": [\n",
            "        {\n",
            "          \"name\": \"Fridge\",\n",
            "          \"__data_type\": \"<class '__main__.Product'>\"\n",
            "        },\n",
            "        {\n",
            "          \"name\": \"Television Set\",\n",
            "          \"__data_type\": \"<class '__main__.Product'>\"\n",
            "        }\n",
            "      ],\n",
            "      \"__data_type\": \"<class '__main__.ProductCategory'>\"\n",
            "    },\n",
            "    {\n",
            "      \"name\": \"Entertainment Product\",\n",
            "      \"categories\": [],\n",
            "      \"products\": [\n",
            "        {\n",
            "          \"name\": \"Television Set\",\n",
            "          \"__data_type\": \"<class '__main__.Product'>\"\n",
            "        }\n",
            "      ],\n",
            "      \"__data_type\": \"<class '__main__.ProductCategory'>\"\n",
            "    }\n",
            "  ],\n",
            "  \"products\": [],\n",
            "  \"__data_type\": \"<class '__main__.ProductCategory'>\"\n",
            "}\n",
            "\n"
          ]
        }
      ],
      "source": [
        "# generate JSON string\n",
        "object_json_string = json.dumps(taxed_product_category, cls = ProductCategoryEncoder, indent= 2)\n",
        "print(\"The generated JSON string is: \\n{0}\\n\".format(object_json_string))"
      ]
    },
    {
      "cell_type": "code",
      "execution_count": 9,
      "metadata": {},
      "outputs": [],
      "source": [
        "# defining a function for recursively\n",
        "# print product category data\n",
        "def print_product_category(category, level = 0):\n",
        "    print(level*\"\\t\", \"Category name:\", category.name)\n",
        "\n",
        "    for product in category.products:\n",
        "        print(level*\"\\t\", \" \", \"Product name:\", product.name)\n",
        "            \n",
        "    for subcategory in category.categories:\n",
        "        print_product_category(subcategory, level + 1)"
      ]
    },
    {
      "cell_type": "code",
      "execution_count": 10,
      "metadata": {},
      "outputs": [
        {
          "name": "stdout",
          "output_type": "stream",
          "text": [
            " Category name: Taxed Products\n",
            "\t Category name: Electric Products\n",
            "\t   Product name: Fridge\n",
            "\t   Product name: Television Set\n",
            "\t Category name: Entertainment Product\n",
            "\t   Product name: Television Set\n"
          ]
        }
      ],
      "source": [
        "# load product category from string\n",
        "loaded_product_category = json.loads(object_json_string, cls = ProductCategoryDecoder)\n",
        "print_product_category(loaded_product_category)"
      ]
    },
    {
      "cell_type": "code",
      "execution_count": 11,
      "metadata": {},
      "outputs": [
        {
          "name": "stdout",
          "output_type": "stream",
          "text": [
            " Category name: Taxed Products\n",
            "\t Category name: Electric Products\n",
            "\t   Product name: Fridge\n",
            "\t   Product name: Television Set\n",
            "\t Category name: Entertainment Product\n",
            "\t   Product name: Television Set\n"
          ]
        }
      ],
      "source": [
        "# save a product category object into a json file\n",
        "object_file_write = open(\"object_data.json\", \"w\")\n",
        "json.dump(taxed_product_category, object_file_write, cls = ProductCategoryEncoder, indent= 2)\n",
        "object_file_write.close()\n",
        "\n",
        "# load the product category object from the json file\n",
        "object_file_read = open(\"object_data.json\", \"r\")\n",
        "file_loaded_taxed_product_category = json.load(object_file_read, cls = ProductCategoryDecoder)\n",
        "object_file_read.close()\n",
        "\n",
        "# print loaded object's values\n",
        "print_product_category(file_loaded_taxed_product_category)"
      ]
    }
  ],
  "metadata": {
    "colab": {
      "provenance": []
    },
    "kernelspec": {
      "display_name": "Python 3",
      "name": "python3"
    },
    "language_info": {
      "codemirror_mode": {
        "name": "ipython",
        "version": 3
      },
      "file_extension": ".py",
      "mimetype": "text/x-python",
      "name": "python",
      "nbconvert_exporter": "python",
      "pygments_lexer": "ipython3",
      "version": "3.11.5"
    }
  },
  "nbformat": 4,
  "nbformat_minor": 0
}
