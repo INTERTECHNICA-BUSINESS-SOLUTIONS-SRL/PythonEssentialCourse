{
  "nbformat": 4,
  "nbformat_minor": 0,
  "metadata": {
    "colab": {
      "provenance": []
    },
    "kernelspec": {
      "name": "python3",
      "display_name": "Python 3"
    },
    "language_info": {
      "name": "python"
    }
  },
  "cells": [
    {
      "cell_type": "markdown",
      "source": [
        "# Numerical data types\n",
        "This notebook focuses on exemplification of the Python core numerical data types."
      ],
      "metadata": {
        "id": "mrM0K8jQbNS0"
      }
    },
    {
      "cell_type": "markdown",
      "source": [
        "## Creating numerical variables\n",
        "Numerical variables are created by assigning numerical values to variables."
      ],
      "metadata": {
        "id": "psygijvRcKK0"
      }
    },
    {
      "cell_type": "code",
      "source": [
        "# creating numerical variables from value assignments\n",
        "int_value = 1\n",
        "float_value = 2\n",
        "complex_value = 1 +1j\n",
        "\n",
        "print(\"Created numerical values are: \", int_value, \",\", float_value, \",\", complex_value)"
      ],
      "metadata": {
        "colab": {
          "base_uri": "https://localhost:8080/"
        },
        "id": "Na63LL3gci-8",
        "outputId": "e9efd7f9-3e3c-4195-8029-189ffd98b3c2"
      },
      "execution_count": 3,
      "outputs": [
        {
          "output_type": "stream",
          "name": "stdout",
          "text": [
            "Created numerical values are:  1 , 2 , (1+1j)\n"
          ]
        }
      ]
    },
    {
      "cell_type": "markdown",
      "source": [
        "## Using numerical operators\n",
        "Let's explore the basic functionality of numerical operators."
      ],
      "metadata": {
        "id": "QcKNhxN0djCv"
      }
    },
    {
      "cell_type": "code",
      "source": [
        "# create values\n",
        "int_value_1 = 10\n",
        "int_value_2 = 7\n",
        "\n",
        "# use numerical operators\n",
        "print (\"Addition result: \", int_value_1 + int_value_2)\n",
        "print (\"Subtraction result: \", int_value_1 - int_value_2)\n",
        "print (\"Multiplication result: \", int_value_1 * int_value_2)\n",
        "print (\"Division result: \", int_value_1 / int_value_2)\n",
        "print (\"Integer division result: \", int_value_1 // int_value_2)\n",
        "print (\"Modulo result: \", int_value_1 % int_value_2)\n",
        "print (\"Exponentiation result: \", int_value_1 ** int_value_2)"
      ],
      "metadata": {
        "colab": {
          "base_uri": "https://localhost:8080/"
        },
        "id": "w6I_4gA-d1Qc",
        "outputId": "562c06d1-83f5-43a5-b56b-7e32285b4a27"
      },
      "execution_count": 4,
      "outputs": [
        {
          "output_type": "stream",
          "name": "stdout",
          "text": [
            "Addition result:  17\n",
            "Subtraction result:  3\n",
            "Multiplication result:  70\n",
            "Division result:  1.4285714285714286\n",
            "Integer division result:  1\n",
            "Modulo result:  3\n",
            "Exponentiation result:  10000000\n"
          ]
        }
      ]
    },
    {
      "cell_type": "markdown",
      "source": [
        "## Conversion functions\n",
        "Let's use conversion functions to convert textual data to numerical data."
      ],
      "metadata": {
        "id": "GcBvgg-KoL6n"
      }
    },
    {
      "cell_type": "code",
      "source": [
        "# convert textual values to numerical values\n",
        "int_value_conversion = int(\"1\")\n",
        "float_value_conversion = float (\"1.0\")\n",
        "complex_value_conversion = complex (\"(1+1j)\")\n",
        "\n",
        "# verify generated data types\n",
        "print(\n",
        "    \"Conversion resulted data types: \",\n",
        "      type(int_value_conversion), \",\",\n",
        "      type(float_value_conversion), \",\",\n",
        "      type(complex_value_conversion)\n",
        "    )"
      ],
      "metadata": {
        "colab": {
          "base_uri": "https://localhost:8080/"
        },
        "id": "2kPEXvtOoXjn",
        "outputId": "23886f7f-f234-44c9-dffa-7536fae10d03"
      },
      "execution_count": 10,
      "outputs": [
        {
          "output_type": "stream",
          "name": "stdout",
          "text": [
            "Conversion resulted data types:  <class 'int'> , <class 'float'> , <class 'complex'>\n"
          ]
        }
      ]
    }
  ]
}