{
  "cells": [
    {
      "cell_type": "markdown",
      "metadata": {
        "id": "HoOwWSVgv-IC"
      },
      "source": [
        "# Python Abstract Methods and Classes\n",
        "\n",
        "Python allows the usage of abstract classes and methods.\n",
        "\n",
        "Abstract methods allow definition of a method's signature without providing an implementation. These methods are used for the overriding purpose in their derived classes, their role is to provide consistent, uniform, operation structure.\n",
        "\n",
        "Abstract classes usually do have one or more abstract methods. These classes cannot be instantiated, their role is to provide consistent, uniform, class hierarchy structure."
      ]
    },
    {
      "cell_type": "markdown",
      "source": [
        "## Abstract methods\n",
        "\n",
        "Abstract methods are adnotated by the @abstract method annotation from the abc package. They do not provide any implementation, usually these functions have the pass statement as the function's body."
      ],
      "metadata": {
        "id": "rlLBsXrBmnQy"
      }
    },
    {
      "cell_type": "code",
      "execution_count": 27,
      "metadata": {
        "id": "vk_XRXQNw7OU"
      },
      "outputs": [],
      "source": [
        "# importing the abstract class and method support\n",
        "# from the abc package\n",
        "from abc import ABC, abstractmethod\n",
        "\n",
        "# an abstract class enforcing its non-instantiation\n",
        "# needs to be derived from the ABC class\n",
        "class AbstractClass(ABC):\n",
        "\n",
        "  # an abstract method needs to be marked with the @abstractmethod annotation\n",
        "  @abstractmethod\n",
        "  def abstract_method_1(self):\n",
        "    pass\n",
        "\n",
        "  # defining another abstract method\n",
        "  @abstractmethod\n",
        "  def abstract_method_2(self):\n",
        "    pass"
      ]
    },
    {
      "cell_type": "code",
      "source": [
        "# classes having abstract methods should not be instantiable\n",
        "# this is done automatically if the the classes are derived from the\n",
        "# ABC class from abc package\n",
        "# therefore the statement bellow will generate an error\n",
        "AbstractClass()"
      ],
      "metadata": {
        "colab": {
          "base_uri": "https://localhost:8080/",
          "height": 215
        },
        "id": "vse1NLNkjkDu",
        "outputId": "28eb1967-f7cb-4ee1-8be6-a823d16eb6ee"
      },
      "execution_count": 28,
      "outputs": [
        {
          "output_type": "error",
          "ename": "TypeError",
          "evalue": "ignored",
          "traceback": [
            "\u001b[0;31m---------------------------------------------------------------------------\u001b[0m",
            "\u001b[0;31mTypeError\u001b[0m                                 Traceback (most recent call last)",
            "\u001b[0;32m<ipython-input-28-94193227a800>\u001b[0m in \u001b[0;36m<cell line: 5>\u001b[0;34m()\u001b[0m\n\u001b[1;32m      3\u001b[0m \u001b[0;31m# ABC class from abc package\u001b[0m\u001b[0;34m\u001b[0m\u001b[0;34m\u001b[0m\u001b[0m\n\u001b[1;32m      4\u001b[0m \u001b[0;31m# therefore the statement bellow will generate an error\u001b[0m\u001b[0;34m\u001b[0m\u001b[0;34m\u001b[0m\u001b[0m\n\u001b[0;32m----> 5\u001b[0;31m \u001b[0mAbstractClass\u001b[0m\u001b[0;34m(\u001b[0m\u001b[0;34m)\u001b[0m\u001b[0;34m\u001b[0m\u001b[0;34m\u001b[0m\u001b[0m\n\u001b[0m",
            "\u001b[0;31mTypeError\u001b[0m: Can't instantiate abstract class AbstractClass with abstract methods abstract_method_1, abstract_method_2"
          ]
        }
      ]
    },
    {
      "cell_type": "markdown",
      "source": [
        "## Implementing abstract methods\n",
        "\n",
        "In order to be a instantiable, a class which is derived from an abstract class needs to implement all the abstract methods."
      ],
      "metadata": {
        "id": "1KYfSg_w5NEM"
      }
    },
    {
      "cell_type": "code",
      "source": [
        "# define a class which provides an implementation to only\n",
        "# a subset of the abstract methods\n",
        "class AbstractDerivedClass(AbstractClass):\n",
        "  def abstract_method_1(self):\n",
        "    print(\"Implementation of abstract method 1.\")"
      ],
      "metadata": {
        "id": "7_g99dLLSCQ_"
      },
      "execution_count": 29,
      "outputs": []
    },
    {
      "cell_type": "code",
      "source": [
        "# a class which provides implementation to only of a subset\n",
        "# of abstract methods is still not instantiable\n",
        "AbstractDerivedClass()"
      ],
      "metadata": {
        "colab": {
          "base_uri": "https://localhost:8080/",
          "height": 215
        },
        "id": "nLEB2O5SnTD8",
        "outputId": "4448aa71-6382-4790-f0cd-561f29259636"
      },
      "execution_count": 22,
      "outputs": [
        {
          "output_type": "error",
          "ename": "TypeError",
          "evalue": "ignored",
          "traceback": [
            "\u001b[0;31m---------------------------------------------------------------------------\u001b[0m",
            "\u001b[0;31mTypeError\u001b[0m                                 Traceback (most recent call last)",
            "\u001b[0;32m<ipython-input-22-c5e9e274b45f>\u001b[0m in \u001b[0;36m<cell line: 3>\u001b[0;34m()\u001b[0m\n\u001b[1;32m      1\u001b[0m \u001b[0;31m# a class which provides implementation to only of a subset\u001b[0m\u001b[0;34m\u001b[0m\u001b[0;34m\u001b[0m\u001b[0m\n\u001b[1;32m      2\u001b[0m \u001b[0;31m# of abstract methods is still not instantiable\u001b[0m\u001b[0;34m\u001b[0m\u001b[0;34m\u001b[0m\u001b[0m\n\u001b[0;32m----> 3\u001b[0;31m \u001b[0mAbstractDerivedClass\u001b[0m\u001b[0;34m(\u001b[0m\u001b[0;34m)\u001b[0m\u001b[0;34m\u001b[0m\u001b[0;34m\u001b[0m\u001b[0m\n\u001b[0m",
            "\u001b[0;31mTypeError\u001b[0m: Can't instantiate abstract class AbstractDerivedClass with abstract method abstract_method_2"
          ]
        }
      ]
    },
    {
      "cell_type": "code",
      "source": [
        "# define a class which provides full implementation\n",
        "# to all the abstract methods\n",
        "class ConcreteClass(AbstractDerivedClass):\n",
        "  def abstract_method_2(self):\n",
        "    print(\"Implementation of abstract method 2.\")"
      ],
      "metadata": {
        "id": "lEeFRJhjn7bj"
      },
      "execution_count": 24,
      "outputs": []
    },
    {
      "cell_type": "code",
      "source": [
        "# once implementation has been provided to all the abstract methods\n",
        "# the class will become instantiable\n",
        "ConcreteClass()"
      ],
      "metadata": {
        "colab": {
          "base_uri": "https://localhost:8080/"
        },
        "id": "-izoua59oI8l",
        "outputId": "a7ebca9e-8e16-415c-fee4-4d564a340b66"
      },
      "execution_count": 26,
      "outputs": [
        {
          "output_type": "execute_result",
          "data": {
            "text/plain": [
              "<__main__.ConcreteClass at 0x7d38c3ad5510>"
            ]
          },
          "metadata": {},
          "execution_count": 26
        }
      ]
    }
  ],
  "metadata": {
    "colab": {
      "provenance": []
    },
    "kernelspec": {
      "display_name": "Python 3",
      "name": "python3"
    },
    "language_info": {
      "name": "python"
    }
  },
  "nbformat": 4,
  "nbformat_minor": 0
}