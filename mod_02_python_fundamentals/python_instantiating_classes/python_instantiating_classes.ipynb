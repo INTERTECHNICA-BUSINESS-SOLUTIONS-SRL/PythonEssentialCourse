{
  "cells": [
    {
      "cell_type": "markdown",
      "metadata": {
        "id": "HoOwWSVgv-IC"
      },
      "source": [
        "# Class Instantiation\n",
        "\n",
        "Class instantiation mechanism is the mechanism used for creating objects (instances) of a certain class type."
      ]
    },
    {
      "cell_type": "code",
      "execution_count": 2,
      "metadata": {
        "id": "vk_XRXQNw7OU"
      },
      "outputs": [],
      "source": [
        "# defining a class representing a commercial product\n",
        "class CommercialProduct :\n",
        "\n",
        "  # the getter method for the name attribute\n",
        "  def get_name(self) :\n",
        "    if hasattr(self, \"_name\"):\n",
        "      return self._name\n",
        "    else:\n",
        "      return None\n",
        "\n",
        "  # the setter method for the name attribute\n",
        "  def set_name(self, name_value):\n",
        "    self._name = name_value"
      ]
    },
    {
      "cell_type": "code",
      "source": [
        "# let's create a first instance of the class and set its properties\n",
        "# the dot notation is used for method calling\n",
        "electronics_product = CommercialProduct()\n",
        "electronics_product.set_name(\"Electronics\")\n",
        "\n",
        "# let's create a second instance of the commercial product\n",
        "# and set its properties to a different value\n",
        "food_product = CommercialProduct()\n",
        "food_product.set_name(\"Food\")\n",
        "\n",
        "# the properties of the objects have their it own values\n",
        "# the objects' state is not shared\n",
        "print(\"Electronics product name is: {0}\".format(electronics_product.get_name()))\n",
        "print(\"Food product name is: {0}\".format(food_product.get_name()))"
      ],
      "metadata": {
        "colab": {
          "base_uri": "https://localhost:8080/"
        },
        "id": "tPaW_FvRDzUF",
        "outputId": "f5dac231-61a0-47f7-a541-0469421d15c1"
      },
      "execution_count": 3,
      "outputs": [
        {
          "output_type": "stream",
          "name": "stdout",
          "text": [
            "Electronics product name is: Electronics\n",
            "Food product name is: Food\n"
          ]
        }
      ]
    },
    {
      "cell_type": "code",
      "source": [
        "# the class attributes prefixed with an underscore\n",
        "# are directly accessible from the instances\n",
        "# however direct access of such attributes is discouraged\n",
        "print(\"Electronics product name is: {0}\".format(electronics_product._name))\n",
        "print(\"Food product name is: {0}\".format(food_product._name))"
      ],
      "metadata": {
        "colab": {
          "base_uri": "https://localhost:8080/"
        },
        "id": "B2n_gK7h3aFJ",
        "outputId": "cf4d984e-da9d-4e22-8c3b-f07708d72309"
      },
      "execution_count": 4,
      "outputs": [
        {
          "output_type": "stream",
          "name": "stdout",
          "text": [
            "Electronics product name is: Electronics\n",
            "Food product name is: Food\n"
          ]
        }
      ]
    }
  ],
  "metadata": {
    "colab": {
      "provenance": []
    },
    "kernelspec": {
      "display_name": "Python 3",
      "name": "python3"
    },
    "language_info": {
      "name": "python"
    }
  },
  "nbformat": 4,
  "nbformat_minor": 0
}