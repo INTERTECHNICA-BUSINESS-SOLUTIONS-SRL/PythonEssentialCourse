{
  "nbformat": 4,
  "nbformat_minor": 0,
  "metadata": {
    "colab": {
      "provenance": []
    },
    "kernelspec": {
      "name": "python3",
      "display_name": "Python 3"
    },
    "language_info": {
      "name": "python"
    }
  },
  "cells": [
    {
      "cell_type": "markdown",
      "source": [
        "# Importing modules\n",
        "\n",
        "Once modules have been defined they need to be imported for further usage.\n",
        "Importing a module (either in part or in integrality) can be done via the **import** statement."
      ],
      "metadata": {
        "id": "HoOwWSVgv-IC"
      }
    },
    {
      "cell_type": "markdown",
      "source": [
        "## Importing a module in integrality and exploring its content\n",
        "Importing a module in integrality via the import \\< *modulename* \\> statement.\n",
        "The content of the module can be accessed via the **dir** method and its documentation accessed via the **\\_\\_doc__** property."
      ],
      "metadata": {
        "id": "gB_wJkrmwlDZ"
      }
    },
    {
      "cell_type": "code",
      "source": [
        "# import the module under a custom, shortened name\n",
        "import minmax as mnmx\n",
        "\n",
        "# display the module's content\n",
        "print(\"\\nThe module's name is {0} \\n\".format(mnmx.__name__), end=\"-\"*100)\n",
        "print(\"\\nThe module's doc string is: \\n\\n {0} \\n\".format(mnmx.__doc__), end=\"-\"*100)\n",
        "print(\"\\nThe module's content is: \\n\\n {0} \\n\".format(dir(mnmx)), end=\"-\"*100)"
      ],
      "metadata": {
        "id": "vk_XRXQNw7OU",
        "colab": {
          "base_uri": "https://localhost:8080/"
        },
        "outputId": "8def992c-4f61-4d7a-8eee-307f1fc87e14"
      },
      "execution_count": 1,
      "outputs": [
        {
          "output_type": "stream",
          "name": "stdout",
          "text": [
            "\n",
            "The module's name is minmax \n",
            "----------------------------------------------------------------------------------------------------\n",
            "The module's doc string is: \n",
            "\n",
            " This module allows calculation of minimum and maximum values \n",
            "from a collection of values.\n",
            "\n",
            "It exports the min_value function for calculation of minimum values and \n",
            "max_value function for calculation of the maximum value.\n",
            " \n",
            "----------------------------------------------------------------------------------------------------\n",
            "The module's content is: \n",
            "\n",
            " ['_RELEASE_DATE', '_SUBVERSION', '_VERSION', '__builtins__', '__cached__', '__doc__', '__file__', '__loader__', '__name__', '__package__', '__spec__', 'max_value', 'min_value'] \n",
            "----------------------------------------------------------------------------------------------------"
          ]
        }
      ]
    },
    {
      "cell_type": "markdown",
      "source": [
        "## Using the module's exported functionality\n",
        "\n",
        "The exported functionality can be used by qualifying the exported element's name with the name of the module used at import (dot notation)."
      ],
      "metadata": {
        "id": "hXvHz2H8VmEI"
      }
    },
    {
      "cell_type": "code",
      "source": [
        "# use the module's exported functionality\n",
        "data = [0, 1, 2, 3, 4, 5, 6, 7, 8, 9]\n",
        "\n",
        "print(\"Minimal value is: {0:d}\".format(mnmx.min_value(data)))\n",
        "print(\"Maximal value is: {0:d}\".format(mnmx.max_value(data)))"
      ],
      "metadata": {
        "id": "pmxplEeAYkfx",
        "colab": {
          "base_uri": "https://localhost:8080/"
        },
        "outputId": "b0e3f825-bac4-498f-90df-a15604eee884"
      },
      "execution_count": 2,
      "outputs": [
        {
          "output_type": "stream",
          "name": "stdout",
          "text": [
            "Minimal value is: 0\n",
            "Maximal value is: 9\n"
          ]
        }
      ]
    }
  ]
}