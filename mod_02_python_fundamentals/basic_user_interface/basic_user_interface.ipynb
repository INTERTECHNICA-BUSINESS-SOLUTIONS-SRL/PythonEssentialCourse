{
  "cells": [
    {
      "cell_type": "markdown",
      "metadata": {
        "id": "HoOwWSVgv-IC"
      },
      "source": [
        "# Basic user interface\n",
        "\n",
        "Basic user interface functions allow data reading and displaying to the users of an application."
      ]
    },
    {
      "cell_type": "markdown",
      "metadata": {
        "id": "gB_wJkrmwlDZ"
      },
      "source": [
        "## The input function\n",
        "The input function allows reading of data from the standard user interface input (usually the system's console).\n",
        "\n",
        "The function displays a used defined prompt that guides the application operator in regards with the data that needs to be specified."
      ]
    },
    {
      "cell_type": "code",
      "execution_count": 1,
      "metadata": {
        "colab": {
          "base_uri": "https://localhost:8080/"
        },
        "id": "vk_XRXQNw7OU",
        "outputId": "90d90972-00d8-4f11-ba86-57776b376900"
      },
      "outputs": [
        {
          "name": "stdout",
          "output_type": "stream",
          "text": [
            "Please provide [First Name]:John\n",
            "Please provide [Last Name]:Smith\n",
            "Please provide [Age]:70\n",
            "First Name: John \n",
            "Last Name: Smith \n",
            "Age: 70\n"
          ]
        }
      ],
      "source": [
        "# implement a code block that reads basic person data\n",
        "# from the console\n",
        "first_name = input(\"Please provide [First Name]:\")\n",
        "last_name = input(\"Please provide [Last Name]:\")\n",
        "age = input(\"Please provide [Age]:\")\n",
        "\n",
        "# print person information\n",
        "print(\"First Name:\", first_name, \"\\nLast Name:\", last_name, \"\\nAge:\", age)"
      ]
    },
    {
      "cell_type": "markdown",
      "metadata": {
        "id": "Se8xCscAICSC"
      },
      "source": [
        "## The print function\n",
        "The print function allows the application to display information at the system's console.\n",
        "\n",
        "The print function allows extra formatting of the displayed data via the following parameters:\n",
        "\n",
        "*   sep - the separator between displayed values\n",
        "*   end - the textual data displayed at the end"
      ]
    },
    {
      "cell_type": "code",
      "execution_count": 2,
      "metadata": {
        "colab": {
          "base_uri": "https://localhost:8080/"
        },
        "id": "X9-FZvIEIPz7",
        "outputId": "bd283a44-bb4d-438e-97a5-94a014e88197"
      },
      "outputs": [
        {
          "name": "stdout",
          "output_type": "stream",
          "text": [
            "First Name:John\n",
            "Last Name:Smith\n",
            "Age:70\n",
            "------------------"
          ]
        }
      ],
      "source": [
        "# initialize data for printing\n",
        "first_name, last_name, age = \"John\", \"Smith\", 70\n",
        "\n",
        "# print the data using the print function's capabilities\n",
        "print(\"First Name:\" + first_name, \"Last Name:\" + last_name, \"Age:\" + str(age), sep = \"\\n\", end = \"\\n------------------\")"
      ]
    }
  ],
  "metadata": {
    "colab": {
      "provenance": []
    },
    "kernelspec": {
      "display_name": "Python 3",
      "name": "python3"
    },
    "language_info": {
      "name": "python"
    }
  },
  "nbformat": 4,
  "nbformat_minor": 0
}
