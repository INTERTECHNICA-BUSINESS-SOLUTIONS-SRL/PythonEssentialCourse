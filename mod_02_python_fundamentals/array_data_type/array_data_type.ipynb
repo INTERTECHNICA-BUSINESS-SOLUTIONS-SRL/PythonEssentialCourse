{
  "cells": [
    {
      "cell_type": "markdown",
      "metadata": {
        "id": "HoOwWSVgv-IC"
      },
      "source": [
        "# Array data type\n",
        "This notebook focuses on presenting the Python arrays which are represented by a special collection data type called **list**."
      ]
    },
    {
      "cell_type": "markdown",
      "metadata": {
        "id": "gB_wJkrmwlDZ"
      },
      "source": [
        "## Creating arrays\n",
        "Let's focus on creating initialized arrays."
      ]
    },
    {
      "cell_type": "code",
      "execution_count": 7,
      "metadata": {
        "colab": {
          "base_uri": "https://localhost:8080/"
        },
        "id": "vk_XRXQNw7OU",
        "outputId": "3a404b82-0aa7-4c3f-d087-8e2d218e8ebf"
      },
      "outputs": [
        {
          "name": "stdout",
          "output_type": "stream",
          "text": [
            "[] \n",
            "\n",
            " [1, 2, 3, 4, 5, 6, 7, 8, 9, 10] \n",
            "\n",
            " [1, 1.5, (1+1j), 'one', True] \n",
            "\n",
            " [[1, 2], [3, 4]]\n"
          ]
        }
      ],
      "source": [
        "# creating arrays\n",
        "empty_array = []\n",
        "homogenous_array = [1, 2, 3, 4, 5, 6 , 7, 8, 9, 10]\n",
        "heterogenous_array = [1, 1.5, (1 + 1j), \"one\", True]\n",
        "multidimensional_array = [[1, 2], [3, 4]]\n",
        "\n",
        "print(empty_array, \"\\n\\n\", homogenous_array, \"\\n\\n\", heterogenous_array, \"\\n\\n\", multidimensional_array)"
      ]
    },
    {
      "cell_type": "markdown",
      "metadata": {
        "id": "6r5jv-ONzlmp"
      },
      "source": [
        "## Manipulating arrays\n",
        "Let's explore how arrays elements can be manipulated."
      ]
    },
    {
      "cell_type": "code",
      "execution_count": 8,
      "metadata": {
        "colab": {
          "base_uri": "https://localhost:8080/"
        },
        "id": "OpFYHKl1zptY",
        "outputId": "ea78f796-87ba-409b-ddfa-1dab090669c5"
      },
      "outputs": [
        {
          "name": "stdout",
          "output_type": "stream",
          "text": [
            "Initial array is:  [0, 1, 2, 3, 4, 5, 6, 7, 8, 9]\n",
            "Changing initial array leads to:  [1, 1, 2, 3, 4, 5, 6, 7, 8, 9]\n",
            "Adding an element to array leads to:  [1, 1, 2, 3, 4, 5, 6, 7, 8, 9, 10]\n",
            "Deleting an element from the array leads to:  [1, 2, 3, 4, 5, 6, 7, 8, 9, 10]\n"
          ]
        }
      ],
      "source": [
        "# create an initialized array\n",
        "initial_array = [0, 1, 2 , 3, 4, 5, 6, 7, 8, 9]\n",
        "print(\"Initial array is: \", initial_array)\n",
        "\n",
        "# change an element in the array\n",
        "initial_array[0] = 1\n",
        "print(\"Changing initial array leads to: \", initial_array)\n",
        "\n",
        "# add an element to the array via array concatenation\n",
        "initial_array = initial_array + [10]\n",
        "print(\"Adding an element to array leads to: \", initial_array)\n",
        "\n",
        "# remove an element from an array\n",
        "del initial_array[0]\n",
        "print(\"Deleting an element from the array leads to: \", initial_array)"
      ]
    },
    {
      "cell_type": "markdown",
      "metadata": {},
      "source": [
        "## Using the range function\n",
        "Let's explore how the range function can be used for handling arrays."
      ]
    },
    {
      "cell_type": "code",
      "execution_count": 9,
      "metadata": {},
      "outputs": [
        {
          "name": "stdout",
          "output_type": "stream",
          "text": [
            "The generated range starting from 0 having 10 elements is:  [0, 1, 2, 3, 4, 5, 6, 7, 8, 9]\n",
            "The generated range of odd numbers between 0 - 10 is:  [1, 3, 5, 7, 9]\n"
          ]
        }
      ],
      "source": [
        "# initialize an array having 10 elements starting from 0\n",
        "array_0_10 = list(range(10))\n",
        "print(\"The generated range starting from 0 having 10 elements is: \", array_0_10)\n",
        "\n",
        "# let's generate the odd numbers between 0 - 10\n",
        "array_0_10_odd_numbers = list(range(1, 10, 2))\n",
        "print(\"The generated range of odd numbers between 0 - 10 is: \", array_0_10_odd_numbers)"
      ]
    },
    {
      "cell_type": "markdown",
      "metadata": {},
      "source": [
        "## Practice and homework\n",
        "Please follow the instructions in the following cells and solve the associated challenges."
      ]
    },
    {
      "cell_type": "code",
      "execution_count": 10,
      "metadata": {},
      "outputs": [],
      "source": [
        "# create an array containing all the numbers from 0 to 10 (exclusive) so that even elements are in numeric form \n",
        "# and the odd elements are in textual form \n",
        "# e.g. [0, \"one\" ...] "
      ]
    },
    {
      "cell_type": "code",
      "execution_count": 11,
      "metadata": {},
      "outputs": [],
      "source": [
        "# create two arrays containing all the numbers from 0 to 10 (exclusive) so that the first array has these elements\n",
        "# in numeric form and the second array has these elements in textual form\n",
        "# create a multidimensional array having the first element being the first array and the second element being the second array"
      ]
    },
    {
      "cell_type": "code",
      "execution_count": 12,
      "metadata": {},
      "outputs": [],
      "source": [
        "# create two arrays as follows:\n",
        "\n",
        "# the first array contains all the natural numbers from 0 to 100 (inclusive)\n",
        "# the second array contains only the even numbers from 0 to 100 (inclusive)"
      ]
    }
  ],
  "metadata": {
    "colab": {
      "provenance": []
    },
    "kernelspec": {
      "display_name": "Python 3",
      "name": "python3"
    },
    "language_info": {
      "codemirror_mode": {
        "name": "ipython",
        "version": 3
      },
      "file_extension": ".py",
      "mimetype": "text/x-python",
      "name": "python",
      "nbconvert_exporter": "python",
      "pygments_lexer": "ipython3",
      "version": "3.9.7"
    }
  },
  "nbformat": 4,
  "nbformat_minor": 0
}
