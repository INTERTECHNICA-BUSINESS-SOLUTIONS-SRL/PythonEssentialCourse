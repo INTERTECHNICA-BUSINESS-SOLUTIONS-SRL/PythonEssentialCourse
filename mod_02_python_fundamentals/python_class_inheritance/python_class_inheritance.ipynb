{
  "cells": [
    {
      "cell_type": "markdown",
      "metadata": {
        "id": "HoOwWSVgv-IC"
      },
      "source": [
        "# Python Class Inheritance\n",
        "\n",
        "Python allows a class from inheriting from one or more super classes.\n",
        "\n",
        "A central issues in case of inheritance is determining the context on which a method should be invoked, in other terms what class from the hierarchy will provide the environment for calling the method. This is determined automatically by Python using a method resolution algoritm called the C3 class linearization algorithm.\n",
        "The metod resolution order can be determined by calling the mro() method o a specific class.\n",
        "\n",
        "Furthermore, Python provides a super() function which returns a surrogate object representing the super classes in the hierarchy."
      ]
    },
    {
      "cell_type": "code",
      "execution_count": 4,
      "metadata": {
        "id": "vk_XRXQNw7OU"
      },
      "outputs": [],
      "source": [
        "# define the root class\n",
        "class SimpleProduct :\n",
        "  def get_name(self):\n",
        "    return \"Simple Product\"\n",
        "\n",
        "# define a level 1 derived class\n",
        "class TaxableProduct(SimpleProduct):\n",
        "  def get_name(self):\n",
        "    return \"Taxable Product\"\n",
        "\n",
        "# define another level 1 derived class\n",
        "class LimitedAvailabilityProduct(SimpleProduct):\n",
        "  def get_name(self):\n",
        "    return \"Limited Availability Product\"\n",
        "\n",
        "# define a level 2 class derived from both super classes\n",
        "class LimitedEditionProduct(TaxableProduct, LimitedAvailabilityProduct):\n",
        "  # explicit super class calls can be performed by specifying\n",
        "  # the parent classes names in a dot notation\n",
        "  def get_product_type_labels(self):\n",
        "    return [TaxableProduct.get_name(self), LimitedAvailabilityProduct.get_name(self)]"
      ]
    },
    {
      "cell_type": "code",
      "source": [
        "# determine the method resolution order\n",
        "print(\"The method resolution order for class {0} is {1}\".format(LimitedEditionProduct, LimitedEditionProduct.mro()))"
      ],
      "metadata": {
        "colab": {
          "base_uri": "https://localhost:8080/"
        },
        "id": "QEZtSZiEJoHZ",
        "outputId": "402b4761-0fcb-485b-c273-b57c356291d9"
      },
      "execution_count": 5,
      "outputs": [
        {
          "output_type": "stream",
          "name": "stdout",
          "text": [
            "The method resolution order for class <class '__main__.LimitedEditionProduct'> is [<class '__main__.LimitedEditionProduct'>, <class '__main__.TaxableProduct'>, <class '__main__.LimitedAvailabilityProduct'>, <class '__main__.SimpleProduct'>, <class 'object'>]\n"
          ]
        }
      ]
    },
    {
      "cell_type": "code",
      "source": [
        "# call the method which trigger explicit super class methods invocations\n",
        "limited_edition_product = LimitedEditionProduct()\n",
        "print(\"The limited edition product type labels are: {0}\".format(limited_edition_product.get_product_type_labels()))"
      ],
      "metadata": {
        "colab": {
          "base_uri": "https://localhost:8080/"
        },
        "outputId": "16aa723e-d853-421a-c411-ccb78137184e",
        "id": "7_g99dLLSCQ_"
      },
      "execution_count": 6,
      "outputs": [
        {
          "output_type": "stream",
          "name": "stdout",
          "text": [
            "The limited edition product type labels are: ['Taxable Product', 'Limited Availability Product']\n"
          ]
        }
      ]
    }
  ],
  "metadata": {
    "colab": {
      "provenance": []
    },
    "kernelspec": {
      "display_name": "Python 3",
      "name": "python3"
    },
    "language_info": {
      "name": "python"
    }
  },
  "nbformat": 4,
  "nbformat_minor": 0
}