{
  "cells": [
    {
      "cell_type": "markdown",
      "metadata": {
        "id": "HoOwWSVgv-IC"
      },
      "source": [
        "# Python: Creating and Raising Exceptions\n",
        "\n",
        "Python allows creation of custom exceptions representing various anomalous events that can occur in the normal execution flow of an application."
      ]
    },
    {
      "cell_type": "markdown",
      "metadata": {
        "id": "rlLBsXrBmnQy"
      },
      "source": [
        "## Creating exceptions\n",
        "\n",
        "Custom exceptions are created by extending the Exception class or classes derived from it."
      ]
    },
    {
      "cell_type": "code",
      "execution_count": 1,
      "metadata": {
        "colab": {
          "base_uri": "https://localhost:8080/"
        },
        "id": "vk_XRXQNw7OU",
        "outputId": "7446fc6d-1e27-4337-9768-75d010bee584"
      },
      "outputs": [],
      "source": [
        "# exceptions are defined by extending the Exception class\n",
        "# or other classes derived from it\n",
        "class MissingValueException(Exception) : pass\n",
        "class InvalidValueException(Exception) : pass\n",
        "class InvalidYearException(InvalidValueException) : pass"
      ]
    },
    {
      "cell_type": "markdown",
      "metadata": {},
      "source": [
        "## Obtaining exception information\n",
        "\n",
        "The Exception class provides extensive support for adding diagnostic information in order to identify and remedy the anomalous events in the normal execution flow of the application."
      ]
    },
    {
      "cell_type": "code",
      "execution_count": 2,
      "metadata": {},
      "outputs": [
        {
          "name": "stdout",
          "output_type": "stream",
          "text": [
            "Exception's message is 'The provided value does not represent a valid year value'\n",
            "The following note was attached to the exception: 'The exception was created for demonstration purposes'\n",
            "The following note was attached to the exception: 'It does not necessarily represents an anomalous condition'\n"
          ]
        }
      ],
      "source": [
        "# a basic way to create exceptions is simply instantiating the exception class\n",
        "# a message can be passed during the exception instantiation containing descriptive information\n",
        "# about the cause of the exception\n",
        "exception = InvalidYearException(\"The provided value does not represent a valid year value\")\n",
        "\n",
        "# from version 3.11 Python allows adding notes to the exception \n",
        "# in order to enhance its descriptive value \n",
        "exception.add_note(\"The exception was created for demonstration purposes\")\n",
        "exception.add_note(\"It does not necessarily represents an anomalous condition\")\n",
        "\n",
        "# the exception's message is available directly from its object's string representation\n",
        "print(\"Exception's message is '{0}'\".format(str(exception)))\n",
        "\n",
        "# the notes added to the exception can be accessed via the __notes__ attribute\n",
        "for note in exception.__notes__ :\n",
        "    print(\"The following note was attached to the exception: '{0}'\".format(note))"
      ]
    },
    {
      "cell_type": "markdown",
      "metadata": {
        "id": "1KYfSg_w5NEM"
      },
      "source": [
        "## Raising exceptions\n",
        "\n",
        "Python allows raising exceptions by using the **raise** keyword. An exception can be raised from another exception."
      ]
    },
    {
      "cell_type": "code",
      "execution_count": 3,
      "metadata": {
        "colab": {
          "base_uri": "https://localhost:8080/"
        },
        "id": "7_g99dLLSCQ_",
        "outputId": "954fadfc-e48e-4a2a-aece-7ba69284e176"
      },
      "outputs": [
        {
          "ename": "InvalidYearException",
          "evalue": "No data is available",
          "output_type": "error",
          "traceback": [
            "\u001b[1;31m---------------------------------------------------------------------------\u001b[0m",
            "\u001b[1;31mInvalidYearException\u001b[0m                      Traceback (most recent call last)",
            "\u001b[1;32md:\\Projects\\courses\\PythonEssentials\\content\\src\\content\\mod_02_python_fundamentals\\content\\python_creating_and_raising_exceptions\\notebooks\\python_creating_and_raising_exceptions.ipynb Cell 7\u001b[0m line \u001b[0;36m4\n\u001b[0;32m      <a href='vscode-notebook-cell:/d%3A/Projects/courses/PythonEssentials/content/src/content/mod_02_python_fundamentals/content/python_creating_and_raising_exceptions/notebooks/python_creating_and_raising_exceptions.ipynb#W6sZmlsZQ%3D%3D?line=0'>1</a>\u001b[0m \u001b[39m# let's raise an exception in a simple manner providing an error message as well \u001b[39;00m\n\u001b[0;32m      <a href='vscode-notebook-cell:/d%3A/Projects/courses/PythonEssentials/content/src/content/mod_02_python_fundamentals/content/python_creating_and_raising_exceptions/notebooks/python_creating_and_raising_exceptions.ipynb#W6sZmlsZQ%3D%3D?line=1'>2</a>\u001b[0m \u001b[39m# this will generate an error message \u001b[39;00m\n\u001b[1;32m----> <a href='vscode-notebook-cell:/d%3A/Projects/courses/PythonEssentials/content/src/content/mod_02_python_fundamentals/content/python_creating_and_raising_exceptions/notebooks/python_creating_and_raising_exceptions.ipynb#W6sZmlsZQ%3D%3D?line=3'>4</a>\u001b[0m \u001b[39mraise\u001b[39;00m InvalidYearException(\u001b[39m\"\u001b[39m\u001b[39mNo data is available\u001b[39m\u001b[39m\"\u001b[39m)\n",
            "\u001b[1;31mInvalidYearException\u001b[0m: No data is available"
          ]
        }
      ],
      "source": [
        "# let's raise an exception in a simple manner providing an error message as well \n",
        "# this will generate an error message \n",
        "raise InvalidYearException(\"No data is available\")"
      ]
    },
    {
      "cell_type": "code",
      "execution_count": 5,
      "metadata": {},
      "outputs": [
        {
          "ename": "InvalidYearException",
          "evalue": "The provided data is invalid",
          "output_type": "error",
          "traceback": [
            "\u001b[1;31m---------------------------------------------------------------------------\u001b[0m",
            "\u001b[1;31mMissingValueException\u001b[0m                     Traceback (most recent call last)",
            "\u001b[1;31mMissingValueException\u001b[0m: No data is available",
            "\nThe above exception was the direct cause of the following exception:\n",
            "\u001b[1;31mInvalidYearException\u001b[0m                      Traceback (most recent call last)",
            "\u001b[1;32md:\\Projects\\courses\\PythonEssentials\\content\\src\\content\\mod_02_python_fundamentals\\content\\python_creating_and_raising_exceptions\\notebooks\\python_creating_and_raising_exceptions.ipynb Cell 8\u001b[0m line \u001b[0;36m3\n\u001b[0;32m      <a href='vscode-notebook-cell:/d%3A/Projects/courses/PythonEssentials/content/src/content/mod_02_python_fundamentals/content/python_creating_and_raising_exceptions/notebooks/python_creating_and_raising_exceptions.ipynb#X10sZmlsZQ%3D%3D?line=0'>1</a>\u001b[0m \u001b[39m# we can also raise an exception from another source exception\u001b[39;00m\n\u001b[1;32m----> <a href='vscode-notebook-cell:/d%3A/Projects/courses/PythonEssentials/content/src/content/mod_02_python_fundamentals/content/python_creating_and_raising_exceptions/notebooks/python_creating_and_raising_exceptions.ipynb#X10sZmlsZQ%3D%3D?line=2'>3</a>\u001b[0m \u001b[39mraise\u001b[39;00m InvalidYearException(\u001b[39m\"\u001b[39m\u001b[39mThe provided data is invalid\u001b[39m\u001b[39m\"\u001b[39m) \u001b[39mfrom\u001b[39;00m \u001b[39mMissingValueException\u001b[39;00m(\u001b[39m\"\u001b[39m\u001b[39mNo data is available\u001b[39m\u001b[39m\"\u001b[39m)\n",
            "\u001b[1;31mInvalidYearException\u001b[0m: The provided data is invalid"
          ]
        }
      ],
      "source": [
        "# we can also raise an exception from another source exception\n",
        "raise InvalidYearException(\"The provided data is invalid\") from MissingValueException(\"No data is available\")"
      ]
    }
  ],
  "metadata": {
    "colab": {
      "provenance": []
    },
    "kernelspec": {
      "display_name": "Python 3",
      "name": "python3"
    },
    "language_info": {
      "codemirror_mode": {
        "name": "ipython",
        "version": 3
      },
      "file_extension": ".py",
      "mimetype": "text/x-python",
      "name": "python",
      "nbconvert_exporter": "python",
      "pygments_lexer": "ipython3",
      "version": "3.11.5"
    }
  },
  "nbformat": 4,
  "nbformat_minor": 0
}
