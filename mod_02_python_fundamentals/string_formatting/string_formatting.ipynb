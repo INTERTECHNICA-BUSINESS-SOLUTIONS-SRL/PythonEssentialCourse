{
  "cells": [
    {
      "cell_type": "markdown",
      "metadata": {
        "id": "HoOwWSVgv-IC"
      },
      "source": [
        "# String formatting\n",
        "\n",
        "String formatting allows creation of complex text values by combining different data values and formatting rules."
      ]
    },
    {
      "cell_type": "markdown",
      "metadata": {
        "id": "gB_wJkrmwlDZ"
      },
      "source": [
        "## The format function\n",
        "The format function is one of the standard methods to format strings using placeholders, values and formatting rules."
      ]
    },
    {
      "cell_type": "code",
      "execution_count": 19,
      "metadata": {
        "colab": {
          "base_uri": "https://localhost:8080/"
        },
        "id": "vk_XRXQNw7OU",
        "outputId": "8b8b248d-4679-48c2-c199-8a817a4a1e95"
      },
      "outputs": [
        {
          "name": "stdout",
          "output_type": "stream",
          "text": [
            "First Name: John \n",
            "Last Name: Smith \n",
            "Age:70\n",
            "---------------\n",
            "First Name: John \n",
            "Last Name: Smith \n",
            "Age:70\n",
            "---------------\n",
            "Value 100 represented as general number: 100, hexadecimal value: 64 and octal value 144 and percentage 10000.000000%\n",
            "---------------\n",
            "Value 3.1415926 represented with standard number of decimals: 3.141593 and 2 decimals: 3.14\n",
            "---------------\n"
          ]
        }
      ],
      "source": [
        "# formatting using positional parameter values\n",
        "print(\n",
        "    \"First Name: {0} \\nLast Name: {1} \\nAge:{2}\".format(\n",
        "        \"John\",\n",
        "        \"Smith\",\n",
        "        70\n",
        "      ),\n",
        "      end=\"\\n---------------\\n\"\n",
        ")\n",
        "# formatting using keyword parameter values\n",
        "print(\n",
        "    \"First Name: {first_name} \\nLast Name: {last_name} \\nAge:{age}\".format(\n",
        "        first_name=\"John\",\n",
        "        last_name=\"Smith\",\n",
        "        age=70\n",
        "      ),\n",
        "      end=\"\\n---------------\\n\"\n",
        ")\n",
        "# print a numerical value as standard number, hexadecimal, octal and percentage formats\n",
        "print(\n",
        "    \"Value {0} represented as general number: {0:n}, hexadecimal value: {0:x} and octal value {0:o} and percentage {0:%}\".format(\n",
        "        100\n",
        "      ),\n",
        "      end=\"\\n---------------\\n\"\n",
        ")\n",
        "# print a numerical value with a different number of decimals\n",
        "print(\n",
        "    \"Value {0} represented with standard number of decimals: {0:f} and 2 decimals: {0:.2f}\".format(\n",
        "        3.1415926\n",
        "      ),\n",
        "      end=\"\\n---------------\\n\"\n",
        ")"
      ]
    }
  ],
  "metadata": {
    "colab": {
      "provenance": []
    },
    "kernelspec": {
      "display_name": "Python 3",
      "name": "python3"
    },
    "language_info": {
      "codemirror_mode": {
        "name": "ipython",
        "version": 3
      },
      "file_extension": ".py",
      "mimetype": "text/x-python",
      "name": "python",
      "nbconvert_exporter": "python",
      "pygments_lexer": "ipython3",
      "version": "3.9.7"
    }
  },
  "nbformat": 4,
  "nbformat_minor": 0
}
