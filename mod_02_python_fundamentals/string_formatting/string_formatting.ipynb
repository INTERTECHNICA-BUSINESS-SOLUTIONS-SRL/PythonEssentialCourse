{
  "cells": [
    {
      "cell_type": "markdown",
      "metadata": {
        "id": "HoOwWSVgv-IC"
      },
      "source": [
        "# String formatting\n",
        "\n",
        "String formatting allows creation of complex text values by combining different data values and formatting rules."
      ]
    },
    {
      "cell_type": "markdown",
      "metadata": {
        "id": "gB_wJkrmwlDZ"
      },
      "source": [
        "## The format function\n",
        "The format function is one of the standard methods to format strings using placeholders, values and formatting rules."
      ]
    },
    {
      "cell_type": "code",
      "execution_count": 19,
      "metadata": {
        "colab": {
          "base_uri": "https://localhost:8080/"
        },
        "id": "vk_XRXQNw7OU",
        "outputId": "8b8b248d-4679-48c2-c199-8a817a4a1e95"
      },
      "outputs": [
        {
          "name": "stdout",
          "output_type": "stream",
          "text": [
            "First Name: John \n",
            "Last Name: Smith \n",
            "Age:70\n",
            "---------------\n",
            "First Name: John \n",
            "Last Name: Smith \n",
            "Age:70\n",
            "---------------\n",
            "Value 100 represented as general number: 100, hexadecimal value: 64 and octal value 144 and percentage 10000.000000%\n",
            "---------------\n",
            "Value 3.1415926 represented with standard number of decimals: 3.141593 and 2 decimals: 3.14\n",
            "---------------\n"
          ]
        }
      ],
      "source": [
        "# formatting using positional parameter values\n",
        "print(\n",
        "    \"First Name: {0} \\nLast Name: {1} \\nAge:{2}\".format(\n",
        "        \"John\",\n",
        "        \"Smith\",\n",
        "        70\n",
        "      ),\n",
        "      end=\"\\n---------------\\n\"\n",
        ")\n",
        "# formatting using keyword parameter values\n",
        "print(\n",
        "    \"First Name: {first_name} \\nLast Name: {last_name} \\nAge:{age}\".format(\n",
        "        first_name=\"John\",\n",
        "        last_name=\"Smith\",\n",
        "        age=70\n",
        "      ),\n",
        "      end=\"\\n---------------\\n\"\n",
        ")\n",
        "# print a numerical value as standard number, hexadecimal, octal and percentage formats\n",
        "print(\n",
        "    \"Value {0} represented as general number: {0:n}, hexadecimal value: {0:x} and octal value {0:o} and percentage {0:%}\".format(\n",
        "        100\n",
        "      ),\n",
        "      end=\"\\n---------------\\n\"\n",
        ")\n",
        "# print a numerical value with a different number of decimals\n",
        "print(\n",
        "    \"Value {0} represented with standard number of decimals: {0:f} and 2 decimals: {0:.2f}\".format(\n",
        "        3.1415926\n",
        "      ),\n",
        "      end=\"\\n---------------\\n\"\n",
        ")"
      ]
    },
    {
      "cell_type": "markdown",
      "metadata": {},
      "source": [
        "## Practice and homework\n",
        "Please follow the instructions and solve the associated challenges."
      ]
    },
    {
      "cell_type": "code",
      "execution_count": null,
      "metadata": {},
      "outputs": [],
      "source": [
        "# We have collected data on the latest email marketing campaigns run by our company.\n",
        "# The data is available as a list of tuples in the form of, each tuple having \n",
        "# the following structure:\n",
        "# \n",
        "# element 0: integer: the id of the campaign\n",
        "# element 1: string: the name of the campaign \n",
        "# element 2: integer: the count of emails sent\n",
        "# element 3: float: the conversion rate (between 0 and 1 inclusive)\n",
        "# \n",
        "# 1. Please implement a program that displays this data in a tabular form as follows:\n",
        "# first colum: the campaign's id printed in hexadecimal using exactly 9 digits (use trailing zeroes);\n",
        "# second column: the campaign's name using exactly 50 characters;\n",
        "# third column: the number of campaign emails using exactly 9 digits;\n",
        "# fourth column: the conversion rate as a percent (use two decimals after the decimal point);\n",
        "# All fields must be separated by tabs."
      ]
    }
  ],
  "metadata": {
    "colab": {
      "provenance": []
    },
    "kernelspec": {
      "display_name": "Python 3",
      "name": "python3"
    },
    "language_info": {
      "codemirror_mode": {
        "name": "ipython",
        "version": 3
      },
      "file_extension": ".py",
      "mimetype": "text/x-python",
      "name": "python",
      "nbconvert_exporter": "python",
      "pygments_lexer": "ipython3",
      "version": "3.9.7"
    }
  },
  "nbformat": 4,
  "nbformat_minor": 0
}
