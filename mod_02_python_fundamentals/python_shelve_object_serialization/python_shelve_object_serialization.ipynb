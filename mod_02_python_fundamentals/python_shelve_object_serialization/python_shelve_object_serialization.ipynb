{
  "cells": [
    {
      "cell_type": "markdown",
      "metadata": {
        "id": "HoOwWSVgv-IC"
      },
      "source": [
        "# Python: shelve Object Serialization\n",
        "\n",
        "The shelve provides a dictionary-like interface that allows data persistence in a dictionary like manner. Items are stored and retrieved using keys, similar to a dictionary, shelve module stores data persistently in a file (unlike dictionary objects are in-memory data structures).\n",
        "\n",
        "The shelve module uses the pickle module to serialize and deserialize data."
      ]
    },
    {
      "cell_type": "code",
      "execution_count": 1,
      "metadata": {},
      "outputs": [],
      "source": [
        "# importing the module\n",
        "import shelve"
      ]
    },
    {
      "cell_type": "code",
      "execution_count": 2,
      "metadata": {
        "colab": {
          "base_uri": "https://localhost:8080/"
        },
        "id": "vk_XRXQNw7OU",
        "outputId": "7446fc6d-1e27-4337-9768-75d010bee584"
      },
      "outputs": [],
      "source": [
        "# creating data to serialize, we will use simple code\n",
        "class Product:\n",
        "\n",
        "    def __init__(self):\n",
        "        self.name  = None\n",
        "\n",
        "class ProductCategory :\n",
        "    \n",
        "    def __init__(self):\n",
        "        self.name = None\n",
        "        self.categories = list([])\n",
        "        self.products = []\n",
        "\n",
        "# initial product data creation\n",
        "fridge_product = Product()\n",
        "fridge_product.name = \"Fridge\"\n",
        "\n",
        "television_set_product = Product()\n",
        "television_set_product.name = \"Television Set\"\n",
        "\n",
        "# initial category data creation\n",
        "electric_product_category = ProductCategory()\n",
        "electric_product_category.name = \"Electric Products\"\n",
        "electric_product_category.products.append(fridge_product)\n",
        "electric_product_category.products.append(television_set_product)\n",
        "\n",
        "entertainment_product_category = ProductCategory()\n",
        "entertainment_product_category.name = \"Entertainment Product\"\n",
        "entertainment_product_category.products.append(television_set_product)\n",
        "\n",
        "taxed_product_category = ProductCategory()\n",
        "taxed_product_category.name = \"Taxed Products\"\n",
        "taxed_product_category.categories.append(electric_product_category)\n",
        "taxed_product_category.categories.append(entertainment_product_category)"
      ]
    },
    {
      "cell_type": "markdown",
      "metadata": {},
      "source": [
        "The shelve data storage must be opened first, then values will be assigned by keys. After the shelve data storage is used, it must be closed. "
      ]
    },
    {
      "cell_type": "code",
      "execution_count": 3,
      "metadata": {},
      "outputs": [],
      "source": [
        "# let's open a shelve db and persist product category data\n",
        "shelve_db = shelve.open(\"data.db\")\n",
        "shelve_db[\"electric_product_category\"] = electric_product_category\n",
        "shelve_db[\"entertainment_product_category\"] = entertainment_product_category\n",
        "shelve_db[\"taxed_product_category\"] = taxed_product_category\n",
        "shelve_db.close()"
      ]
    },
    {
      "cell_type": "code",
      "execution_count": 4,
      "metadata": {},
      "outputs": [],
      "source": [
        "# object may be deleted from the shelve storage\n",
        "# by using their identification keys\n",
        "shelve_db = shelve.open(\"data.db\")\n",
        "del shelve_db[\"electric_product_category\"]\n",
        "del shelve_db[\"entertainment_product_category\"]\n",
        "\n",
        "# sync method may be called to synchronize data to db\n",
        "shelve_db.sync()\n",
        "\n",
        "# new values can be added as well\n",
        "shelve_db[\"fridge_product\"] = fridge_product\n",
        "shelve_db[\"television_set_product\"] = television_set_product\n",
        "\n",
        "# the storage will be closed\n",
        "shelve_db.close()\n"
      ]
    },
    {
      "cell_type": "code",
      "execution_count": 5,
      "metadata": {},
      "outputs": [
        {
          "name": "stdout",
          "output_type": "stream",
          "text": [
            "Stored value <__main__.ProductCategory object at 0x000001BFB33F2110> at key taxed_product_category\n",
            "Stored value <__main__.Product object at 0x000001BFB340A5D0> at key fridge_product\n",
            "Stored value <__main__.Product object at 0x000001BFB34025D0> at key television_set_product\n"
          ]
        }
      ],
      "source": [
        "# keys can be listed and values accessed by using these keys\n",
        "shelve_db = shelve.open(\"data.db\")\n",
        "\n",
        "for key in shelve_db.keys():\n",
        "    print(\"Stored value {0} at key {1}\".format(shelve_db[key], key))\n",
        "\n",
        "shelve_db.close()"
      ]
    }
  ],
  "metadata": {
    "colab": {
      "provenance": []
    },
    "kernelspec": {
      "display_name": "Python 3",
      "name": "python3"
    },
    "language_info": {
      "codemirror_mode": {
        "name": "ipython",
        "version": 3
      },
      "file_extension": ".py",
      "mimetype": "text/x-python",
      "name": "python",
      "nbconvert_exporter": "python",
      "pygments_lexer": "ipython3",
      "version": "3.11.5"
    }
  },
  "nbformat": 4,
  "nbformat_minor": 0
}
