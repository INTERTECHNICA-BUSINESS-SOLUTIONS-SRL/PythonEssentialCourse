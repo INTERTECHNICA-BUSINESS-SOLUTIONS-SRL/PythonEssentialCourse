{
  "cells": [
    {
      "cell_type": "markdown",
      "metadata": {
        "id": "HoOwWSVgv-IC"
      },
      "source": [
        "# Boolean data type\n",
        "This notebook focuses on presenting the Python boolean data type."
      ]
    },
    {
      "cell_type": "markdown",
      "metadata": {
        "id": "gB_wJkrmwlDZ"
      },
      "source": [
        "## Using boolean data values\n",
        "There are different mechanisms used for creating boolean values."
      ]
    },
    {
      "cell_type": "code",
      "execution_count": 1,
      "metadata": {
        "colab": {
          "base_uri": "https://localhost:8080/"
        },
        "id": "vk_XRXQNw7OU",
        "outputId": "9d3ee9d3-6431-4a04-f0a6-e963f1194286"
      },
      "outputs": [
        {
          "name": "stdout",
          "output_type": "stream",
          "text": [
            "Print assigned values are: True False\n",
            "Print comparison values are: True True\n",
            "Print boolean values converted to boolean are: True False\n"
          ]
        }
      ],
      "source": [
        "# creating boolean values in different manners\n",
        "true_value, false_value = True, False\n",
        "print(\"Print assigned values are:\" , true_value, false_value)\n",
        "\n",
        "equal_value, unequal_value = 1 == 1, 1 != 2\n",
        "print(\"Print comparison values are:\" , equal_value, unequal_value)\n",
        "\n",
        "numerical_true_value, numerical_false_value = bool(1), bool(0)\n",
        "print(\"Print boolean values converted to boolean are:\" , numerical_true_value, numerical_false_value)"
      ]
    },
    {
      "cell_type": "markdown",
      "metadata": {
        "id": "6r5jv-ONzlmp"
      },
      "source": [
        "## Using boolean operators\n",
        "Let's explore the basic functionality of boolean operators."
      ]
    },
    {
      "cell_type": "code",
      "execution_count": 2,
      "metadata": {
        "colab": {
          "base_uri": "https://localhost:8080/"
        },
        "id": "OpFYHKl1zptY",
        "outputId": "d930f405-0246-4175-e018-ddcd24905aee"
      },
      "outputs": [
        {
          "name": "stdout",
          "output_type": "stream",
          "text": [
            "The 'and' operator applied between True and False generates False\n",
            "The 'or' operator applied between True and False generates True\n",
            "The 'not' operator applied to True generates False\n",
            "The 'xor' operator applied between True and True generates False\n"
          ]
        }
      ],
      "source": [
        "# using boolean operators\n",
        "true_value, false_value = True, False\n",
        "\n",
        "print(\"The 'and' operator applied between\", true_value, \"and\", false_value, \"generates\", true_value and false_value)\n",
        "print(\"The 'or' operator applied between\", true_value, \"and\", false_value, \"generates\", true_value or false_value)\n",
        "print(\"The 'not' operator applied to\", true_value, \"generates\", not true_value)\n",
        "print(\"The 'xor' operator applied between\", true_value, \"and\", true_value, \"generates\", true_value ^ true_value)"
      ]
    },
    {
      "cell_type": "markdown",
      "metadata": {},
      "source": [
        "## Practice and homework\n",
        "Please follow the instructions in the following cells and solve the associated challenges."
      ]
    },
    {
      "cell_type": "code",
      "execution_count": 5,
      "metadata": {},
      "outputs": [],
      "source": [
        "# please implement the xor operator using other logical operators\n"
      ]
    }
  ],
  "metadata": {
    "colab": {
      "provenance": []
    },
    "kernelspec": {
      "display_name": "Python 3",
      "name": "python3"
    },
    "language_info": {
      "codemirror_mode": {
        "name": "ipython",
        "version": 3
      },
      "file_extension": ".py",
      "mimetype": "text/x-python",
      "name": "python",
      "nbconvert_exporter": "python",
      "pygments_lexer": "ipython3",
      "version": "3.9.7"
    }
  },
  "nbformat": 4,
  "nbformat_minor": 0
}
