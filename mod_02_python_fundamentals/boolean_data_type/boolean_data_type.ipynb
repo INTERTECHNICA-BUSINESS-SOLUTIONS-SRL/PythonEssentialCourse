{
  "nbformat": 4,
  "nbformat_minor": 0,
  "metadata": {
    "colab": {
      "provenance": []
    },
    "kernelspec": {
      "name": "python3",
      "display_name": "Python 3"
    },
    "language_info": {
      "name": "python"
    }
  },
  "cells": [
    {
      "cell_type": "markdown",
      "source": [
        "# Boolean data type\n",
        "This notebook focuses on presenting the Python boolean data type."
      ],
      "metadata": {
        "id": "HoOwWSVgv-IC"
      }
    },
    {
      "cell_type": "markdown",
      "source": [
        "## Using boolean data values\n",
        "There are different mechanisms used for creating boolean values."
      ],
      "metadata": {
        "id": "gB_wJkrmwlDZ"
      }
    },
    {
      "cell_type": "code",
      "source": [
        "# creating boolean values in different manners\n",
        "true_value, false_value = True, False\n",
        "print(\"Print assigned values are:\" , true_value, false_value)\n",
        "\n",
        "equal_value, unequal_value = 1 == 1, 1 != 2\n",
        "print(\"Print comparison values are:\" , equal_value, unequal_value)\n",
        "\n",
        "numerical_true_value, numerical_false_value = bool(1), bool(0)\n",
        "print(\"Print boolean values converted to boolean are:\" , numerical_true_value, numerical_false_value)"
      ],
      "metadata": {
        "colab": {
          "base_uri": "https://localhost:8080/"
        },
        "id": "vk_XRXQNw7OU",
        "outputId": "9d3ee9d3-6431-4a04-f0a6-e963f1194286"
      },
      "execution_count": 1,
      "outputs": [
        {
          "output_type": "stream",
          "name": "stdout",
          "text": [
            "Print assigned values are: True False\n",
            "Print comparison values are: True True\n",
            "Print boolean values converted to boolean are: True False\n"
          ]
        }
      ]
    },
    {
      "cell_type": "markdown",
      "source": [
        "## Using boolean operators\n",
        "Let's explore the basic functionality of boolean operators."
      ],
      "metadata": {
        "id": "6r5jv-ONzlmp"
      }
    },
    {
      "cell_type": "code",
      "source": [
        "# using boolean operators\n",
        "true_value, false_value = True, False\n",
        "\n",
        "print(\"The 'and' operator applied between\", true_value, \"and\", false_value, \"generates\", true_value and false_value)\n",
        "print(\"The 'or' operator applied between\", true_value, \"and\", false_value, \"generates\", true_value or false_value)\n",
        "print(\"The 'not' operator applied to\", true_value, \"generates\", not true_value)"
      ],
      "metadata": {
        "colab": {
          "base_uri": "https://localhost:8080/"
        },
        "id": "OpFYHKl1zptY",
        "outputId": "d930f405-0246-4175-e018-ddcd24905aee"
      },
      "execution_count": 2,
      "outputs": [
        {
          "output_type": "stream",
          "name": "stdout",
          "text": [
            "The 'and' operator applied between True and False generates False\n",
            "The 'or' operator applied between True and False generates True\n",
            "The 'not' operator applied to True generates False\n"
          ]
        }
      ]
    }
  ]
}