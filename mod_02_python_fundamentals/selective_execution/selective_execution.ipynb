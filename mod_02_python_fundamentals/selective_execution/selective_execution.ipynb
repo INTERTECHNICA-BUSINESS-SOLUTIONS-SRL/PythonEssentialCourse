{
  "cells": [
    {
      "cell_type": "markdown",
      "metadata": {
        "id": "HoOwWSVgv-IC"
      },
      "source": [
        "# Selective execution\n",
        "Let's understand how Python handles selective execution through the if-elif-else statement."
      ]
    },
    {
      "cell_type": "markdown",
      "metadata": {
        "id": "gB_wJkrmwlDZ"
      },
      "source": [
        "## The if-elif-else statement\n",
        "Exploring different forms of the if-elif-else statement, focused on an increasing complexity approach."
      ]
    },
    {
      "cell_type": "code",
      "execution_count": 1,
      "metadata": {
        "colab": {
          "base_uri": "https://localhost:8080/"
        },
        "id": "vk_XRXQNw7OU",
        "outputId": "0d2ae911-1490-4678-a2a5-37ef2519ade5"
      },
      "outputs": [
        {
          "name": "stdout",
          "output_type": "stream",
          "text": [
            "The code blocks preceding the if-elif-else statement is executed (part of sequential execution)\n",
            "The [> 0] block is executed\n",
            "The code blocks after the if-elif-else statement is executed (part of sequential execution)\n"
          ]
        }
      ],
      "source": [
        "# prepare the data\n",
        "x = 10\n",
        "\n",
        "# using a simple form of the if statement\n",
        "print(\"The code blocks preceding the if-elif-else statement is executed (part of sequential execution)\")\n",
        "if (x >= 0) : # condition is true, block will be executed\n",
        "  print(\"The [> 0] block is executed\")\n",
        "if (x < 0) : # condition is false, block will NOT be executed\n",
        "  print(\"The [< 0] block is executed\")\n",
        "print(\"The code blocks after the if-elif-else statement is executed (part of sequential execution)\")"
      ]
    },
    {
      "cell_type": "code",
      "execution_count": 2,
      "metadata": {
        "colab": {
          "base_uri": "https://localhost:8080/"
        },
        "id": "OBHjVnkG1zxt",
        "outputId": "39a55ec4-7c3d-455f-f34a-727748638041"
      },
      "outputs": [
        {
          "name": "stdout",
          "output_type": "stream",
          "text": [
            "The [== 0] block is executed\n",
            "This is an even number\n"
          ]
        }
      ],
      "source": [
        "# prepare the data\n",
        "x = 10\n",
        "\n",
        "# using if-else statements\n",
        "if (x == 10):\n",
        "  print(\"The [== 0] block is executed\") # since the condition is true, the block is executed\n",
        "else :\n",
        "  print(\"The [!= 0] block is executed\") # since the condition is false, the block will not be executed\n",
        "\n",
        "if (x % 2 != 0):\n",
        "  print(\"This is an odd number\") # since the condition is false, the block is not executed\n",
        "else :\n",
        "  print(\"This is an even number\") # since the condition is true, the block will be executed"
      ]
    },
    {
      "cell_type": "code",
      "execution_count": 3,
      "metadata": {
        "colab": {
          "base_uri": "https://localhost:8080/"
        },
        "id": "tb46Dc7f22zu",
        "outputId": "6def6d6e-e22b-4530-8367-f6bbfd5d311f"
      },
      "outputs": [
        {
          "name": "stdout",
          "output_type": "stream",
          "text": [
            "Then value is even\n"
          ]
        }
      ],
      "source": [
        "# prepare the data\n",
        "x = 10\n",
        "\n",
        "# using a simple form of the if statement\n",
        "if (x < 10):\n",
        "  print(\"Value is less than 10\") # the condition is false, block is not execution\n",
        "elif (x % 2 == 0) :\n",
        "  print(\"Then value is even\") # the block is executed as it is the first elif block with true condition\n",
        "elif (x == 10) :\n",
        "  print(\"The value is equal to 10\") # the block is not executed as it is not the first elif block with true condition\n",
        "else:\n",
        "  print(\"The value is greater than 10\") # since a previous block has been executed, the else statement will not be executed"
      ]
    },
    {
      "cell_type": "markdown",
      "metadata": {
        "id": "6r5jv-ONzlmp"
      },
      "source": [
        "## Embedding if-elif-else statements\n",
        "It is possible to embed additional if-elif-else statements on any block of an existing if-elif-else statement."
      ]
    },
    {
      "cell_type": "code",
      "execution_count": 4,
      "metadata": {
        "colab": {
          "base_uri": "https://localhost:8080/"
        },
        "id": "OpFYHKl1zptY",
        "outputId": "85890d74-76aa-4cd6-c6a4-d2948c0d8716"
      },
      "outputs": [
        {
          "name": "stdout",
          "output_type": "stream",
          "text": [
            "The value is greater or equal to 10 and even\n"
          ]
        }
      ],
      "source": [
        "# prepare the data\n",
        "x = 10\n",
        "\n",
        "if (x < 10) :\n",
        "  if (x % 2 == 0) :\n",
        "    print(\"The value is less than 10 and even\")\n",
        "  else:\n",
        "    print(\"The value is less than 10 and odd\")\n",
        "else:\n",
        "  if (x % 2 == 0) :\n",
        "    print(\"The value is greater or equal to 10 and even\")\n",
        "  else:\n",
        "    print(\"The value is greater or equal to 10 and odd\")\n"
      ]
    },
    {
      "cell_type": "markdown",
      "metadata": {},
      "source": [
        "## Conditional expression evaluation\n",
        "It is possible to use a single assignment expression, yet assign different values based on the value of a boolean expression. This provides a convenient method for assignment of a value based on conditions."
      ]
    },
    {
      "cell_type": "code",
      "execution_count": 7,
      "metadata": {},
      "outputs": [
        {
          "name": "stdout",
          "output_type": "stream",
          "text": [
            "Using the true value for assignment conditional expression will generate the following expression evaluation: True value\n",
            "Using the false value for assignment conditional expression will generate the following expression evaluation: False value\n"
          ]
        }
      ],
      "source": [
        "# assignment of values based on different conditions\n",
        "true_value = \"True value\"\n",
        "false_value = \"False value\"\n",
        "\n",
        "# let's use a conditional expression evaluation based on different conditional values\n",
        "print(\"Using the true value for assignment conditional expression will generate the following expression evaluation:\", true_value if True else false_value )\n",
        "print(\"Using the false value for assignment conditional expression will generate the following expression evaluation:\", true_value if False else false_value )"
      ]
    },
    {
      "cell_type": "code",
      "execution_count": 9,
      "metadata": {},
      "outputs": [
        {
          "name": "stdout",
          "output_type": "stream",
          "text": [
            "The short hand ternary operator generates: The alternative expression\n",
            "The short hand ternary operator generates: Primary expression\n"
          ]
        }
      ],
      "source": [
        "# an even shorter version of the ternary operator using the or operator\n",
        "\n",
        "# if the primary expression evaluates to False, it will return the alternative expression\n",
        "primary_expression = None\n",
        "alternative_expression = \"The alternative expression\"\n",
        "print(\"The short hand ternary operator generates:\", primary_expression or alternative_expression)\n",
        "\n",
        "# if the primary expression evaluates to True, it will return the primary expression\n",
        "primary_expression = \"Primary expression\"\n",
        "print(\"The short hand ternary operator generates:\", primary_expression or alternative_expression)"
      ]
    }
  ],
  "metadata": {
    "colab": {
      "provenance": []
    },
    "kernelspec": {
      "display_name": "Python 3",
      "name": "python3"
    },
    "language_info": {
      "codemirror_mode": {
        "name": "ipython",
        "version": 3
      },
      "file_extension": ".py",
      "mimetype": "text/x-python",
      "name": "python",
      "nbconvert_exporter": "python",
      "pygments_lexer": "ipython3",
      "version": "3.11.5"
    }
  },
  "nbformat": 4,
  "nbformat_minor": 0
}
