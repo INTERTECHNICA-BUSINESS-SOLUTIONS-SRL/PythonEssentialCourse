{
  "nbformat": 4,
  "nbformat_minor": 0,
  "metadata": {
    "colab": {
      "provenance": []
    },
    "kernelspec": {
      "name": "python3",
      "display_name": "Python 3"
    },
    "language_info": {
      "name": "python"
    }
  },
  "cells": [
    {
      "cell_type": "markdown",
      "source": [
        "# Selective execution\n",
        "Let's understand how Python handles selective execution through the if-elif-else statement."
      ],
      "metadata": {
        "id": "HoOwWSVgv-IC"
      }
    },
    {
      "cell_type": "markdown",
      "source": [
        "## The if-elif-else statement\n",
        "Exploring different forms of the if-elif-else statement, focused on an increasing complexity approach."
      ],
      "metadata": {
        "id": "gB_wJkrmwlDZ"
      }
    },
    {
      "cell_type": "code",
      "source": [
        "# prepare the data\n",
        "x = 10\n",
        "\n",
        "# using a simple form of the if statement\n",
        "print(\"The code blocks preceding the if-elif-else statement is executed (part of sequential execution)\")\n",
        "if (x >= 0) : # condition is true, block will be executed\n",
        "  print(\"The [> 0] block is executed\")\n",
        "if (x < 0) : # condition is true, block will NOT be executed\n",
        "  print(\"The [< 0] block is executed\")\n",
        "print(\"The code blocks after the if-elif-else statement is executed (part of sequential execution)\")"
      ],
      "metadata": {
        "colab": {
          "base_uri": "https://localhost:8080/"
        },
        "id": "vk_XRXQNw7OU",
        "outputId": "0d2ae911-1490-4678-a2a5-37ef2519ade5"
      },
      "execution_count": 1,
      "outputs": [
        {
          "output_type": "stream",
          "name": "stdout",
          "text": [
            "The code blocks preceding the if-elif-else statement is executed (part of sequential execution)\n",
            "The [> 0] block is executed\n",
            "The code blocks after the if-elif-else statement is executed (part of sequential execution)\n"
          ]
        }
      ]
    },
    {
      "cell_type": "code",
      "source": [
        "# prepare the data\n",
        "x = 10\n",
        "\n",
        "# using if-else statements\n",
        "if (x == 10):\n",
        "  print(\"The [== 0] block is executed\") # since the condition is true, the block is executed\n",
        "else :\n",
        "  print(\"The [!= 0] block is executed\") # since the condition is false, the block will not be executed\n",
        "\n",
        "if (x % 2 != 0):\n",
        "  print(\"This is an odd number\") # since the condition is false, the block is not executed\n",
        "else :\n",
        "  print(\"This is an even number\") # since the condition is true, the block will be executed"
      ],
      "metadata": {
        "colab": {
          "base_uri": "https://localhost:8080/"
        },
        "id": "OBHjVnkG1zxt",
        "outputId": "39a55ec4-7c3d-455f-f34a-727748638041"
      },
      "execution_count": 2,
      "outputs": [
        {
          "output_type": "stream",
          "name": "stdout",
          "text": [
            "The [== 0] block is executed\n",
            "This is an even number\n"
          ]
        }
      ]
    },
    {
      "cell_type": "code",
      "source": [
        "# prepare the data\n",
        "x = 10\n",
        "\n",
        "# using a simple form of the if statement\n",
        "if (x < 10):\n",
        "  print(\"Value is less than 10\") # the condition is false, block is not execution\n",
        "elif (x % 2 == 0) :\n",
        "  print(\"Then value is even\") # the block is executed as it is the first elif block with true condition\n",
        "elif (x == 10) :\n",
        "  print(\"The value is equal to 10\") # the block is not executed as it is not the first elif block with true condition\n",
        "else:\n",
        "  print(\"The value is greater than 10\") # since a previous block has been executed, the else statement will not be executed"
      ],
      "metadata": {
        "colab": {
          "base_uri": "https://localhost:8080/"
        },
        "id": "tb46Dc7f22zu",
        "outputId": "6def6d6e-e22b-4530-8367-f6bbfd5d311f"
      },
      "execution_count": 3,
      "outputs": [
        {
          "output_type": "stream",
          "name": "stdout",
          "text": [
            "Then value is even\n"
          ]
        }
      ]
    },
    {
      "cell_type": "markdown",
      "source": [
        "## Embedding if-elif-else statements\n",
        "It is possible to embed additional if-elif-else statements on any block of an existing if-elif-else statement."
      ],
      "metadata": {
        "id": "6r5jv-ONzlmp"
      }
    },
    {
      "cell_type": "code",
      "source": [
        "# prepare the data\n",
        "x = 10\n",
        "\n",
        "if (x < 10) :\n",
        "  if (x % 2 == 0) :\n",
        "    print(\"The value is less than 10 and even\")\n",
        "  else:\n",
        "    print(\"The value is less than 10 and odd\")\n",
        "else:\n",
        "  if (x % 2 == 0) :\n",
        "    print(\"The value is greater or equal to 10 and even\")\n",
        "  else:\n",
        "    print(\"The value is greater or equal to 10 and odd\")\n"
      ],
      "metadata": {
        "colab": {
          "base_uri": "https://localhost:8080/"
        },
        "id": "OpFYHKl1zptY",
        "outputId": "85890d74-76aa-4cd6-c6a4-d2948c0d8716"
      },
      "execution_count": 4,
      "outputs": [
        {
          "output_type": "stream",
          "name": "stdout",
          "text": [
            "The value is greater or equal to 10 and even\n"
          ]
        }
      ]
    }
  ]
}