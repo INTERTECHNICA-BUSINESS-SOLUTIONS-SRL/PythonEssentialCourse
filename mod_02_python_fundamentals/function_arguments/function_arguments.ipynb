{
  "nbformat": 4,
  "nbformat_minor": 0,
  "metadata": {
    "colab": {
      "provenance": []
    },
    "kernelspec": {
      "name": "python3",
      "display_name": "Python 3"
    },
    "language_info": {
      "name": "python"
    }
  },
  "cells": [
    {
      "cell_type": "markdown",
      "source": [
        "# Function arguments\n",
        "\n",
        "Let's explore how function arguments (actual values for function parameters passed during function calls) are used in Python."
      ],
      "metadata": {
        "id": "HoOwWSVgv-IC"
      }
    },
    {
      "cell_type": "markdown",
      "source": [
        "## Positional arguments\n",
        "Positional arguments are mapped to function parameters by using the parameters positions established during function definition."
      ],
      "metadata": {
        "id": "gB_wJkrmwlDZ"
      }
    },
    {
      "cell_type": "code",
      "source": [
        "# define a function and call it using positional parameters\n",
        "def print_person_information(name, age, location) :\n",
        "  print(\"Name:\", name, \"Age:\", age, \"Location:\", location)\n",
        "\n",
        "# a correct usage of the function, arguments have been mapped\n",
        "# to the orders expressed by the function parameters\n",
        "print_person_information(\"Dan\", 37, \"Washington\")\n",
        "\n",
        "\n",
        "# an incorrect usage of the function, arguments are mapped\n",
        "# not in the intended order\n",
        "print_person_information(37, \"Washington\", \"Dan\")"
      ],
      "metadata": {
        "colab": {
          "base_uri": "https://localhost:8080/"
        },
        "id": "vk_XRXQNw7OU",
        "outputId": "7c251d37-11ee-493a-9916-09beb3be6bf4"
      },
      "execution_count": 5,
      "outputs": [
        {
          "output_type": "stream",
          "name": "stdout",
          "text": [
            "Name: Dan Age: 37 Location: Washington\n",
            "Name: 37 Age: Washington Location: Dan\n"
          ]
        }
      ]
    },
    {
      "cell_type": "markdown",
      "source": [
        "## Keyword arguments\n",
        "Keyword arguments are allowing to specify values for parameters by name. The order in which keywords arguments are passed is irrelevant, yet they need to follow the positional arguments."
      ],
      "metadata": {
        "id": "Se8xCscAICSC"
      }
    },
    {
      "cell_type": "code",
      "source": [
        "# define a function and call it using keyword parameters\n",
        "def print_person_information(name, age, location) :\n",
        "  print(\"Name:\", name, \"Age:\", age, \"Location:\", location)\n",
        "\n",
        "# correct results are generated even if we pass keyword arguments\n",
        "# in an arbitrary order\n",
        "print_person_information(age = 37, location = \"Washington\", name = \"Dan\")\n",
        "\n",
        "# keyword arguments may be mixed with positional arguments\n",
        "# however positional arguments may be used first\n",
        "print_person_information(\"Dan\", location = \"Washington\", age = 37)"
      ],
      "metadata": {
        "colab": {
          "base_uri": "https://localhost:8080/"
        },
        "id": "X9-FZvIEIPz7",
        "outputId": "ce6a64e0-2d06-4fcd-eec0-c43cfd5bb98c"
      },
      "execution_count": 9,
      "outputs": [
        {
          "output_type": "stream",
          "name": "stdout",
          "text": [
            "Name: Dan Age: 37 Location: Washington\n",
            "Name: Dan Age: 37 Location: Washington\n"
          ]
        }
      ]
    },
    {
      "cell_type": "markdown",
      "source": [
        "## Default arguments\n",
        "Default arguments represent default values that are passed during function call for function parameters. These default values are specified during function definition."
      ],
      "metadata": {
        "id": "aSANa7uzaZqc"
      }
    },
    {
      "cell_type": "code",
      "source": [
        "# define a function with default parameter values\n",
        "def print_currency_value(value, currency_symbol = \"USD\") :\n",
        "  print_value = str(value)\n",
        "  if value < 0 :\n",
        "    print_value = str(-value)\n",
        "    print_value = \"(\" + print_value + \")\"\n",
        "  print_value = print_value + \" \" + currency_symbol\n",
        "  print(print_value)\n",
        "\n",
        "# specify all function arguments for function call\n",
        "print_currency_value(100, \"EUR\")\n",
        "\n",
        "# use default arguments for function call\n",
        "print_currency_value(-100)"
      ],
      "metadata": {
        "colab": {
          "base_uri": "https://localhost:8080/"
        },
        "outputId": "239b9a74-2e90-437e-a94d-4a97f175e171",
        "id": "MbeQpgDybMaR"
      },
      "execution_count": 15,
      "outputs": [
        {
          "output_type": "stream",
          "name": "stdout",
          "text": [
            "100 EUR\n",
            "(100) USD\n"
          ]
        }
      ]
    }
  ]
}