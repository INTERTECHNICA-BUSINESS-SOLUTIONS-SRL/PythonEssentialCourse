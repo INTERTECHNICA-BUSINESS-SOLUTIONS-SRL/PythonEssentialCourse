{
  "cells": [
    {
      "cell_type": "markdown",
      "metadata": {
        "id": "HoOwWSVgv-IC"
      },
      "source": [
        "# Function arguments\n",
        "\n",
        "Let's explore how function arguments (actual values for function parameters passed during function calls) are used in Python."
      ]
    },
    {
      "cell_type": "markdown",
      "metadata": {
        "id": "gB_wJkrmwlDZ"
      },
      "source": [
        "## Positional arguments\n",
        "Positional arguments are mapped to function parameters by using the parameters positions established during function definition."
      ]
    },
    {
      "cell_type": "code",
      "execution_count": 1,
      "metadata": {
        "colab": {
          "base_uri": "https://localhost:8080/"
        },
        "id": "vk_XRXQNw7OU",
        "outputId": "7c251d37-11ee-493a-9916-09beb3be6bf4"
      },
      "outputs": [
        {
          "name": "stdout",
          "output_type": "stream",
          "text": [
            "Name: Dan Age: 37 Location: Washington\n",
            "Name: 37 Age: Washington Location: Dan\n"
          ]
        }
      ],
      "source": [
        "# define a function and call it using positional parameters\n",
        "def print_person_information(name, age, location) :\n",
        "  print(\"Name:\", name, \"Age:\", age, \"Location:\", location)\n",
        "\n",
        "# a correct usage of the function, arguments have been mapped\n",
        "# to the orders expressed by the function parameters\n",
        "print_person_information(\"Dan\", 37, \"Washington\")\n",
        "\n",
        "\n",
        "# an incorrect usage of the function, arguments are mapped\n",
        "# not in the intended order\n",
        "print_person_information(37, \"Washington\", \"Dan\")"
      ]
    },
    {
      "cell_type": "markdown",
      "metadata": {
        "id": "Se8xCscAICSC"
      },
      "source": [
        "## Keyword arguments\n",
        "Keyword arguments are allowing to specify values for parameters by name. The order in which keywords arguments are passed is irrelevant, yet they need to follow the positional arguments."
      ]
    },
    {
      "cell_type": "code",
      "execution_count": 2,
      "metadata": {
        "colab": {
          "base_uri": "https://localhost:8080/"
        },
        "id": "X9-FZvIEIPz7",
        "outputId": "ce6a64e0-2d06-4fcd-eec0-c43cfd5bb98c"
      },
      "outputs": [
        {
          "name": "stdout",
          "output_type": "stream",
          "text": [
            "Name: Dan Age: 37 Location: Washington\n",
            "Name: Dan Age: 37 Location: Washington\n"
          ]
        }
      ],
      "source": [
        "# define a function and call it using keyword parameters\n",
        "def print_person_information(name, age, location) :\n",
        "  print(\"Name:\", name, \"Age:\", age, \"Location:\", location)\n",
        "\n",
        "# correct results are generated even if we pass keyword arguments\n",
        "# in an arbitrary order\n",
        "print_person_information(age = 37, location = \"Washington\", name = \"Dan\")\n",
        "\n",
        "# keyword arguments may be mixed with positional arguments\n",
        "# however positional arguments may be used first\n",
        "print_person_information(\"Dan\", location = \"Washington\", age = 37)"
      ]
    },
    {
      "cell_type": "markdown",
      "metadata": {
        "id": "aSANa7uzaZqc"
      },
      "source": [
        "## Default arguments\n",
        "Default arguments represent default values that are passed during function call for function parameters. These default values are specified during function definition."
      ]
    },
    {
      "cell_type": "code",
      "execution_count": 3,
      "metadata": {
        "colab": {
          "base_uri": "https://localhost:8080/"
        },
        "id": "MbeQpgDybMaR",
        "outputId": "239b9a74-2e90-437e-a94d-4a97f175e171"
      },
      "outputs": [
        {
          "name": "stdout",
          "output_type": "stream",
          "text": [
            "100 EUR\n",
            "(100) USD\n"
          ]
        }
      ],
      "source": [
        "# define a function with default parameter values\n",
        "def print_currency_value(value, currency_symbol = \"USD\") :\n",
        "  print_value = str(value)\n",
        "  if value < 0 :\n",
        "    print_value = str(-value)\n",
        "    print_value = \"(\" + print_value + \")\"\n",
        "  print_value = print_value + \" \" + currency_symbol\n",
        "  print(print_value)\n",
        "\n",
        "# specify all function arguments for function call\n",
        "print_currency_value(100, \"EUR\")\n",
        "\n",
        "# use default arguments for function call\n",
        "print_currency_value(-100)"
      ]
    },
    {
      "cell_type": "markdown",
      "metadata": {},
      "source": [
        "## Practice and homework\n",
        "Please follow the instructions and solve the associated challenges."
      ]
    },
    {
      "cell_type": "code",
      "execution_count": 4,
      "metadata": {},
      "outputs": [],
      "source": [
        "# Please implement the following:\n",
        "\n",
        "# 1. Write a function that computes the weighted average for a list of numbers.\n",
        "# The weights is an optional parameter, if not supplied by default it should be \n",
        "# the weight for the standard average calculation.\n",
        "\n",
        "# Additional notes:\n",
        "# Considering the list of values v and a list of weights w, the weighed average is\n",
        "# sum (v*w) / sum(w), for example if we have:\n",
        "# v = [10, 20, 30] and w = [1, 2, 3] the weighed average will be:\n",
        "# (10*1 + 20*2 + 30*3) / (1 + 2 +3)"
      ]
    }
  ],
  "metadata": {
    "colab": {
      "provenance": []
    },
    "kernelspec": {
      "display_name": "Python 3",
      "name": "python3"
    },
    "language_info": {
      "codemirror_mode": {
        "name": "ipython",
        "version": 3
      },
      "file_extension": ".py",
      "mimetype": "text/x-python",
      "name": "python",
      "nbconvert_exporter": "python",
      "pygments_lexer": "ipython3",
      "version": "3.9.7"
    }
  },
  "nbformat": 4,
  "nbformat_minor": 0
}
