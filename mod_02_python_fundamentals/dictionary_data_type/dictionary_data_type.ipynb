{
  "cells": [
    {
      "cell_type": "markdown",
      "metadata": {
        "id": "HoOwWSVgv-IC"
      },
      "source": [
        "# Dictionary data type\n",
        "This notebook focuses on presenting the Python dictionary data type."
      ]
    },
    {
      "cell_type": "markdown",
      "metadata": {
        "id": "gB_wJkrmwlDZ"
      },
      "source": [
        "## Creating dictionaries\n",
        "Let's focus on creating dictionary values."
      ]
    },
    {
      "cell_type": "code",
      "execution_count": 37,
      "metadata": {
        "colab": {
          "base_uri": "https://localhost:8080/"
        },
        "id": "vk_XRXQNw7OU",
        "outputId": "3a404b82-0aa7-4c3f-d087-8e2d218e8ebf"
      },
      "outputs": [
        {
          "name": "stdout",
          "output_type": "stream",
          "text": [
            "{1: 'One', 2: 'Two', 3: 'Three'} \n",
            "\n",
            " {1: 'One', 2: 'Two', 3: 'Three'}\n"
          ]
        }
      ],
      "source": [
        "# creating dictionaries\n",
        "dictionary_value = {1: \"One\", 2: \"Two\", 3: \"Three\"}\n",
        "dictionary_value_using_function = dict([(1, \"One\"), (2, \"Two\"), (3, \"Three\")])\n",
        "print(dictionary_value, \"\\n\\n\", dictionary_value_using_function)"
      ]
    },
    {
      "cell_type": "markdown",
      "metadata": {
        "id": "6r5jv-ONzlmp"
      },
      "source": [
        "## Using dictionary operators\n",
        "Let's explore the basic dictionary operators."
      ]
    },
    {
      "cell_type": "code",
      "execution_count": 38,
      "metadata": {
        "colab": {
          "base_uri": "https://localhost:8080/"
        },
        "id": "OpFYHKl1zptY",
        "outputId": "ea78f796-87ba-409b-ddfa-1dab090669c5"
      },
      "outputs": [
        {
          "name": "stdout",
          "output_type": "stream",
          "text": [
            "The value at key 1 is: One\n",
            "Checking if 10 is in dictionary generates: False\n"
          ]
        }
      ],
      "source": [
        "# using dictionary operators\n",
        "dictionary_value = {1: \"One\", 2: \"Two\", 3: \"Three\"}\n",
        "print(\"The value at key 1 is:\", dictionary_value[1])\n",
        "print(\"Checking if 10 is in dictionary generates:\", 10 in dictionary_value)"
      ]
    },
    {
      "cell_type": "markdown",
      "metadata": {
        "id": "GK68KjdiRZaT"
      },
      "source": [
        "## Using dictionary functions\n",
        "\n",
        "Let's explore the usage of various dictionary functions."
      ]
    },
    {
      "cell_type": "code",
      "execution_count": 39,
      "metadata": {
        "colab": {
          "base_uri": "https://localhost:8080/"
        },
        "id": "GgAKZXBDRhSS",
        "outputId": "3f67e1ea-d25a-4ac3-9ff4-74e33ce9d4af"
      },
      "outputs": [
        {
          "name": "stdout",
          "output_type": "stream",
          "text": [
            "The baseline dictionary is: {0: 'Zero', 1: 'One', 2: 'Two', 3: 'Three', 4: 'Four', 5: 'Five', 6: 'Six', 7: 'Seven', 8: 'Eight', 9: 'Nine'}\n",
            "The baseline dictionary items are: dict_items([(0, 'Zero'), (1, 'One'), (2, 'Two'), (3, 'Three'), (4, 'Four'), (5, 'Five'), (6, 'Six'), (7, 'Seven'), (8, 'Eight'), (9, 'Nine')])\n",
            "The baseline dictionary's keys are: dict_keys([0, 1, 2, 3, 4, 5, 6, 7, 8, 9])\n",
            "The baseline dictionary's values are: dict_values(['Zero', 'One', 'Two', 'Three', 'Four', 'Five', 'Six', 'Seven', 'Eight', 'Nine'])\n",
            "The value for key 1 is: One\n",
            "Removing the key 0 with pop function generates Zero and the new dictionary is {1: 'One', 2: 'Two', 3: 'Three', 4: 'Four', 5: 'Five', 6: 'Six', 7: 'Seven', 8: 'Eight', 9: 'Nine'}: \n",
            "Adding value for the key 10 generates: {1: 'One', 2: 'Two', 3: 'Three', 4: 'Four', 5: 'Five', 6: 'Six', 7: 'Seven', 8: 'Eight', 9: 'Nine', 10: 'Ten'}\n",
            "Merging the dictionary with \n",
            " {'Zero': 'Zéro', 'One': 'Un', 'Two': 'Deux', 'Three': 'Trois', 'Four': 'Quatre', 'Five': 'Cinq', 'Six': 'Six', 'Seven': 'Sept', 'Eight': 'Huit', 'Nine': 'Neuf'} \n",
            " generates: \n",
            " {1: 'One', 2: 'Two', 3: 'Three', 4: 'Four', 5: 'Five', 6: 'Six', 7: 'Seven', 8: 'Eight', 9: 'Nine', 10: 'Ten', 'Zero': 'Zéro', 'One': 'Un', 'Two': 'Deux', 'Three': 'Trois', 'Four': 'Quatre', 'Five': 'Cinq', 'Six': 'Six', 'Seven': 'Sept', 'Eight': 'Huit', 'Nine': 'Neuf'}\n"
          ]
        }
      ],
      "source": [
        "# usage of various dictionary functions\n",
        "base_dictionary = {0: \"Zero\", 1: \"One\", 2: \"Two\", 3: \"Three\",\n",
        "                   4: \"Four\", 5: \"Five\", 6: \"Six\", 7: \"Seven\", 8: \"Eight\", 9: \"Nine\"}\n",
        "dictionary_to_merge = {\"Zero\": \"Zéro\", \"One\": \"Un\", \"Two\": \"Deux\",\n",
        "                       \"Three\": \"Trois\", \"Four\": \"Quatre\", \"Five\": \"Cinq\",\n",
        "                       \"Six\": \"Six\", \"Seven\": \"Sept\", \"Eight\": \"Huit\", \"Nine\": \"Neuf\"}\n",
        "\n",
        "print(\"The baseline dictionary is:\", base_dictionary)\n",
        "print(\"The baseline dictionary items are:\", base_dictionary.items())\n",
        "print(\"The baseline dictionary's keys are:\", base_dictionary.keys())\n",
        "print(\"The baseline dictionary's values are:\", base_dictionary.values())\n",
        "print(\"The value for key 1 is:\", base_dictionary.get(1))\n",
        "print(\"Removing the key 0 with pop function generates {0} and the new dictionary is {1}: \".format(\n",
        "    base_dictionary.pop(0), base_dictionary))\n",
        "base_dictionary[10] = \"Ten\"\n",
        "print(\"Adding value for the key 10 generates:\", base_dictionary)\n",
        "base_dictionary.update(dictionary_to_merge)\n",
        "print(\"Merging the dictionary with \\n {0} \\n generates: \\n {1}\".format(\n",
        "    dictionary_to_merge, base_dictionary))"
      ]
    },
    {
      "cell_type": "markdown",
      "metadata": {},
      "source": [
        "## Practice and homework\n",
        "Please follow the instructions and solve the associated challenges."
      ]
    },
    {
      "cell_type": "code",
      "execution_count": 40,
      "metadata": {},
      "outputs": [],
      "source": [
        "# consider a list of medical records, each record being a tuple\n",
        "# (patient_id, doctor_id, feedback)\n",
        "# where patient_id is an integer identifying the patient\n",
        "# doctor_id is an integer identifying the doctor\n",
        "# and feedback is the **latest** feedback of the patient to the doctor on a scale from 1 to 5.\n",
        "\n",
        "# Please implement the following:\n",
        "\n",
        "# 1. create a dictionary where the key is the doctor_id and the value is a list of all\n",
        "# the ids of the patients that provided feedback to the doctor\n",
        "\n",
        "# 2. create a dictionary where the key is the doctor_id and the value is another dictionary\n",
        "# where the key is the feedback and the value is how many times the doctor received\n",
        "# the corresponding feedback "
      ]
    }
  ],
  "metadata": {
    "colab": {
      "provenance": []
    },
    "kernelspec": {
      "display_name": "Python 3",
      "name": "python3"
    },
    "language_info": {
      "codemirror_mode": {
        "name": "ipython",
        "version": 3
      },
      "file_extension": ".py",
      "mimetype": "text/x-python",
      "name": "python",
      "nbconvert_exporter": "python",
      "pygments_lexer": "ipython3",
      "version": "3.9.7"
    }
  },
  "nbformat": 4,
  "nbformat_minor": 0
}
