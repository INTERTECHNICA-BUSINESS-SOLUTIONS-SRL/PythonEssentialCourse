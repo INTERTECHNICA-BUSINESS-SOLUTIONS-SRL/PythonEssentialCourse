{
  "cells": [
    {
      "cell_type": "markdown",
      "metadata": {
        "id": "HoOwWSVgv-IC"
      },
      "source": [
        "# Arguments passing mechanisms\n",
        "\n",
        "The values for arguments are passed by reference during function calls. Let's explore the implications of this fact."
      ]
    },
    {
      "cell_type": "markdown",
      "metadata": {
        "id": "gB_wJkrmwlDZ"
      },
      "source": [
        "## Immutable data type arguments\n",
        "Immutable types are passing in the same manner as they would have been passed by value (i.e. changes of the values of these arguments is not reflected outside the function execution)."
      ]
    },
    {
      "cell_type": "code",
      "execution_count": 1,
      "metadata": {
        "colab": {
          "base_uri": "https://localhost:8080/"
        },
        "id": "vk_XRXQNw7OU",
        "outputId": "fde3dcd7-e2cf-4cb3-ce05-2cf2cf09ca21"
      },
      "outputs": [
        {
          "name": "stdout",
          "output_type": "stream",
          "text": [
            "The value of the argument inside the function execution is 1\n",
            "The value of the argument outside the function execution is 0\n"
          ]
        }
      ],
      "source": [
        "# define a function that changes an immutable data type value\n",
        "# inside the function body\n",
        "def increment_value(value) :\n",
        "  # the value of the argument will change inside the function body\n",
        "  value = value + 1\n",
        "  print(\"The value of the argument inside the function execution is\", value)\n",
        "\n",
        "initial_value = 0\n",
        "increment_value(initial_value)\n",
        "# the change of value is not reflected outside the function execution\n",
        "print(\"The value of the argument outside the function execution is\", initial_value)"
      ]
    },
    {
      "cell_type": "markdown",
      "metadata": {
        "id": "Se8xCscAICSC"
      },
      "source": [
        "## Mutable data type arguments\n",
        "The values of these arguments are passed by reference. Any change of such a value is visible outside a function's body execution."
      ]
    },
    {
      "cell_type": "code",
      "execution_count": 2,
      "metadata": {
        "colab": {
          "base_uri": "https://localhost:8080/"
        },
        "id": "X9-FZvIEIPz7",
        "outputId": "e2a9834f-5b07-4364-9e7a-4c995959904e"
      },
      "outputs": [
        {
          "name": "stdout",
          "output_type": "stream",
          "text": [
            "The changed value inside the function's body is  ['Initial value to change', 'Additional value']\n",
            "The reassigned value inside the function's body is  ['Reassigned value']\n",
            "The changed value outside the function's body is  ['Initial value to change', 'Additional value']\n",
            "The reassigned value outside the function's body is  ['Initial value to reassign']\n"
          ]
        }
      ],
      "source": [
        "# define a function that changes mutable data type values\n",
        "def change_lists(change_of_value, reassignment_of_value) :\n",
        "  # perform the change and reassignment\n",
        "  # the effects are visible inside the function's body\n",
        "  change_of_value.append(\"Additional value\")\n",
        "  reassignment_of_value = [\"Reassigned value\"]\n",
        "  print(\"The changed value inside the function's body is \", change_of_value)\n",
        "  print(\"The reassigned value inside the function's body is \", reassignment_of_value)\n",
        "\n",
        "value_to_change = [\"Initial value to change\"]\n",
        "value_to_reassign = [\"Initial value to reassign\"]\n",
        "change_lists(value_to_change, value_to_reassign)\n",
        "\n",
        "# only the changed value propagates outside the function's body\n",
        "print(\"The changed value outside the function's body is \", value_to_change)\n",
        "print(\"The reassigned value outside the function's body is \", value_to_reassign)"
      ]
    },
    {
      "cell_type": "markdown",
      "metadata": {
        "id": "aSANa7uzaZqc"
      },
      "source": [
        "## Mutable default arguments\n",
        "Any changes of the default arguments values with mutable data type are persistent across subsequent function calls."
      ]
    },
    {
      "cell_type": "code",
      "execution_count": 3,
      "metadata": {
        "colab": {
          "base_uri": "https://localhost:8080/"
        },
        "id": "MbeQpgDybMaR",
        "outputId": "83031f73-cd26-4b05-d4ed-49565ed17d6e"
      },
      "outputs": [
        {
          "name": "stdout",
          "output_type": "stream",
          "text": [
            "The resulted list is:  [1]\n",
            "The resulted list is:  [1, 2]\n"
          ]
        }
      ],
      "source": [
        "# define a function with a mutable data type default argument\n",
        "def add_to_list(value, initial_list = []) :\n",
        "  initial_list.append(value)\n",
        "  print(\"The resulted list is: \", initial_list)\n",
        "\n",
        "# use the default argument in function's call\n",
        "# the default value will be changed by the function\n",
        "add_to_list(1)\n",
        "\n",
        "# the default argument's value is not reset\n",
        "# on subsequent function calls\n",
        "add_to_list(2)"
      ]
    }
  ],
  "metadata": {
    "colab": {
      "provenance": []
    },
    "kernelspec": {
      "display_name": "Python 3",
      "name": "python3"
    },
    "language_info": {
      "codemirror_mode": {
        "name": "ipython",
        "version": 3
      },
      "file_extension": ".py",
      "mimetype": "text/x-python",
      "name": "python",
      "nbconvert_exporter": "python",
      "pygments_lexer": "ipython3",
      "version": "3.9.7"
    }
  },
  "nbformat": 4,
  "nbformat_minor": 0
}
