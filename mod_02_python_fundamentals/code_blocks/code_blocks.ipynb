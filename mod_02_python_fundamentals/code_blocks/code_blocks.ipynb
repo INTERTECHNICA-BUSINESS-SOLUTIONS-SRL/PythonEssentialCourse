{
  "cells": [
    {
      "cell_type": "markdown",
      "metadata": {
        "id": "J-izKlwfZUbj"
      },
      "source": [
        "# Code Blocks\n",
        "This notebook focuses on exemplification of code blocks."
      ]
    },
    {
      "cell_type": "code",
      "execution_count": 1,
      "metadata": {
        "colab": {
          "base_uri": "https://localhost:8080/"
        },
        "id": "Ka7sCsAXY24Q",
        "outputId": "7f6d2e1c-f00a-4cfe-81b1-9aac5ada4ac8"
      },
      "outputs": [
        {
          "name": "stdout",
          "output_type": "stream",
          "text": [
            "This code is part of the conditional branch block\n",
            "This code is also part of the conditional branch block\n",
            "The code block must indented in this case\n",
            "If the code block is not properly indented, it will generated an error\n"
          ]
        }
      ],
      "source": [
        "# the code in a conditional execution branch is a code block\n",
        "# the code block is executed only when the conditional expression\n",
        "# of the conditional execution branch is true\n",
        "if True :\n",
        "  print(\"This code is part of the conditional branch block\")\n",
        "  print(\"This code is also part of the conditional branch block\")\n",
        "  print(\"The code block must indented in this case\")\n",
        "  print(\"If the code block is not properly indented, it will generated an error\")"
      ]
    },
    {
      "cell_type": "code",
      "execution_count": 2,
      "metadata": {
        "colab": {
          "base_uri": "https://localhost:8080/"
        },
        "id": "HTOqroGXdqsq",
        "outputId": "edec2252-12da-439c-b30a-1ba9e3a29572"
      },
      "outputs": [
        {
          "name": "stdout",
          "output_type": "stream",
          "text": [
            "The code within the function body is a code block\n",
            "It has to be indented as any other code blocks\n",
            "The code block is executed as an unit when function is executed\n"
          ]
        }
      ],
      "source": [
        "# the code inside the function body is a code block\n",
        "# which gets executed during the function call\n",
        "def standard_function() :\n",
        "  print(\"The code within the function body is a code block\")\n",
        "  print(\"It has to be indented as any other code blocks\")\n",
        "  print(\"The code block is executed as an unit when function is executed\")\n",
        "  return;\n",
        "\n",
        "standard_function()"
      ]
    },
    {
      "cell_type": "code",
      "execution_count": 3,
      "metadata": {
        "colab": {
          "base_uri": "https://localhost:8080/"
        },
        "id": "0US-Z4akqj5l",
        "outputId": "d38c79cc-013b-4637-e2f9-61fdeb55a7fa"
      },
      "outputs": [
        {
          "name": "stdout",
          "output_type": "stream",
          "text": [
            "This code block will be executed as a part of the class definition\n"
          ]
        },
        {
          "data": {
            "text/plain": [
              "<__main__.SimpleClass at 0x2306af923d0>"
            ]
          },
          "execution_count": 3,
          "metadata": {},
          "output_type": "execute_result"
        }
      ],
      "source": [
        "# the code inside a class definition constitutes a code block\n",
        "# which is executed when class definition is processed\n",
        "# by the Python interpreter\n",
        "class SimpleClass :\n",
        "\n",
        "  def __init__(self) :\n",
        "    print(\"This code block will be executed as a part of the class definition\")\n",
        "    return\n",
        "\n",
        "SimpleClass()"
      ]
    },
    {
      "cell_type": "markdown",
      "metadata": {},
      "source": [
        "## Practice and homework\n",
        "Please follow the instructions in the following cells and solve the associated challenges."
      ]
    },
    {
      "cell_type": "code",
      "execution_count": 14,
      "metadata": {},
      "outputs": [],
      "source": [
        "# uncomment the code block bellow and ensure that is runs without syntax errors\n",
        "\n",
        "# print (\"First line\")\n",
        "#     print(\"Second line\")\n",
        "\n",
        "# if True:\n",
        "# print (\"This is always executed\")\n",
        "\n",
        "# for i in range(1, 10):\n",
        "#     print(i)\n",
        "#         break\n",
        "\n"
      ]
    }
  ],
  "metadata": {
    "colab": {
      "provenance": []
    },
    "kernelspec": {
      "display_name": "Python 3",
      "name": "python3"
    },
    "language_info": {
      "codemirror_mode": {
        "name": "ipython",
        "version": 3
      },
      "file_extension": ".py",
      "mimetype": "text/x-python",
      "name": "python",
      "nbconvert_exporter": "python",
      "pygments_lexer": "ipython3",
      "version": "3.9.7"
    }
  },
  "nbformat": 4,
  "nbformat_minor": 0
}
