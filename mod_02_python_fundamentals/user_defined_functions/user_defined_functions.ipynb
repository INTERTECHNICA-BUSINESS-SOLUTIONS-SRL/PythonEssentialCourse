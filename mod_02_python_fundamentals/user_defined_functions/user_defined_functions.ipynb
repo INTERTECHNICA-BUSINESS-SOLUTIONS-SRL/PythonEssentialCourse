{
  "nbformat": 4,
  "nbformat_minor": 0,
  "metadata": {
    "colab": {
      "provenance": []
    },
    "kernelspec": {
      "name": "python3",
      "display_name": "Python 3"
    },
    "language_info": {
      "name": "python"
    }
  },
  "cells": [
    {
      "cell_type": "markdown",
      "source": [
        "# User defined functions\n",
        "User defined functions are an essential mechanism for implementing complex behavior and enhancing reusability."
      ],
      "metadata": {
        "id": "HoOwWSVgv-IC"
      }
    },
    {
      "cell_type": "markdown",
      "source": [
        "## Simple function definitions\n",
        "Let's explore the basic mechanisms used for creating user defined functions."
      ],
      "metadata": {
        "id": "gB_wJkrmwlDZ"
      }
    },
    {
      "cell_type": "code",
      "source": [
        "# implement a basic function definition\n",
        "def do_nothing() : # a function without parameters\n",
        "  \"\"\"\n",
        "    This function will do not perform any processing.\n",
        "  \"\"\"\n",
        "  return # no processing is done, no value is returned\n",
        "\n",
        "# call the function\n",
        "do_nothing()"
      ],
      "metadata": {
        "id": "vk_XRXQNw7OU"
      },
      "execution_count": 1,
      "outputs": []
    },
    {
      "cell_type": "code",
      "source": [
        "# implement a function with basic processing\n",
        "def calculate_maximum(v1, v2) : # simple parameters list\n",
        "  \"\"\"\n",
        "    This function will calculate the maximum of two values.\n",
        "  \"\"\"\n",
        "  # returning the maximum value based on conditional processing\n",
        "  if (v1 > v2):\n",
        "    return v1\n",
        "  else:\n",
        "    return v2\n",
        "\n",
        "# call the function and display the result\n",
        "print(calculate_maximum(1, 2))"
      ],
      "metadata": {
        "colab": {
          "base_uri": "https://localhost:8080/"
        },
        "id": "fVZbVRvmrodE",
        "outputId": "1a1bd670-41d2-441e-8d7e-5fe3046d6dd9"
      },
      "execution_count": 2,
      "outputs": [
        {
          "output_type": "stream",
          "name": "stdout",
          "text": [
            "2\n"
          ]
        }
      ]
    }
  ]
}