{
  "cells": [
    {
      "cell_type": "markdown",
      "metadata": {
        "id": "HoOwWSVgv-IC"
      },
      "source": [
        "# User defined functions\n",
        "User defined functions are an essential mechanism for implementing complex behavior and enhancing reusability."
      ]
    },
    {
      "cell_type": "markdown",
      "metadata": {
        "id": "gB_wJkrmwlDZ"
      },
      "source": [
        "## Simple function definitions\n",
        "Let's explore the basic mechanisms used for creating user defined functions."
      ]
    },
    {
      "cell_type": "code",
      "execution_count": 20,
      "metadata": {
        "id": "vk_XRXQNw7OU"
      },
      "outputs": [],
      "source": [
        "# implement a basic function definition\n",
        "def do_nothing() : # a function without parameters\n",
        "  \"\"\"\n",
        "    This function will do not perform any processing.\n",
        "  \"\"\"\n",
        "  return # no processing is done, no value is returned\n",
        "\n",
        "# call the function\n",
        "do_nothing()"
      ]
    },
    {
      "cell_type": "code",
      "execution_count": 21,
      "metadata": {
        "colab": {
          "base_uri": "https://localhost:8080/"
        },
        "id": "fVZbVRvmrodE",
        "outputId": "1a1bd670-41d2-441e-8d7e-5fe3046d6dd9"
      },
      "outputs": [
        {
          "name": "stdout",
          "output_type": "stream",
          "text": [
            "2\n"
          ]
        }
      ],
      "source": [
        "# implement a function with basic processing\n",
        "def calculate_maximum(v1, v2) : # simple parameters list\n",
        "  \"\"\"\n",
        "    This function will calculate the maximum of two values.\n",
        "  \"\"\"\n",
        "  # returning the maximum value based on conditional processing\n",
        "  if (v1 > v2):\n",
        "    return v1\n",
        "  else:\n",
        "    return v2\n",
        "\n",
        "# call the function and display the result\n",
        "print(calculate_maximum(1, 2))"
      ]
    },
    {
      "cell_type": "markdown",
      "metadata": {},
      "source": [
        "## Calling a function from another one.\n",
        "Let's explore the basic mechanisms used for calling a function from another one."
      ]
    },
    {
      "cell_type": "code",
      "execution_count": 22,
      "metadata": {},
      "outputs": [
        {
          "name": "stdout",
          "output_type": "stream",
          "text": [
            "The averages of the input list are:  [5.0, 15.0, 0.0]\n"
          ]
        }
      ],
      "source": [
        "# let's define a function that calculates the average of an input list\n",
        "def average(input_list) :\n",
        "    sum_value = 0\n",
        "    for element in input_list :\n",
        "        sum_value = sum_value + element\n",
        "\n",
        "    average_result = sum_value /len(input_list)\n",
        "\n",
        "    return average_result\n",
        "\n",
        "# let's use the defined function to calculate the list of averages\n",
        "# considering we received a list of lists \n",
        "def list_of_averages(input_lists):\n",
        "    averages_list = []\n",
        "    \n",
        "    for input_list in input_lists :\n",
        "        # calling the function to compute the average of input list\n",
        "        input_list_average = average(input_list)\n",
        "        averages_list.append(input_list_average)\n",
        "\n",
        "    return averages_list\n",
        "\n",
        "# let's utilize the function\n",
        "input_list = [\n",
        "    list(range(0, 11)),\n",
        "    list(range(10, 21)),\n",
        "    list(range(-20, 21)),\n",
        "]\n",
        "\n",
        "input_list_averages = list_of_averages(input_list)\n",
        "\n",
        "print(\"The averages of the input list are: \", list_of_averages(input_list))"
      ]
    },
    {
      "cell_type": "code",
      "execution_count": 23,
      "metadata": {},
      "outputs": [
        {
          "name": "stdout",
          "output_type": "stream",
          "text": [
            "An example of Fibonacci sequence is: [0, 1, 1, 2, 3, 5, 8, 13, 21, 34]\n"
          ]
        }
      ],
      "source": [
        "# let's calculate a Fibonacci list using recursion\n",
        "# in a Fibonacci sequence, each number is the sum of the previous two\n",
        "def fibonacci_recursive(current_list, max_length):\n",
        "    if len(current_list) >= max_length:\n",
        "        # recursion ends here\n",
        "        return current_list\n",
        "    \n",
        "    # call on itself for further computing\n",
        "    current_list.append(current_list[-1] + current_list[-2])\n",
        "    return fibonacci_recursive(current_list, max_length)\n",
        "\n",
        "# calculate the Fibonacci sequence with the standard sequence seed\n",
        "# and a length of 10\n",
        "\n",
        "print(\"An example of Fibonacci sequence is:\", fibonacci_recursive([0,1], 10))"
      ]
    },
    {
      "cell_type": "markdown",
      "metadata": {},
      "source": [
        "It is possible that a function will call on itself, this mechanism is called recursion."
      ]
    }
  ],
  "metadata": {
    "colab": {
      "provenance": []
    },
    "kernelspec": {
      "display_name": "Python 3",
      "name": "python3"
    },
    "language_info": {
      "codemirror_mode": {
        "name": "ipython",
        "version": 3
      },
      "file_extension": ".py",
      "mimetype": "text/x-python",
      "name": "python",
      "nbconvert_exporter": "python",
      "pygments_lexer": "ipython3",
      "version": "3.9.7"
    }
  },
  "nbformat": 4,
  "nbformat_minor": 0
}
