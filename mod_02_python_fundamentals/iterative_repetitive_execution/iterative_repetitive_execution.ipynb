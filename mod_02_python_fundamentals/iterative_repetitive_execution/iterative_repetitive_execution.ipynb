{
  "nbformat": 4,
  "nbformat_minor": 0,
  "metadata": {
    "colab": {
      "provenance": []
    },
    "kernelspec": {
      "name": "python3",
      "display_name": "Python 3"
    },
    "language_info": {
      "name": "python"
    }
  },
  "cells": [
    {
      "cell_type": "markdown",
      "source": [
        "# Iterative repetitive execution\n",
        "Let's explore how Python can repeatedly execute a block of code over each element from a sequence."
      ],
      "metadata": {
        "id": "HoOwWSVgv-IC"
      }
    },
    {
      "cell_type": "markdown",
      "source": [
        "## The for statement\n",
        "The for statement is the essential mechanism used by Python for iterative repetitive execution."
      ],
      "metadata": {
        "id": "gB_wJkrmwlDZ"
      }
    },
    {
      "cell_type": "code",
      "source": [
        "# prepare the data\n",
        "x = [0, 1, 2, 3, 4, 5, 6, 7, 8, 9]\n",
        "\n",
        "# let's calculate the sum of values in a sequence and\n",
        "# append it to the end of the sequence\n",
        "sum_elements = 0\n",
        "for element in x :\n",
        "  sum_elements = sum_elements + element\n",
        "else:\n",
        "  x.append(sum_elements)\n",
        "\n",
        "print(\"The sequence with the sum of elements appended to the end is: \", x)"
      ],
      "metadata": {
        "colab": {
          "base_uri": "https://localhost:8080/"
        },
        "id": "vk_XRXQNw7OU",
        "outputId": "fb6b1e6a-38ad-4dd7-f0cb-7b020d4ac5e1"
      },
      "execution_count": 1,
      "outputs": [
        {
          "output_type": "stream",
          "name": "stdout",
          "text": [
            "The sequence with the sum of elements appended to the end is:  [0, 1, 2, 3, 4, 5, 6, 7, 8, 9, 45]\n"
          ]
        }
      ]
    },
    {
      "cell_type": "code",
      "source": [
        "# the else block is executed even on empty sequences\n",
        "for element in [] :\n",
        "  print(\"for-block has been executed\")\n",
        "else:\n",
        "  print(\"else-block has been executed\")"
      ],
      "metadata": {
        "colab": {
          "base_uri": "https://localhost:8080/"
        },
        "id": "XACR-S6DHoLm",
        "outputId": "82e58ee5-f459-4890-b7a3-b010d8ec400a"
      },
      "execution_count": 2,
      "outputs": [
        {
          "output_type": "stream",
          "name": "stdout",
          "text": [
            "else-block has been executed\n"
          ]
        }
      ]
    },
    {
      "cell_type": "markdown",
      "source": [
        "## Nesting for statements\n",
        "\n",
        "The for statement can contain an arbitrary number of nested for statements."
      ],
      "metadata": {
        "id": "Se8xCscAICSC"
      }
    },
    {
      "cell_type": "code",
      "source": [
        "# prepare the data\n",
        "x = [\n",
        "      [ 0,  1,  2,  3,  4,  5,  6,  7,  8,  9],\n",
        "      [10, 11, 12, 13, 14, 15, 16, 17, 18, 19],\n",
        "      [20, 21, 22, 23, 24, 25, 26, 27, 28, 29]\n",
        "]\n",
        "\n",
        "# let's calculate the sum of numbers in a matrix\n",
        "# by using a nested for loop\n",
        "sum_elements = 0\n",
        "for row in x: # iterate over rows\n",
        "  for element in row: # iterate over elements in the row\n",
        "    sum_elements = sum_elements + element\n",
        "\n",
        "print(\"The sum of the elements in the matrix is: \",  sum_elements)"
      ],
      "metadata": {
        "colab": {
          "base_uri": "https://localhost:8080/"
        },
        "id": "X9-FZvIEIPz7",
        "outputId": "f020f399-5b1d-4cdd-eb23-6d126bccedac"
      },
      "execution_count": 3,
      "outputs": [
        {
          "output_type": "stream",
          "name": "stdout",
          "text": [
            "The sum of the elements in the matrix is:  435\n"
          ]
        }
      ]
    }
  ]
}