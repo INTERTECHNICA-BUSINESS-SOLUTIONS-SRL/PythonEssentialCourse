{
  "cells": [
    {
      "cell_type": "markdown",
      "metadata": {
        "id": "HoOwWSVgv-IC"
      },
      "source": [
        "# Set data type\n",
        "This notebook focuses on presenting the Python set data type."
      ]
    },
    {
      "cell_type": "markdown",
      "metadata": {
        "id": "gB_wJkrmwlDZ"
      },
      "source": [
        "## Creating sets\n",
        "Let's focus on creating set values."
      ]
    },
    {
      "cell_type": "code",
      "execution_count": 3,
      "metadata": {
        "colab": {
          "base_uri": "https://localhost:8080/"
        },
        "id": "vk_XRXQNw7OU",
        "outputId": "3a404b82-0aa7-4c3f-d087-8e2d218e8ebf"
      },
      "outputs": [
        {
          "name": "stdout",
          "output_type": "stream",
          "text": [
            "set() \n",
            "\n",
            " {'Three', 'Two', 'One'} \n",
            "\n",
            " {'Three', 1, 2} \n",
            "\n",
            "\n"
          ]
        }
      ],
      "source": [
        "# creating sets\n",
        "empty_set = set()\n",
        "homogenous_set = set([\"One\", \"Two\", \"Three\"])\n",
        "heterogenous_set = {1, 2, \"Three\"}\n",
        "\n",
        "print(empty_set, \"\\n\\n\", homogenous_set, \"\\n\\n\", heterogenous_set, \"\\n\\n\")"
      ]
    },
    {
      "cell_type": "markdown",
      "metadata": {
        "id": "6r5jv-ONzlmp"
      },
      "source": [
        "## Using set operators\n",
        "Let's explore the basic functionality of set operators."
      ]
    },
    {
      "cell_type": "code",
      "execution_count": 9,
      "metadata": {
        "colab": {
          "base_uri": "https://localhost:8080/"
        },
        "id": "OpFYHKl1zptY",
        "outputId": "ea78f796-87ba-409b-ddfa-1dab090669c5"
      },
      "outputs": [
        {
          "name": "stdout",
          "output_type": "stream",
          "text": [
            "First set is: {0, 1, 2, 3, 4, 5, 6, 7, 8, 9}\n",
            "Second set is: {0, 2, 4, 6, 8}\n",
            "The union between sets is: {0, 1, 2, 3, 4, 5, 6, 7, 8, 9} or using the union function {0, 1, 2, 3, 4, 5, 6, 7, 8, 9}\n",
            "The intersection between sets is: {0, 2, 4, 6, 8} or using the union function {0, 2, 4, 6, 8}\n",
            "The difference between sets is: {1, 3, 5, 7, 9} or using the difference function {1, 3, 5, 7, 9}\n",
            "The symmetric difference between sets is: {1, 3, 5, 7, 9} or using the symmetric difference function {1, 3, 5, 7, 9}\n",
            "Checking if set_2 in a subset of set_1 leads to: True or using the issubset function True\n",
            "Checking if set_2 in a superset of set_1 leads to: False or using the issuperset function False\n",
            "Checking if element 1 is in set_1 leads to: True\n",
            "Checking if element 1 is not in set_1 leads to: False\n"
          ]
        }
      ],
      "source": [
        "# using set operators\n",
        "set_1, set_2 = {0, 1, 2, 3, 4, 5, 6, 7, 8, 9}, {0, 2, 4, 6, 8}\n",
        "\n",
        "print(\"First set is:\", set_1)\n",
        "print(\"Second set is:\", set_2)\n",
        "print(\"The union between sets is:\", set_1 | set_2, \n",
        "      \"or using the union function\", set_1.union(set_2))\n",
        "print(\"The intersection between sets is:\", set_1 & set_2, \n",
        "      \"or using the union function\", set_1.intersection(set_2))\n",
        "print(\"The difference between sets is:\", set_1 - set_2, \n",
        "      \"or using the difference function\", set_1.difference(set_2))\n",
        "print(\"The symmetric difference between sets is:\", set_1 ^ set_2, \n",
        "      \"or using the symmetric difference function\", set_1.symmetric_difference(set_2))\n",
        "print(\"Checking if set_2 in a subset of set_1 leads to:\", set_2 < set_1, \n",
        "      \"or using the issubset function\", set_2.issubset(set_1))\n",
        "print(\"Checking if set_2 in a superset of set_1 leads to:\", set_2 > set_1, \n",
        "      \"or using the issuperset function\", set_2.issuperset(set_1))\n",
        "print(\"Checking if element 1 is in set_1 leads to:\", 1 in set_1)\n",
        "print(\"Checking if element 1 is not in set_1 leads to:\", 1 not in set_1)"
      ]
    },
    {
      "cell_type": "markdown",
      "metadata": {
        "id": "GK68KjdiRZaT"
      },
      "source": [
        "## Using set functions\n",
        "\n",
        "Let's explore the usage of various set functions."
      ]
    },
    {
      "cell_type": "code",
      "execution_count": 10,
      "metadata": {
        "colab": {
          "base_uri": "https://localhost:8080/"
        },
        "id": "GgAKZXBDRhSS",
        "outputId": "3f67e1ea-d25a-4ac3-9ff4-74e33ce9d4af"
      },
      "outputs": [
        {
          "name": "stdout",
          "output_type": "stream",
          "text": [
            "The baseline set's is: {0, 1, 2, 3, 4, 5, 6, 7, 8, 9}\n",
            "The baseline set's length is: 10\n",
            "Adding element 10 leads to: {0, 1, 2, 3, 4, 5, 6, 7, 8, 9, 10}\n",
            "Removing element 0 leads to: {1, 2, 3, 4, 5, 6, 7, 8, 9, 10}\n",
            "Discarding element 20 (non-existent) leads to: {1, 2, 3, 4, 5, 6, 7, 8, 9, 10}\n"
          ]
        }
      ],
      "source": [
        "# usage of various set functions\n",
        "base_set = {0, 1, 2, 3, 4, 5, 6, 7, 8, 9}\n",
        "\n",
        "print(\"The baseline set is:\", base_set)\n",
        "print(\"The baseline set's length is:\", len(base_set))\n",
        "base_set.add(10)\n",
        "print(\"Adding element 10 leads to:\", base_set)\n",
        "base_set.remove(0)\n",
        "print(\"Removing element 0 leads to:\", base_set)\n",
        "base_set.discard(20)\n",
        "print(\"Discarding element 20 (non-existent) leads to:\", base_set)"
      ]
    }
  ],
  "metadata": {
    "colab": {
      "provenance": []
    },
    "kernelspec": {
      "display_name": "Python 3",
      "name": "python3"
    },
    "language_info": {
      "codemirror_mode": {
        "name": "ipython",
        "version": 3
      },
      "file_extension": ".py",
      "mimetype": "text/x-python",
      "name": "python",
      "nbconvert_exporter": "python",
      "pygments_lexer": "ipython3",
      "version": "3.9.7"
    }
  },
  "nbformat": 4,
  "nbformat_minor": 0
}
