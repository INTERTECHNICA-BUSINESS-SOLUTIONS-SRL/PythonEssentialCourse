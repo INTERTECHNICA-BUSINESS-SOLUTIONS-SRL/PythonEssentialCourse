{
  "nbformat": 4,
  "nbformat_minor": 0,
  "metadata": {
    "colab": {
      "provenance": []
    },
    "kernelspec": {
      "name": "python3",
      "display_name": "Python 3"
    },
    "language_info": {
      "name": "python"
    }
  },
  "cells": [
    {
      "cell_type": "markdown",
      "source": [
        "# Conditional repetitive execution\n",
        "Let's explore how Python can repeatedly execute a block of code as long as a certain logical condition is fulfilled."
      ],
      "metadata": {
        "id": "HoOwWSVgv-IC"
      }
    },
    {
      "cell_type": "markdown",
      "source": [
        "## The while statement\n",
        "The while statement is the essential mechanism used by Python for conditional repetitive execution."
      ],
      "metadata": {
        "id": "gB_wJkrmwlDZ"
      }
    },
    {
      "cell_type": "code",
      "source": [
        "# prepare the data\n",
        "x = [0, 1, 2, 3, 4, 5, 6, 7, 8, 9]\n",
        "\n",
        "# let's calculate the maximum sum of values in a sequence that\n",
        "# is smaller than a certain limit\n",
        "limit = 30\n",
        "sum_elements = 0\n",
        "current_index = 0\n",
        "\n",
        "while (current_index < len(x)) and (sum_elements + x[current_index] < limit) :\n",
        "  sum_elements = sum_elements + x[current_index]\n",
        "  current_index = current_index + 1\n",
        "else:\n",
        "  print(\"The maximum sum of elements the sequence that is bellow \", limit, \"is\", sum_elements)\n",
        "\n",
        "print(\"The number of elements generating this sum is: \", current_index)"
      ],
      "metadata": {
        "colab": {
          "base_uri": "https://localhost:8080/"
        },
        "id": "vk_XRXQNw7OU",
        "outputId": "ea60ec2e-b9cf-461a-92bf-09756547e696"
      },
      "execution_count": null,
      "outputs": [
        {
          "output_type": "stream",
          "name": "stdout",
          "text": [
            "The maximum sum of elements the sequence that is bellow  30 is 28\n",
            "The number of elements generating this sum is:  8\n"
          ]
        }
      ]
    },
    {
      "cell_type": "code",
      "source": [
        "# the else block is executed even on false conditions\n",
        "while False :\n",
        "  print(\"while-block has been executed\")\n",
        "else:\n",
        "  print(\"else-block has been executed\")"
      ],
      "metadata": {
        "colab": {
          "base_uri": "https://localhost:8080/"
        },
        "id": "XACR-S6DHoLm",
        "outputId": "3430406a-5183-4328-a035-0644b44bb3b8"
      },
      "execution_count": null,
      "outputs": [
        {
          "output_type": "stream",
          "name": "stdout",
          "text": [
            "else-block has been executed\n"
          ]
        }
      ]
    },
    {
      "cell_type": "markdown",
      "source": [
        "## Nesting while statements\n",
        "\n",
        "The while statement can contain an arbitrary number of nested while statements."
      ],
      "metadata": {
        "id": "Se8xCscAICSC"
      }
    },
    {
      "cell_type": "code",
      "source": [
        "# prepare the data\n",
        "x = [\n",
        "      [ 0,  1,  2,  3,  4,  5,  6,  7,  8,  9],\n",
        "      [10, 11, 12, 13, 14, 15, 16, 17, 18, 19],\n",
        "      [20, 21, 22, 23, 24, 25, 26, 27, 28, 29]\n",
        "]\n",
        "\n",
        "# let's calculate the sum of numbers in a matrix\n",
        "# by using a nested while loop\n",
        "sum_elements = 0\n",
        "num_rows = len(x)\n",
        "index_row = 0\n",
        "\n",
        "while index_row < num_rows: # iterate over rows\n",
        "\n",
        "  column = x[index_row]\n",
        "  num_elements = len(column)\n",
        "  index_element = 0\n",
        "\n",
        "  while index_element < num_elements: # iterate over elements in the row\n",
        "    element = column[index_element]\n",
        "    sum_elements = sum_elements + element\n",
        "    index_element = index_element + 1\n",
        "\n",
        "  index_row = index_row + 1\n",
        "\n",
        "print(\"The sum of the elements in the matrix is: \",  sum_elements)"
      ],
      "metadata": {
        "colab": {
          "base_uri": "https://localhost:8080/"
        },
        "id": "X9-FZvIEIPz7",
        "outputId": "769a4341-45ed-4052-9a2f-81dd13505e24"
      },
      "execution_count": null,
      "outputs": [
        {
          "output_type": "stream",
          "name": "stdout",
          "text": [
            "The sum of the elements in the matrix is:  435\n"
          ]
        }
      ]
    }
  ]
}