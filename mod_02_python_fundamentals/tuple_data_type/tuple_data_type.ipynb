{
  "cells": [
    {
      "cell_type": "markdown",
      "metadata": {
        "id": "HoOwWSVgv-IC"
      },
      "source": [
        "# Tuple data type\n",
        "This notebook focuses on presenting the Python tuple data type."
      ]
    },
    {
      "cell_type": "markdown",
      "metadata": {
        "id": "gB_wJkrmwlDZ"
      },
      "source": [
        "## Creating tuples\n",
        "Let's focus on creating tuple values."
      ]
    },
    {
      "cell_type": "code",
      "execution_count": 1,
      "metadata": {
        "colab": {
          "base_uri": "https://localhost:8080/"
        },
        "id": "vk_XRXQNw7OU",
        "outputId": "3a404b82-0aa7-4c3f-d087-8e2d218e8ebf"
      },
      "outputs": [
        {
          "name": "stdout",
          "output_type": "stream",
          "text": [
            "() \n",
            "\n",
            " (1,) \n",
            "\n",
            " (1, 2, 3, 4, 5, 6, 7, 8, 9, 10) \n",
            "\n",
            " ('John', 'Smith', 50) \n",
            "\n",
            " ((1, 2), (3, 4))\n"
          ]
        }
      ],
      "source": [
        "# creating tuples\n",
        "empty_tuple = ()\n",
        "one_element_tuple = (1,) # note the comma after the first element value\n",
        "homogenous_tuple = (1, 2, 3, 4, 5, 6 , 7, 8, 9, 10)\n",
        "heterogenous_tuple = (\"John\", \"Smith\", 50) # a tuple used to model person information\n",
        "embedded_tuples = ((1, 2), (3, 4))\n",
        "\n",
        "print(empty_tuple, \"\\n\\n\", one_element_tuple, \"\\n\\n\", homogenous_tuple, \"\\n\\n\", heterogenous_tuple, \"\\n\\n\", embedded_tuples)"
      ]
    },
    {
      "cell_type": "markdown",
      "metadata": {},
      "source": [
        "## Accessing tuple elements\n",
        "Tuple elements can be accessed in the same manner as list elements."
      ]
    },
    {
      "cell_type": "code",
      "execution_count": 2,
      "metadata": {},
      "outputs": [
        {
          "name": "stdout",
          "output_type": "stream",
          "text": [
            "Person information is:  ('John', 'Smith', 50, 'District of Columbia', 'Washington', '1ST ST')\n",
            "Person name is:  ('John', 'Smith')\n",
            "Person address is:  ('1ST ST', 'Washington', 'District of Columbia')\n"
          ]
        }
      ],
      "source": [
        "# let's create a tuple modelling a person information:\n",
        "# first name, last name, age, state, city, street\n",
        "\n",
        "person_information = (\"John\", \"Smith\", 50, \"District of Columbia\", \"Washington\", \"1ST ST\")\n",
        "print(\"Person information is: \", person_information)\n",
        "\n",
        "# let's extract the name of the person as a separate tuple\n",
        "person_name = person_information[0:2] \n",
        "print(\"Person name is: \", person_name)\n",
        "\n",
        "# let's extract the address of the person in reverse order (street, city, district) as a separate tuple\n",
        "person_address = person_information[-1:-4:-1] \n",
        "print(\"Person address is: \", person_address)"
      ]
    },
    {
      "cell_type": "markdown",
      "metadata": {
        "id": "6r5jv-ONzlmp"
      },
      "source": [
        "## Using tuple operators\n",
        "Let's explore the basic functionality of tuple operators."
      ]
    },
    {
      "cell_type": "code",
      "execution_count": 9,
      "metadata": {
        "colab": {
          "base_uri": "https://localhost:8080/"
        },
        "id": "OpFYHKl1zptY",
        "outputId": "ea78f796-87ba-409b-ddfa-1dab090669c5"
      },
      "outputs": [
        {
          "name": "stdout",
          "output_type": "stream",
          "text": [
            "First tuple is:  ('John', 'Smith', 50)\n",
            "Second tuple is:  ('District of Columbia', 'Washington', '1ST ST')\n",
            "The result of concatenation between tuples is:  ('John', 'Smith', 50, 'District of Columbia', 'Washington', '1ST ST')\n",
            "The result of multiplication of the tuple 1 by 2 is:  ('John', 'Smith', 50, 'John', 'Smith', 50)\n"
          ]
        }
      ],
      "source": [
        "# using tuple operators\n",
        "tuple_1, tuple_2 = (\"John\", \"Smith\", 50), (\"District of Columbia\", \"Washington\", \"1ST ST\")\n",
        "\n",
        "print(\"First tuple is: \", tuple_1)\n",
        "print(\"Second tuple is: \", tuple_2)\n",
        "print(\"The result of concatenation between tuples is: \", tuple_1 + tuple_2)\n",
        "print(\"The result of multiplication of the tuple 1 by 2 is: \", tuple_1 * 2)"
      ]
    },
    {
      "cell_type": "markdown",
      "metadata": {
        "id": "GK68KjdiRZaT"
      },
      "source": [
        "## Using tuple functions\n",
        "\n",
        "Let's explore the usage of various tuple functions."
      ]
    },
    {
      "cell_type": "code",
      "execution_count": 8,
      "metadata": {
        "colab": {
          "base_uri": "https://localhost:8080/"
        },
        "id": "GgAKZXBDRhSS",
        "outputId": "3f67e1ea-d25a-4ac3-9ff4-74e33ce9d4af"
      },
      "outputs": [
        {
          "name": "stdout",
          "output_type": "stream",
          "text": [
            "The baseline tuple's length is: 3\n",
            "The value 'Smith' is at index:  1\n"
          ]
        }
      ],
      "source": [
        "# usage of various tuple functions\n",
        "base_tuple = (\"John\", \"Smith\", 50)\n",
        "\n",
        "print(\"The baseline tuple's length is:\", len(base_tuple))\n",
        "print(\"The value 'Smith' is at index: \", base_tuple.index(\"Smith\"))\n",
        "\n",
        "# it is important to note that tuples are immutable so elements \n",
        "# cannot be added or removed from a tuple"
      ]
    },
    {
      "cell_type": "markdown",
      "metadata": {},
      "source": [
        "## Practice and homework\n",
        "Please follow the instructions and solve the associated challenges."
      ]
    },
    {
      "cell_type": "code",
      "execution_count": 5,
      "metadata": {},
      "outputs": [],
      "source": [
        "# We are going to monitor a vehicle that can go through various locations\n",
        "# which are identified by an integer in the interval 0 .. 9\n",
        "# We have received 100 measurements from our sensor logs:\n",
        "# location_log - a list of integers containing the identifier of the location at the measurement time\n",
        "# fuel_log - remaining fuel at the moment location sensor produced the associated entry in the location log \n",
        "\n",
        "# Please implement the following:\n",
        "\n",
        "# 1. Generate the journey of the vehicle as a list of tuples, each tuple containing\n",
        "# (start_location_id, end_location_id, fuel_consumption) where start_location_id, end_location_id\n",
        "# are consecutive locations in the location_log\n",
        "\n",
        "# 2. From the data previously generated, create a 10x10 matrix where row indexes represent the start_location_id\n",
        "# and column indexes represent the end_location_id. The values in the matrix represent\n",
        "# the fuel consumption, use -1 if the information cannot be determined from the logs\n",
        "# for a certain (start_location_id, end_location_id) pair.\n",
        "# Program defensively, for example generating an error if for the same (start_location_id, end_location_id) pair\n",
        "# we have different values of fuel consumption in the log."
      ]
    }
  ],
  "metadata": {
    "colab": {
      "provenance": []
    },
    "kernelspec": {
      "display_name": "Python 3",
      "name": "python3"
    },
    "language_info": {
      "codemirror_mode": {
        "name": "ipython",
        "version": 3
      },
      "file_extension": ".py",
      "mimetype": "text/x-python",
      "name": "python",
      "nbconvert_exporter": "python",
      "pygments_lexer": "ipython3",
      "version": "3.9.7"
    }
  },
  "nbformat": 4,
  "nbformat_minor": 0
}
