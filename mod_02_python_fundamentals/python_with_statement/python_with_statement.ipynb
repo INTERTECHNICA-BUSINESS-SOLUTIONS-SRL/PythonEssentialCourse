{
  "cells": [
    {
      "cell_type": "markdown",
      "metadata": {
        "id": "HoOwWSVgv-IC"
      },
      "source": [
        "# Python: With Statements\n",
        "\n",
        "The with statements allows transparent management of resources (allocating and deallocating) by using context managers.\n",
        "\n",
        "It wraps up a try-except-finally block to do this transparently, automating resources management and simplifying the developed code."
      ]
    },
    {
      "cell_type": "markdown",
      "metadata": {
        "id": "rlLBsXrBmnQy"
      },
      "source": [
        "## Using the with statement\n",
        "\n",
        "The with statement can be used with any context managers, a widely used use case being handling of files.\n"
      ]
    },
    {
      "cell_type": "code",
      "execution_count": 1,
      "metadata": {
        "colab": {
          "base_uri": "https://localhost:8080/"
        },
        "id": "vk_XRXQNw7OU",
        "outputId": "7446fc6d-1e27-4337-9768-75d010bee584"
      },
      "outputs": [],
      "source": [
        "# using classic exception management mechanisms \n",
        "# for handling files\n",
        "import os\n",
        "\n",
        "file = None\n",
        "try:\n",
        "    # open the file and write data\n",
        "    file = open(\"data.txt\", \"w\")\n",
        "    file.write(\"Sample data written to file.\")\n",
        "finally:\n",
        "    # ensure that the file is closed after use\n",
        "    if file is not None: \n",
        "        file.close()\n",
        "\n",
        "# clean up the file \n",
        "os.remove(\"data.txt\")"
      ]
    },
    {
      "cell_type": "code",
      "execution_count": null,
      "metadata": {},
      "outputs": [],
      "source": [
        "# perform the file writing operations using the with statement\n",
        "# it guarantees that the file will be closed after the \n",
        "# with statement\n",
        "with open(\"data.txt\", \"w\") as file:\n",
        "    file.write(\"Sample data written to file.\")\n",
        "\n",
        "# clean up the file\n",
        "os.remove(\"data.txt\")"
      ]
    },
    {
      "cell_type": "markdown",
      "metadata": {},
      "source": [
        "## Implementing custom context managers\n",
        "\n",
        "It is possible to implement custom context managers for handling resource allocation and deallocation in a custom manner."
      ]
    },
    {
      "cell_type": "code",
      "execution_count": 16,
      "metadata": {},
      "outputs": [],
      "source": [
        "# implementing a custom context manager for handling\n",
        "# opening and closing of files\n",
        "class CustomFileContextManager:\n",
        "    \n",
        "    # constructor method\n",
        "    def __init__(self, file_name, method):\n",
        "        print(\"The file object will be opened\")\n",
        "        self.file = open(file_name, method)\n",
        "    \n",
        "    # the __enter__ method returns the file object \n",
        "    # which was opened by the constructor    \n",
        "    def __enter__(self):\n",
        "        print(\"The file object will be returned\")\n",
        "        return self.file\n",
        "\n",
        "    # the __exit__ method closes the file object \n",
        "    # it receives the exception type, value and traceback\n",
        "    # for any exception that may occur during the execution of the with statement\n",
        "    # it return False, meaning it should not suppress any exceptions        \n",
        "    def __exit__(self, exc_type, exc_val, exc_tb):\n",
        "        print(\"The file object will be closed\")\n",
        "        self.file.close()\n",
        "        return False"
      ]
    },
    {
      "cell_type": "code",
      "execution_count": 18,
      "metadata": {},
      "outputs": [
        {
          "name": "stdout",
          "output_type": "stream",
          "text": [
            "The file object will be opened\n",
            "The file object will be returned\n",
            "The file object will be closed\n"
          ]
        }
      ],
      "source": [
        "with CustomFileContextManager(\"data.txt\", \"w\") as file :\n",
        "    file.write(\"Sample data written to file.\")"
      ]
    }
  ],
  "metadata": {
    "colab": {
      "provenance": []
    },
    "kernelspec": {
      "display_name": "Python 3",
      "name": "python3"
    },
    "language_info": {
      "codemirror_mode": {
        "name": "ipython",
        "version": 3
      },
      "file_extension": ".py",
      "mimetype": "text/x-python",
      "name": "python",
      "nbconvert_exporter": "python",
      "pygments_lexer": "ipython3",
      "version": "3.11.5"
    }
  },
  "nbformat": 4,
  "nbformat_minor": 0
}
