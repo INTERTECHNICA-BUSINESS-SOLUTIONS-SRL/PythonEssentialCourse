{
  "nbformat": 4,
  "nbformat_minor": 0,
  "metadata": {
    "colab": {
      "provenance": []
    },
    "kernelspec": {
      "name": "python3",
      "display_name": "Python 3"
    },
    "language_info": {
      "name": "python"
    }
  },
  "cells": [
    {
      "cell_type": "markdown",
      "source": [
        "# String data type\n",
        "This notebook focuses on presenting the Python string data type."
      ],
      "metadata": {
        "id": "yJ_s4wl4N7jw"
      }
    },
    {
      "cell_type": "markdown",
      "source": [
        "## Creating strings\n",
        "Let's focus on creating string values."
      ],
      "metadata": {
        "id": "-d0fos6IODkZ"
      }
    },
    {
      "cell_type": "code",
      "source": [
        "# creating string values using different syntactic approaches\n",
        "simple_string = \"This is a simple string value\"\n",
        "multi_line_string = \"\"\" This is a string that\n",
        "spans multiple lines\"\"\"\n",
        "special_characters_string = \"\\n\\t First item in the string \\n\\t Second item in the string\"\n",
        "\n",
        "print(simple_string, \"\\n\\n\", multi_line_string, \"\\n\\n\", special_characters_string)"
      ],
      "metadata": {
        "colab": {
          "base_uri": "https://localhost:8080/"
        },
        "id": "PS90-AN6OM0A",
        "outputId": "1d04317b-7c88-4c95-f586-ce15d457335d"
      },
      "execution_count": 1,
      "outputs": [
        {
          "output_type": "stream",
          "name": "stdout",
          "text": [
            "This is a simple string value \n",
            "\n",
            "  This is a string that\n",
            "spans multiple lines \n",
            "\n",
            " \n",
            "\t First item in the string \n",
            "\t Second item in the string\n"
          ]
        }
      ]
    },
    {
      "cell_type": "markdown",
      "source": [
        "## Using string operators\n",
        "Let's explore the basic functionality of string operators."
      ],
      "metadata": {
        "id": "-Ou1s32OYil0"
      }
    },
    {
      "cell_type": "code",
      "source": [
        "# using basic string operators\n",
        "string_1, string_2 = \"First String \", \"Second String \"\n",
        "replication_count = 3\n",
        "start_index, start_count = 0, 5\n",
        "end_index, end_count = -1, 7\n",
        "\n",
        "print(\"'\" + string_1 + \"' concatenated with \" + \"'\" + string_2 + \"'\", \"generates\", \"'\" + string_1 + string_2 + \"'\" )\n",
        "print(\"'\" + string_1 +\"'\", \"replicated \", replication_count, \"times is\", \"'\" + string_1 * replication_count + \"'\" )\n",
        "print(\"The first\", start_count, \"characters from '\", string_1, \"' are\", \"'\" + string_1[start_index : start_index + start_count] + \"'\")\n",
        "print(\"The last\", end_count, \"characters from '\", string_1, \"' are\", \"'\" + string_1[end_index - end_count: end_index] + \"'\")"
      ],
      "metadata": {
        "colab": {
          "base_uri": "https://localhost:8080/"
        },
        "id": "RO-z5WAQYo89",
        "outputId": "715d87de-6b1d-44ff-f785-b53a2ff183d4"
      },
      "execution_count": 2,
      "outputs": [
        {
          "output_type": "stream",
          "name": "stdout",
          "text": [
            "'First String ' concatenated with 'Second String ' generates 'First String Second String '\n",
            "'First String ' replicated  3 times is 'First String First String First String '\n",
            "The first 5 characters from ' First String  ' are 'First'\n",
            "The last 7 characters from ' First String  ' are ' String'\n"
          ]
        }
      ]
    },
    {
      "cell_type": "markdown",
      "source": [
        "## Using string functions\n",
        "Let's explore the basic Python builtin functions applicable to strings"
      ],
      "metadata": {
        "id": "aD96biusdSqK"
      }
    },
    {
      "cell_type": "code",
      "source": [
        "# examples of string related functions usage\n",
        "baseline_string = \"This is a baseline string in Python\"\n",
        "\n",
        "print(\"Baseline string is: \", baseline_string)\n",
        "print(\"The length of the baseline string is: \", len(baseline_string))\n",
        "print(\"Uppercase string value is: \", baseline_string.upper())\n",
        "print(\"Lowercase string value is: \", baseline_string.lower())\n",
        "\n",
        "split_value = baseline_string.split()\n",
        "print(\"Space splitted string value is: \", split_value)\n",
        "\n",
        "join_character = \",\"\n",
        "print(\"Comma joined string value is: \", join_character.join(split_value))\n",
        "\n",
        "search_string = \"Python\"\n",
        "print(\"The index of\", \"'\" + search_string + \"'\", \"in the baseline string is\", baseline_string.index(search_string))"
      ],
      "metadata": {
        "colab": {
          "base_uri": "https://localhost:8080/"
        },
        "id": "tQHhN6yTdgwa",
        "outputId": "15734dca-465c-4848-aa4b-7cd8e093aa7d"
      },
      "execution_count": 3,
      "outputs": [
        {
          "output_type": "stream",
          "name": "stdout",
          "text": [
            "Baseline string is:  This is a baseline string in Python\n",
            "The length of the baseline string is:  35\n",
            "Uppercase string value is:  THIS IS A BASELINE STRING IN PYTHON\n",
            "Lowercase string value is:  this is a baseline string in python\n",
            "Space splitted string value is:  ['This', 'is', 'a', 'baseline', 'string', 'in', 'Python']\n",
            "Comma joined string value is:  This,is,a,baseline,string,in,Python\n",
            "The index of 'Python' in the baseline string is 29\n"
          ]
        }
      ]
    }
  ]
}