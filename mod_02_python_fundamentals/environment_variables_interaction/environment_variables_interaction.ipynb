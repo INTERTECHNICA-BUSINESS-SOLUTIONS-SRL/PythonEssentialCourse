{
  "cells": [
    {
      "cell_type": "markdown",
      "metadata": {
        "id": "HoOwWSVgv-IC"
      },
      "source": [
        "# Environment variables interaction\n",
        "\n",
        "Python allows the interaction of application with its external environment variables.\n",
        "\n",
        "Environment variables are system wide values that can be determine how a Python program will run. Python allows accessing the values of environment variables and even changing these values."
      ]
    },
    {
      "cell_type": "code",
      "execution_count": 6,
      "metadata": {
        "colab": {
          "base_uri": "https://localhost:8080/"
        },
        "id": "vk_XRXQNw7OU",
        "outputId": "3b5038d0-d3b2-4141-c0a6-ada2e7074d58"
      },
      "outputs": [
        {
          "name": "stdout",
          "output_type": "stream",
          "text": [
            "The environment variables information is: \n",
            "{'ALLUSERSPROFILE': 'C:\\\\ProgramData', 'APPDATA': 'C:\\\\Users\\\\ONE\\\\AppData\\\\Roaming', 'APPLICATION_INSIGHTS_NO_DIAGNOSTIC_CHANNEL': '1', 'CHROME_CRASHPAD_PIPE_NAME': '\\\\\\\\.\\\\pipe\\\\LOCAL\\\\crashpad_9564_XNPRWKEGKBDICNOM', 'COMMONPROGRAMFILES': 'C:\\\\Program Files\\\\Common Files', 'COMMONPROGRAMFILES(X86)': 'C:\\\\Program Files (x86)\\\\Common Files', 'COMMONPROGRAMW6432': 'C:\\\\Program Files\\\\Common Files', 'COMPUTERNAME': 'DESKTOP-JBTEF2H', 'COMSPEC': 'C:\\\\Windows\\\\system32\\\\cmd.exe', 'CONDA_DEFAULT_ENV': 'base', 'CONDA_EXE': 'D:\\\\anaconda3\\\\Scripts\\\\conda.exe', 'CONDA_EXES': '\"D:\\\\anaconda3\\\\condabin\\\\..\\\\Scripts\\\\conda.exe\"  ', 'CONDA_PREFIX': 'D:\\\\anaconda3', 'CONDA_PROMPT_MODIFIER': '(base) ', 'CONDA_PYTHON_EXE': 'D:\\\\anaconda3\\\\python.exe', 'CONDA_ROOT': 'D:\\\\anaconda3', 'CONDA_SHLVL': '1', 'DOKANLIBRARY1': 'C:\\\\Program Files\\\\Dokan\\\\Dokan Library-1.5.1\\\\', 'DOKANLIBRARY1_LIBRARYPATH_X64': 'C:\\\\Program Files\\\\Dokan\\\\Dokan Library-1.5.1\\\\lib\\\\', 'DOKANLIBRARY1_LIBRARYPATH_X86': 'C:\\\\Program Files\\\\Dokan\\\\Dokan Library-1.5.1\\\\x86\\\\lib\\\\', 'DRIVERDATA': 'C:\\\\Windows\\\\System32\\\\Drivers\\\\DriverData', 'ELECTRON_RUN_AS_NODE': '1', 'FPS_BROWSER_APP_PROFILE_STRING': 'Internet Explorer', 'FPS_BROWSER_USER_PROFILE_STRING': 'Default', 'HOMEDRIVE': 'C:', 'HOMEPATH': '\\\\Users\\\\ONE', 'JPY_INTERRUPT_EVENT': '1692', 'LOCALAPPDATA': 'C:\\\\Users\\\\ONE\\\\AppData\\\\Local', 'LOGONSERVER': '\\\\\\\\DESKTOP-JBTEF2H', 'NUMBER_OF_PROCESSORS': '8', 'NVTOOLSEXT_PATH': 'C:\\\\Program Files\\\\NVIDIA Corporation\\\\NvToolsExt\\\\', 'ONEDRIVE': 'C:\\\\Users\\\\ONE\\\\OneDrive', 'ORIGINAL_XDG_CURRENT_DESKTOP': 'undefined', 'OS': 'Windows_NT', 'PATH': 'd:\\\\anaconda3;D:\\\\anaconda3;D:\\\\anaconda3\\\\Library\\\\mingw-w64\\\\bin;D:\\\\anaconda3\\\\Library\\\\usr\\\\bin;D:\\\\anaconda3\\\\Library\\\\bin;D:\\\\anaconda3\\\\Scripts;D:\\\\anaconda3\\\\bin;D:\\\\anaconda3\\\\condabin;D:\\\\anaconda3;D:\\\\anaconda3\\\\Library\\\\mingw-w64\\\\bin;D:\\\\anaconda3\\\\Library\\\\usr\\\\bin;D:\\\\anaconda3\\\\Library\\\\bin;D:\\\\anaconda3\\\\Scripts;D:\\\\anaconda3\\\\bin;C:\\\\Windows\\\\system32;C:\\\\Windows;C:\\\\Windows\\\\System32\\\\Wbem;C:\\\\Windows\\\\System32\\\\WindowsPowerShell\\\\v1.0;C:\\\\Windows\\\\System32\\\\OpenSSH;d:\\\\Program Files\\\\Microsoft VS Code\\\\bin;C:\\\\Program Files (x86)\\\\NVIDIA Corporation\\\\PhysX\\\\Common;D:\\\\Program Files\\\\Calibre2;d:\\\\Program Files\\\\Git\\\\cmd;D:\\\\Program Files\\\\PuTTY;C:\\\\Program Files\\\\dotnet;D:\\\\Program Files\\\\nodejs;D:\\\\Program Files (x86)\\\\SlikSvn\\\\bin;D:\\\\anaconda3;D:\\\\anaconda3\\\\Library\\\\mingw-w64\\\\bin;D:\\\\anaconda3\\\\Library\\\\usr\\\\bin;D:\\\\anaconda3\\\\Library\\\\bin;D:\\\\anaconda3\\\\Scripts;C:\\\\Users\\\\ONE\\\\AppData\\\\Local\\\\Microsoft\\\\WindowsApps;C:\\\\Users\\\\ONE\\\\AppData\\\\Roaming\\\\npm;D:\\\\Program Files\\\\svn\\\\bin;.', 'PATHEXT': '.COM;.EXE;.BAT;.CMD;.VBS;.VBE;.JS;.JSE;.WSF;.WSH;.MSC', 'PROCESSOR_ARCHITECTURE': 'AMD64', 'PROCESSOR_IDENTIFIER': 'AMD64 Family 23 Model 24 Stepping 1, AuthenticAMD', 'PROCESSOR_LEVEL': '23', 'PROCESSOR_REVISION': '1801', 'PROGRAMDATA': 'C:\\\\ProgramData', 'PROGRAMFILES': 'C:\\\\Program Files', 'PROGRAMFILES(X86)': 'C:\\\\Program Files (x86)', 'PROGRAMW6432': 'C:\\\\Program Files', 'PROMPT': '(base) $P$G', 'PSMODULEPATH': 'C:\\\\Program Files\\\\WindowsPowerShell\\\\Modules;C:\\\\Windows\\\\system32\\\\WindowsPowerShell\\\\v1.0\\\\Modules', 'PUBLIC': 'C:\\\\Users\\\\Public', 'PYDEVD_IPYTHON_COMPATIBLE_DEBUGGING': '1', 'PYTHONIOENCODING': 'utf-8', 'PYTHONUNBUFFERED': '1', 'PYTHONUTF8': '1', 'SESSIONNAME': 'Console', 'SYSTEMDRIVE': 'C:', 'SYSTEMROOT': 'C:\\\\Windows', 'TEMP': 'C:\\\\Users\\\\ONE\\\\AppData\\\\Local\\\\Temp', 'TMP': 'C:\\\\Users\\\\ONE\\\\AppData\\\\Local\\\\Temp', 'USERDOMAIN': 'DESKTOP-JBTEF2H', 'USERDOMAIN_ROAMINGPROFILE': 'DESKTOP-JBTEF2H', 'USERNAME': 'ONE', 'USERPROFILE': 'C:\\\\Users\\\\ONE', 'VSCODE_AMD_ENTRYPOINT': 'vs/workbench/api/node/extensionHostProcess', 'VSCODE_CODE_CACHE_PATH': 'C:\\\\Users\\\\ONE\\\\AppData\\\\Roaming\\\\Code\\\\CachedData\\\\6c3e3dba23e8fadc360aed75ce363ba185c49794', 'VSCODE_CRASH_REPORTER_PROCESS_TYPE': 'extensionHost', 'VSCODE_CWD': 'D:\\\\Program Files\\\\Microsoft VS Code', 'VSCODE_HANDLES_UNCAUGHT_ERRORS': 'true', 'VSCODE_IPC_HOOK': '\\\\\\\\.\\\\pipe\\\\20667533f3006f35734d1af463602113-1.81.1-main-sock', 'VSCODE_L10N_BUNDLE_LOCATION': '', 'VSCODE_NLS_CONFIG': '{\"locale\":\"en-us\",\"osLocale\":\"en-us\",\"availableLanguages\":{},\"_languagePackSupport\":true}', 'VSCODE_PID': '9564', 'WINDIR': 'C:\\\\Windows', '_CONDA_OLD_CHCP': '437', '_SYSP': 'D:\\\\anaconda3', '__PSLOCKDOWNPOLICY': '0', 'PYDEVD_USE_FRAME_EVAL': 'NO', 'TERM': 'xterm-color', 'CLICOLOR': '1', 'FORCE_COLOR': '1', 'CLICOLOR_FORCE': '1', 'PAGER': 'cat', 'GIT_PAGER': 'cat', 'MPLBACKEND': 'module://matplotlib_inline.backend_inline'}\n",
            "\n",
            "The environment's shell as reflected by the environment variables value is: None\n",
            "\n",
            "The environment variable LOGGING_LEVEL value set by putenv is: None\n",
            "\n",
            "The environment variable LOGGING_LEVEL value set by environ is: DEBUG\n",
            "\n",
            "The environment variable LOGGING_LEVEL after un-setting it via unsetenv is: DEBUG\n",
            "\n",
            "The environment variable LOGGING_LEVEL after un-setting it via environ is: None\n",
            "\n"
          ]
        }
      ],
      "source": [
        "# import the necessary module\n",
        "import os\n",
        "\n",
        "# display all the environment variables information\n",
        "print(\"The environment variables information is: \\n{0}\\n\".format(dict(os.environ)))\n",
        "\n",
        "# obtain the current OS shell information from the environment variables\n",
        "print(\"The environment's shell as reflected by the environment variables value is: {0}\\n\".format(os.getenv(\"SHELL\")))\n",
        "\n",
        "# set a new environment variable along with its value via putenv\n",
        "var_name = \"LOGGING_LEVEL\"\n",
        "var_value = \"DEBUG\"\n",
        "os.putenv(var_name, var_value)\n",
        "\n",
        "# the change is not visible in the current environment context\n",
        "print(\"The environment variable {0} value set by putenv is: {1}\\n\".format(var_name, os.getenv(var_name)))\n",
        "\n",
        "# set the new environment variable along with its value by changing environ directly\n",
        "os.environ[var_name] = var_value\n",
        "\n",
        "# the change is now visible in the current environment context\n",
        "print(\"The environment variable {0} value set by environ is: {1}\\n\".format(var_name, os.getenv(var_name)))\n",
        "\n",
        "# remove the new environment variable via unsetenv\n",
        "os.unsetenv(var_name)\n",
        "\n",
        "# the change is not visible in the current environment context\n",
        "print(\"The environment variable {0} after un-setting it via unsetenv is: {1}\\n\".format(var_name, os.getenv(var_name)))\n",
        "\n",
        "# set the new environment variable value to None in environ variable directly\n",
        "del os.environ[var_name]\n",
        "\n",
        "# the change is not visible in the current environment context\n",
        "print(\"The environment variable {0} after un-setting it via environ is: {1}\\n\".format(var_name, os.getenv(var_name)))"
      ]
    },
    {
      "cell_type": "markdown",
      "metadata": {},
      "source": [
        "## Practice and homework\n",
        "Please follow the instructions and solve the associated challenges."
      ]
    },
    {
      "cell_type": "code",
      "execution_count": null,
      "metadata": {},
      "outputs": [],
      "source": [
        "# Create a function that receives a dictionary as an input parameter,\n",
        "# dictionary containing as keys the environment variable names and as values\n",
        "# a default value for the environment variable.\n",
        "#\n",
        "# The function will explore the environment variables and will perform the following:\n",
        "#\n",
        "# a) If the environment variable exists, it will replace its default value in the \n",
        "# dictionary (will not change the actual variable's value itself);\n",
        "# b) If the environment variable does not exist, it will create the environment variable with the \n",
        "# default value specified in the dictionary.\n",
        "# \n",
        "# In the end, the function will return the updated dictionary.  "
      ]
    }
  ],
  "metadata": {
    "colab": {
      "provenance": []
    },
    "kernelspec": {
      "display_name": "Python 3",
      "name": "python3"
    },
    "language_info": {
      "codemirror_mode": {
        "name": "ipython",
        "version": 3
      },
      "file_extension": ".py",
      "mimetype": "text/x-python",
      "name": "python",
      "nbconvert_exporter": "python",
      "pygments_lexer": "ipython3",
      "version": "3.9.7"
    }
  },
  "nbformat": 4,
  "nbformat_minor": 0
}
