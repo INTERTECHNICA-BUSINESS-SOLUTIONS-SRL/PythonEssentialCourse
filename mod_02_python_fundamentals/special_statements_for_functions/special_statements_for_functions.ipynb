{
  "cells": [
    {
      "cell_type": "markdown",
      "metadata": {
        "id": "HoOwWSVgv-IC"
      },
      "source": [
        "# Special statements for functions\n",
        "\n",
        "Let's understand the special statements that can be used inside a function body:\n",
        "the pass and the return statement."
      ]
    },
    {
      "cell_type": "markdown",
      "metadata": {
        "id": "gB_wJkrmwlDZ"
      },
      "source": [
        "## The pass statement\n",
        "The pass statement does not generate any processing, it is usually used to mark functionality that should be developed later.\n",
        "It is important to note that the pass statement can be used in any code block, it is not strictly limited to be used inside functions' body."
      ]
    },
    {
      "cell_type": "code",
      "execution_count": 2,
      "metadata": {
        "id": "vk_XRXQNw7OU"
      },
      "outputs": [],
      "source": [
        "# define a function who's functionality is to be developed later\n",
        "def functionality_to_be_developed_later() :\n",
        "  # we use the pass statement to provide no functionality\n",
        "  # in the function's body\n",
        "  pass\n",
        "\n",
        "# the function will be called, yet it will not lead to any\n",
        "# specific processing\n",
        "functionality_to_be_developed_later()"
      ]
    },
    {
      "cell_type": "markdown",
      "metadata": {
        "id": "Se8xCscAICSC"
      },
      "source": [
        "## The return statement\n",
        "The return statement is used to terminate function's execution and, optionally, to return a result."
      ]
    },
    {
      "cell_type": "code",
      "execution_count": 3,
      "metadata": {
        "colab": {
          "base_uri": "https://localhost:8080/"
        },
        "id": "X9-FZvIEIPz7",
        "outputId": "74784567-8cb2-4bf6-86fc-b1c4b9cb8733"
      },
      "outputs": [
        {
          "name": "stdout",
          "output_type": "stream",
          "text": [
            "Minimal value is:  1\n",
            "Maximal value is:  2\n",
            "Average value is:  1.5\n"
          ]
        }
      ],
      "source": [
        "# create a function that returns the statistical information\n",
        "# associated to several values\n",
        "def get_statistical_information (value_1, value_2) :\n",
        "  # initialize results to be returned\n",
        "  min_value, max_value, average_value = None, None, None\n",
        "\n",
        "  # perform calculation\n",
        "  if (value_1 < value_2) :\n",
        "    min_value, max_value = value_1, value_2\n",
        "  else:\n",
        "    min_value, max_value = value_2, value_1\n",
        "\n",
        "  average_value = (value_1 + value_2) / 2\n",
        "\n",
        "  # return values\n",
        "  return min_value, max_value, average_value\n",
        "\n",
        "# call the function and retrieve the results\n",
        "min_result, max_result, average_result = get_statistical_information(1, 2)\n",
        "\n",
        "# print the results\n",
        "print(\"Minimal value is: \", min_result)\n",
        "print(\"Maximal value is: \", max_result)\n",
        "print(\"Average value is: \", average_result)"
      ]
    }
  ],
  "metadata": {
    "colab": {
      "provenance": []
    },
    "kernelspec": {
      "display_name": "Python 3",
      "name": "python3"
    },
    "language_info": {
      "codemirror_mode": {
        "name": "ipython",
        "version": 3
      },
      "file_extension": ".py",
      "mimetype": "text/x-python",
      "name": "python",
      "nbconvert_exporter": "python",
      "pygments_lexer": "ipython3",
      "version": "3.9.7"
    }
  },
  "nbformat": 4,
  "nbformat_minor": 0
}
