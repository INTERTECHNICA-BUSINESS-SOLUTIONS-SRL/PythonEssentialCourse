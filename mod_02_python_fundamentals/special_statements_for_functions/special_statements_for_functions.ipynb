{
  "nbformat": 4,
  "nbformat_minor": 0,
  "metadata": {
    "colab": {
      "provenance": []
    },
    "kernelspec": {
      "name": "python3",
      "display_name": "Python 3"
    },
    "language_info": {
      "name": "python"
    }
  },
  "cells": [
    {
      "cell_type": "markdown",
      "source": [
        "# Special statements for functions\n",
        "\n",
        "Let's understand the special statements that can be used inside a function body:\n",
        "the pass and the return statement."
      ],
      "metadata": {
        "id": "HoOwWSVgv-IC"
      }
    },
    {
      "cell_type": "markdown",
      "source": [
        "## The pass statement\n",
        "The pass statement does not generate any processing, it is usually used to mark functionality that should be developed later.\n",
        "It is important to note that the pass statement can be used in any code block, it is not strictly limited to be used inside functions' body."
      ],
      "metadata": {
        "id": "gB_wJkrmwlDZ"
      }
    },
    {
      "cell_type": "code",
      "source": [
        "# define a function who's functionality is to be developed later\n",
        "def functionality_to_be_developed_later() :\n",
        "  # we use the pass statement to provide no functionality\n",
        "  # in the function's body\n",
        "  pass\n",
        "\n",
        "# the function will be called, yet it will not lead to any\n",
        "# specific processing\n",
        "functionality_to_be_developed_later()"
      ],
      "metadata": {
        "id": "vk_XRXQNw7OU"
      },
      "execution_count": 1,
      "outputs": []
    },
    {
      "cell_type": "markdown",
      "source": [
        "## The return statement\n",
        "The return statement is used to terminate function's execution and, optionally, to return a result."
      ],
      "metadata": {
        "id": "Se8xCscAICSC"
      }
    },
    {
      "cell_type": "code",
      "source": [
        "# create a function that returns the statistical information\n",
        "# associated to several values\n",
        "def get_statistical_information (value_1, value_2) :\n",
        "  # initialize results to be returned\n",
        "  min_value, max_value, average_value = None, None, None\n",
        "\n",
        "  # perform calculation\n",
        "  if (value_1 < value_2) :\n",
        "    min_value, max_value = value_1, value_2\n",
        "  else:\n",
        "    min_value, max_value = value_2, value_1\n",
        "\n",
        "  average_value = (value_1 + value_2) / 2\n",
        "\n",
        "  # return values\n",
        "  return min_value, max_value, average_value\n",
        "\n",
        "# call the function and retrieve the results\n",
        "min_result, max_result, average_result = get_statistical_information(1, 2)\n",
        "\n",
        "# print the results\n",
        "print(\"Minimal value is: \", min_result)\n",
        "print(\"Maximal value is: \", max_result)\n",
        "print(\"Average value is: \", average_result)"
      ],
      "metadata": {
        "colab": {
          "base_uri": "https://localhost:8080/"
        },
        "id": "X9-FZvIEIPz7",
        "outputId": "74784567-8cb2-4bf6-86fc-b1c4b9cb8733"
      },
      "execution_count": 2,
      "outputs": [
        {
          "output_type": "stream",
          "name": "stdout",
          "text": [
            "Minimal value is:  1\n",
            "Maximal value is:  2\n",
            "Average value is:  1.5\n"
          ]
        }
      ]
    }
  ]
}