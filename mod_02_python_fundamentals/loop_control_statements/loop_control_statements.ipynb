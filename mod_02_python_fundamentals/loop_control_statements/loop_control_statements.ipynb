{
  "nbformat": 4,
  "nbformat_minor": 0,
  "metadata": {
    "colab": {
      "provenance": []
    },
    "kernelspec": {
      "name": "python3",
      "display_name": "Python 3"
    },
    "language_info": {
      "name": "python"
    }
  },
  "cells": [
    {
      "cell_type": "markdown",
      "source": [
        "# Loop control statements\n",
        "Understanding the mechanisms used to control the flow of repetitive execution blocks (such as for or while)."
      ],
      "metadata": {
        "id": "HoOwWSVgv-IC"
      }
    },
    {
      "cell_type": "markdown",
      "source": [
        "## The break statement\n",
        "The break statements is used to terminate prematurely a loop execution flow."
      ],
      "metadata": {
        "id": "gB_wJkrmwlDZ"
      }
    },
    {
      "cell_type": "code",
      "source": [
        "# prepare the data\n",
        "x = [8, 0, 2, 4, 5, 6, 1, 7, 3, 9]\n",
        "index = -1;\n",
        "value = 3\n",
        "\n",
        "# obtain the index of a certain value\n",
        "# by processing a sequence until the value is identified\n",
        "current_index = 0\n",
        "while current_index < len(x) :\n",
        "  if (x[current_index] == value):\n",
        "    index = current_index\n",
        "    break # the value was found and further sequence processing is no more needed\n",
        "\n",
        "  current_index = current_index + 1\n",
        "\n",
        "print(\"The index for the value \", value, \"is\", index)"
      ],
      "metadata": {
        "colab": {
          "base_uri": "https://localhost:8080/"
        },
        "id": "vk_XRXQNw7OU",
        "outputId": "287bca0f-db2a-4c52-b287-4f123bfbc5d2"
      },
      "execution_count": 8,
      "outputs": [
        {
          "output_type": "stream",
          "name": "stdout",
          "text": [
            "The index for the value  3 is 8\n"
          ]
        }
      ]
    },
    {
      "cell_type": "markdown",
      "source": [
        "## The continue statement\n",
        "The continue statements is used to prematurely initiate a next cycle on a loop execution flow."
      ],
      "metadata": {
        "id": "Se8xCscAICSC"
      }
    },
    {
      "cell_type": "code",
      "source": [
        "# prepare the data\n",
        "x = [8, 0, 2, 4, 5, 6, 1, 7, 3, 9]\n",
        "sum_even_numbers = 0\n",
        "\n",
        "# obtain the sum of all even numbers in the sequence\n",
        "for element in x :\n",
        "  if element % 2 != 0: continue # if the number is not even, continue the cycle\n",
        "  sum_even_numbers = sum_even_numbers + element\n",
        "\n",
        "print(\"The sum of even numbers is\", sum_even_numbers)"
      ],
      "metadata": {
        "colab": {
          "base_uri": "https://localhost:8080/"
        },
        "id": "X9-FZvIEIPz7",
        "outputId": "afcc3db8-5549-4b96-8411-789f7c3a0781"
      },
      "execution_count": 14,
      "outputs": [
        {
          "output_type": "stream",
          "name": "stdout",
          "text": [
            "The sum of even numbers is 20\n"
          ]
        }
      ]
    }
  ]
}