{
  "cells": [
    {
      "cell_type": "markdown",
      "metadata": {
        "id": "HoOwWSVgv-IC"
      },
      "source": [
        "# Python Super Classes Initialization\n",
        "\n",
        "When a derived class is instantiated, the entire hierarchy of super classes must be initialized as well.\n",
        "\n",
        "By the usage of super() function and the constructors, Python can perform an automated initialization of the base classes.\n",
        "\n",
        "Alternatively, Python allows to specify the explicit order for the super class initialization."
      ]
    },
    {
      "cell_type": "markdown",
      "source": [
        "## Implicit super class initialization\n",
        "\n",
        "Let's explore how implicit class initialization is performed by Python, this being done by the super().\\_\\_init__ calls."
      ],
      "metadata": {
        "id": "rlLBsXrBmnQy"
      }
    },
    {
      "cell_type": "code",
      "execution_count": 6,
      "metadata": {
        "id": "vk_XRXQNw7OU"
      },
      "outputs": [],
      "source": [
        "# define the hierarchy of classes, each one invoking init on the super\n",
        "# method call result\n",
        "class BaseProduct:\n",
        "  def __init__(self):\n",
        "    print(\"Initializing the base product\")\n",
        "\n",
        "class ElectricalProduct(BaseProduct):\n",
        "  def __init__(self):\n",
        "    print(\"Start: Initializing the electrical product\")\n",
        "    super().__init__()\n",
        "    print(\"End: Initializing the electrical product\")\n",
        "\n",
        "class CarProduct(BaseProduct):\n",
        "  def __init__(self):\n",
        "    print(\"Start: Initializing the car product\")\n",
        "    super().__init__()\n",
        "    print(\"End: Initializing the car product\")\n",
        "\n",
        "class ElectricalCarProduct(CarProduct, ElectricalProduct):\n",
        "  def __init__(self):\n",
        "    print(\"Start: Initializing the electrical car product\")\n",
        "    super().__init__()\n",
        "    print(\"End: Initializing the electrical car product\")"
      ]
    },
    {
      "cell_type": "code",
      "source": [
        "# instantiate the derived class and trigger the automated class initialization\n",
        "electrical_car_product = ElectricalCarProduct()"
      ],
      "metadata": {
        "colab": {
          "base_uri": "https://localhost:8080/"
        },
        "id": "QEZtSZiEJoHZ",
        "outputId": "f4a9f5fe-21c4-4094-e479-0d469d1ed4b1"
      },
      "execution_count": 2,
      "outputs": [
        {
          "output_type": "stream",
          "name": "stdout",
          "text": [
            "Start: Initializing the electrical car product\n",
            "Start: Initializing the car product\n",
            "Start: Initializing the electrical product\n",
            "Initializing the base product\n",
            "End: Initializing the electrical product\n",
            "End: Initializing the car product\n",
            "End: Initializing the electrical car product\n"
          ]
        }
      ]
    },
    {
      "cell_type": "markdown",
      "source": [
        "## Explicit super class initialization\n",
        "\n",
        "Explicit super class intialization is possible by calling the \\_\\_init__ method explicitely on each base class. The correct call order must be maintained by the class itself, nothing automatically prevents multiple initialization of the same base class."
      ],
      "metadata": {
        "id": "1KYfSg_w5NEM"
      }
    },
    {
      "cell_type": "code",
      "source": [
        "# define the hierarchy of classes, no class will automatically\n",
        "# invoke automatically its superclass constructor\n",
        "# the order of constructor invocatons must be controlled by the\n",
        "# derived class itself\n",
        "class BaseProductControlledInstantiation:\n",
        "  def __init__(self):\n",
        "    print(\"Initializing the base product\")\n",
        "\n",
        "class ElectricalProductControlledInstantiation(BaseProductControlledInstantiation):\n",
        "  def __init__(self):\n",
        "    print(\"Initializing the electrical product\")\n",
        "\n",
        "class CarProductControlledInstantiation(BaseProductControlledInstantiation):\n",
        "  def __init__(self):\n",
        "    print(\"Initializing the car product\")\n",
        "\n",
        "class ElectricalCarProductControlledInstantiation(CarProductControlledInstantiation, ElectricalProductControlledInstantiation):\n",
        "  def __init__(self):\n",
        "    print(\"Start: Initializing the electrical car product\")\n",
        "    BaseProductControlledInstantiation.__init__(self)\n",
        "    CarProductControlledInstantiation.__init__(self)\n",
        "    ElectricalProductControlledInstantiation.__init__(self)\n",
        "    print(\"End: Initializing the electrical car product\")"
      ],
      "metadata": {
        "id": "7_g99dLLSCQ_"
      },
      "execution_count": 14,
      "outputs": []
    },
    {
      "cell_type": "code",
      "source": [
        "# instantiate the derived class and trigger the manual ordered class initialization\n",
        "c = ElectricalCarProductControlledInstantiation()"
      ],
      "metadata": {
        "colab": {
          "base_uri": "https://localhost:8080/"
        },
        "id": "Saf1LKUT0hWS",
        "outputId": "e10b4153-6b4a-49e0-ff05-96cadf258949"
      },
      "execution_count": 10,
      "outputs": [
        {
          "output_type": "stream",
          "name": "stdout",
          "text": [
            "Start: Initializing the electrical car product\n",
            "Initializing the base product\n",
            "Initializing the electrical product\n",
            "Initializing the car product\n",
            "End: Initializing the electrical car product\n"
          ]
        }
      ]
    }
  ],
  "metadata": {
    "colab": {
      "provenance": []
    },
    "kernelspec": {
      "display_name": "Python 3",
      "name": "python3"
    },
    "language_info": {
      "name": "python"
    }
  },
  "nbformat": 4,
  "nbformat_minor": 0
}