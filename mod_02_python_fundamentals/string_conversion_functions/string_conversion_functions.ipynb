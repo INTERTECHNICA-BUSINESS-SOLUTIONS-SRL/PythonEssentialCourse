{
  "nbformat": 4,
  "nbformat_minor": 0,
  "metadata": {
    "colab": {
      "provenance": []
    },
    "kernelspec": {
      "name": "python3",
      "display_name": "Python 3"
    },
    "language_info": {
      "name": "python"
    }
  },
  "cells": [
    {
      "cell_type": "markdown",
      "source": [
        "# String conversion functions\n",
        "\n",
        "The string conversion functions allow conversion of values having various data types to and from string data type.\n",
        "\n",
        "They are especially relevant for meaningfully processing user input."
      ],
      "metadata": {
        "id": "HoOwWSVgv-IC"
      }
    },
    {
      "cell_type": "markdown",
      "source": [
        "## Input validation and processing example\n",
        "Let's use the string conversion functions for validating and processing user input."
      ],
      "metadata": {
        "id": "gB_wJkrmwlDZ"
      }
    },
    {
      "cell_type": "code",
      "source": [
        "# first name should be a non-empty string, only letters accepted\n",
        "first_name = None\n",
        "while(first_name is None):\n",
        "  first_name_input = input(\"Please provide [First Name]:\")\n",
        "  if not first_name_input.isalpha():\n",
        "    print(\"First name should be not empty, only letters are accepted. Please retry!\")\n",
        "    continue\n",
        "  else:\n",
        "    first_name = first_name_input\n",
        "\n",
        "# last name should be a non-empty string, only letters accepted\n",
        "last_name = None\n",
        "while(last_name is None):\n",
        "  last_name_input = input(\"Please provide [Last Name]:\")\n",
        "  if not last_name_input.isalpha():\n",
        "    print(\"Last name should be not empty, only letters are accepted. Please retry!\")\n",
        "    continue\n",
        "  else:\n",
        "    last_name = last_name_input\n",
        "\n",
        "# age should be a positive integer\n",
        "age = None\n",
        "while(age is None):\n",
        "  age_input = input(\"Please provide [Age]:\")\n",
        "  if not (age_input.isdecimal() and (int(age_input) > 0)):\n",
        "    print(\"The age should be a positive number. Please retry!\")\n",
        "    continue\n",
        "  else:\n",
        "    age = int(age_input)\n",
        "\n",
        "# display the results\n",
        "print(\"\\nFirst Name:\", first_name, \"\\nLast Name:\", last_name, \"\\nAge:\", age)"
      ],
      "metadata": {
        "id": "vk_XRXQNw7OU",
        "colab": {
          "base_uri": "https://localhost:8080/"
        },
        "outputId": "42e1a47e-1ad9-46af-8129-a728b0328b9f"
      },
      "execution_count": 13,
      "outputs": [
        {
          "output_type": "stream",
          "name": "stdout",
          "text": [
            "Please provide [First Name]:John\n",
            "Please provide [Last Name]:Smith\n",
            "Please provide [Age]:70\n",
            "\n",
            "First Name: John \n",
            "Last Name: Smith \n",
            "Age: 70\n"
          ]
        }
      ]
    }
  ]
}