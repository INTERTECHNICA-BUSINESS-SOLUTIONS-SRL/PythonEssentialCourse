{
  "nbformat": 4,
  "nbformat_minor": 0,
  "metadata": {
    "colab": {
      "provenance": []
    },
    "kernelspec": {
      "name": "python3",
      "display_name": "Python 3"
    },
    "language_info": {
      "name": "python"
    }
  },
  "cells": [
    {
      "cell_type": "markdown",
      "source": [
        "# List data type\n",
        "This notebook focuses on presenting the Python list data type."
      ],
      "metadata": {
        "id": "HoOwWSVgv-IC"
      }
    },
    {
      "cell_type": "markdown",
      "source": [
        "## Creating lists\n",
        "Let's focus on creating list values."
      ],
      "metadata": {
        "id": "gB_wJkrmwlDZ"
      }
    },
    {
      "cell_type": "code",
      "source": [
        "# creating lists\n",
        "empty_list = []\n",
        "list_same_elements_type = [1, 2, 3, 4, 5, 6 , 7, 8, 9, 10]\n",
        "list_different_elements_type = [1, 1.5, (1 + 1j), \"one\", True]\n",
        "embedded_lists = [[1, 2], [3, 4]]\n",
        "\n",
        "print(empty_list, \"\\n\\n\", list_same_elements_type, \"\\n\\n\", list_different_elements_type, \"\\n\\n\", embedded_lists)"
      ],
      "metadata": {
        "colab": {
          "base_uri": "https://localhost:8080/"
        },
        "id": "vk_XRXQNw7OU",
        "outputId": "3a404b82-0aa7-4c3f-d087-8e2d218e8ebf"
      },
      "execution_count": 15,
      "outputs": [
        {
          "output_type": "stream",
          "name": "stdout",
          "text": [
            "[] \n",
            "\n",
            " [1, 2, 3, 4, 5, 6, 7, 8, 9, 10] \n",
            "\n",
            " [1, 1.5, (1+1j), 'one', True] \n",
            "\n",
            " [[1, 2], [3, 4]]\n"
          ]
        }
      ]
    },
    {
      "cell_type": "markdown",
      "source": [
        "## Using list operators\n",
        "Let's explore the basic functionality of list operators."
      ],
      "metadata": {
        "id": "6r5jv-ONzlmp"
      }
    },
    {
      "cell_type": "code",
      "source": [
        "# using list operators\n",
        "list_1, list_2 = [1, 2 , 3, 4, 5], [6, 7, 8, 9, 10]\n",
        "\n",
        "print(\"First list is: \", list_1)\n",
        "print(\"Second list is: \", list_2)\n",
        "print(\"The result of concatenation between lists is: \", list_1 + list_2)\n",
        "print(\"The result of multiplication of the first list by 2 is: \", list_1 * 2)\n",
        "print(\"The element 1 from the first list is:\", list_1[1])\n",
        "print(\"The last element from the second list is:\", list_2[-1])\n",
        "print(\"The first three element from the first list are:\", list_1[0:3])"
      ],
      "metadata": {
        "colab": {
          "base_uri": "https://localhost:8080/"
        },
        "id": "OpFYHKl1zptY",
        "outputId": "ea78f796-87ba-409b-ddfa-1dab090669c5"
      },
      "execution_count": 16,
      "outputs": [
        {
          "output_type": "stream",
          "name": "stdout",
          "text": [
            "First list is:  [1, 2, 3, 4, 5]\n",
            "Second list is:  [6, 7, 8, 9, 10]\n",
            "The result of concatenation between lists is:  [1, 2, 3, 4, 5, 6, 7, 8, 9, 10]\n",
            "The result of multiplication of the first list by 2 is:  [1, 2, 3, 4, 5, 1, 2, 3, 4, 5]\n",
            "The element 1 from the first list is: 2\n",
            "The last element from the second list is: 10\n",
            "The first three element from the first list are: [1, 2, 3]\n"
          ]
        }
      ]
    },
    {
      "cell_type": "markdown",
      "source": [
        "##Using list functions\n",
        "\n",
        "Let's explore the usage of various list functions."
      ],
      "metadata": {
        "id": "GK68KjdiRZaT"
      }
    },
    {
      "cell_type": "code",
      "source": [
        "# usage of various list functions\n",
        "base_list = [0, 1, 2, 3, 4]\n",
        "\n",
        "print(\"The baseline list's length is:\", len(base_list))\n",
        "base_list.append(5); print(\"Adding a new element (5) generates: \", base_list)\n",
        "base_list.insert(2, 0.5); print(\"Adding a new element (0.5) at position 3 generates: \", base_list)\n",
        "base_list.remove(0.5); print(\"Removing the 0.5 value generates: \", base_list)\n",
        "base_list.pop(len(base_list) - 1); print(\"Removing the last element generates: \", base_list)\n",
        "print(\"The value 2 is at index: \", base_list.index(2))"
      ],
      "metadata": {
        "colab": {
          "base_uri": "https://localhost:8080/"
        },
        "id": "GgAKZXBDRhSS",
        "outputId": "3f67e1ea-d25a-4ac3-9ff4-74e33ce9d4af"
      },
      "execution_count": 17,
      "outputs": [
        {
          "output_type": "stream",
          "name": "stdout",
          "text": [
            "The baseline list's length is: 5\n",
            "Adding a new element (5) generates:  [0, 1, 2, 3, 4, 5]\n",
            "Adding a new element (0.5) at position 3 generates:  [0, 1, 0.5, 2, 3, 4, 5]\n",
            "Removing the 0.5 value generates:  [0, 1, 2, 3, 4, 5]\n",
            "Removing the last element generates:  [0, 1, 2, 3, 4]\n",
            "The value 2 is at index:  2\n"
          ]
        }
      ]
    }
  ]
}