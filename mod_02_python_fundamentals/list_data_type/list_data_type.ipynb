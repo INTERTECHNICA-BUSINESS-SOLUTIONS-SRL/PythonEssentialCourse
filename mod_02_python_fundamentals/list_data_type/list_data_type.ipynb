{
  "cells": [
    {
      "cell_type": "markdown",
      "metadata": {
        "id": "HoOwWSVgv-IC"
      },
      "source": [
        "# List data type\n",
        "This notebook focuses on presenting the Python list data type."
      ]
    },
    {
      "cell_type": "markdown",
      "metadata": {
        "id": "gB_wJkrmwlDZ"
      },
      "source": [
        "## Creating lists\n",
        "Let's focus on creating list values."
      ]
    },
    {
      "cell_type": "code",
      "execution_count": 1,
      "metadata": {
        "colab": {
          "base_uri": "https://localhost:8080/"
        },
        "id": "vk_XRXQNw7OU",
        "outputId": "3a404b82-0aa7-4c3f-d087-8e2d218e8ebf"
      },
      "outputs": [
        {
          "name": "stdout",
          "output_type": "stream",
          "text": [
            "[] \n",
            "\n",
            " [1, 2, 3, 4, 5, 6, 7, 8, 9, 10] \n",
            "\n",
            " [1, 1.5, (1+1j), 'one', True] \n",
            "\n",
            " [[1, 2], [3, 4]]\n"
          ]
        }
      ],
      "source": [
        "# creating lists\n",
        "empty_list = []\n",
        "list_same_elements_type = [1, 2, 3, 4, 5, 6 , 7, 8, 9, 10]\n",
        "list_different_elements_type = [1, 1.5, (1 + 1j), \"one\", True]\n",
        "embedded_lists = [[1, 2], [3, 4]]\n",
        "\n",
        "print(empty_list, \"\\n\\n\", list_same_elements_type, \"\\n\\n\", list_different_elements_type, \"\\n\\n\", embedded_lists)"
      ]
    },
    {
      "cell_type": "markdown",
      "metadata": {
        "id": "6r5jv-ONzlmp"
      },
      "source": [
        "## Using list operators\n",
        "Let's explore the basic functionality of list operators."
      ]
    },
    {
      "cell_type": "code",
      "execution_count": 2,
      "metadata": {
        "colab": {
          "base_uri": "https://localhost:8080/"
        },
        "id": "OpFYHKl1zptY",
        "outputId": "ea78f796-87ba-409b-ddfa-1dab090669c5"
      },
      "outputs": [
        {
          "name": "stdout",
          "output_type": "stream",
          "text": [
            "First list is:  [1, 2, 3, 4, 5]\n",
            "Second list is:  [6, 7, 8, 9, 10]\n",
            "The result of concatenation between lists is:  [1, 2, 3, 4, 5, 6, 7, 8, 9, 10]\n",
            "The result of multiplication of the first list by 2 is:  [1, 2, 3, 4, 5, 1, 2, 3, 4, 5]\n",
            "The element 1 from the first list is: 2\n",
            "The last element from the second list is: 10\n",
            "The first three element from the first list are: [1, 2, 3]\n"
          ]
        }
      ],
      "source": [
        "# using list operators\n",
        "list_1, list_2 = [1, 2 , 3, 4, 5], [6, 7, 8, 9, 10]\n",
        "\n",
        "print(\"First list is: \", list_1)\n",
        "print(\"Second list is: \", list_2)\n",
        "print(\"The result of concatenation between lists is: \", list_1 + list_2)\n",
        "print(\"The result of multiplication of the first list by 2 is: \", list_1 * 2)\n",
        "print(\"The element 1 from the first list is:\", list_1[1])\n",
        "print(\"The last element from the second list is:\", list_2[-1])\n",
        "print(\"The first three element from the first list are:\", list_1[0:3])"
      ]
    },
    {
      "cell_type": "markdown",
      "metadata": {
        "id": "GK68KjdiRZaT"
      },
      "source": [
        "## Using list functions\n",
        "\n",
        "Let's explore the usage of various list functions."
      ]
    },
    {
      "cell_type": "code",
      "execution_count": 3,
      "metadata": {
        "colab": {
          "base_uri": "https://localhost:8080/"
        },
        "id": "GgAKZXBDRhSS",
        "outputId": "3f67e1ea-d25a-4ac3-9ff4-74e33ce9d4af"
      },
      "outputs": [
        {
          "name": "stdout",
          "output_type": "stream",
          "text": [
            "The baseline list's length is: 5\n",
            "Adding a new element (5) generates:  [0, 1, 2, 3, 4, 5]\n",
            "Adding a new element (0.5) at position 3 generates:  [0, 1, 0.5, 2, 3, 4, 5]\n",
            "Removing the 0.5 value generates:  [0, 1, 2, 3, 4, 5]\n",
            "Removing the last element generates:  [0, 1, 2, 3, 4]\n",
            "The value 2 is at index:  2\n"
          ]
        }
      ],
      "source": [
        "# usage of various list functions\n",
        "base_list = [0, 1, 2, 3, 4]\n",
        "\n",
        "print(\"The baseline list's length is:\", len(base_list))\n",
        "base_list.append(5); print(\"Adding a new element (5) generates: \", base_list)\n",
        "base_list.insert(2, 0.5); print(\"Adding a new element (0.5) at position 3 generates: \", base_list)\n",
        "base_list.remove(0.5); print(\"Removing the 0.5 value generates: \", base_list)\n",
        "base_list.pop(len(base_list) - 1); print(\"Removing the last element generates: \", base_list)\n",
        "print(\"The value 2 is at index: \", base_list.index(2))"
      ]
    },
    {
      "cell_type": "markdown",
      "metadata": {},
      "source": [
        "## Practice and homework\n",
        "Please follow the instructions in the following cells and solve the associated challenges."
      ]
    },
    {
      "cell_type": "code",
      "execution_count": 5,
      "metadata": {},
      "outputs": [],
      "source": [
        "# For operational reasons we need to transmit several sentences \n",
        "# in a single message implemented by a list using the following encoding mechanism:\n",
        "# a) each word from a sentence is an element in the list\n",
        "# b) sentences are separated by the value None\n",
        "\n",
        "# Please implement the following:\n",
        "\n",
        "# 1. Implement a program that receives a list of sentences and encodes them in a single list\n",
        "# using the mechanism specified above. At transmission We guarantee that each word in the \n",
        "# sentence is separated by a single space.\n",
        "\n",
        "# 2. Implement a program that decodes an input list and transforms it back into the list of \n",
        "# sentences. When reconstructing the sentences assume that each word will be separated by a space.\n",
        "# Make the decoding implementation as robust as possible (i.e. think of corner cases\n",
        "# and program defensively)."
      ]
    }
  ],
  "metadata": {
    "colab": {
      "provenance": []
    },
    "kernelspec": {
      "display_name": "Python 3",
      "name": "python3"
    },
    "language_info": {
      "codemirror_mode": {
        "name": "ipython",
        "version": 3
      },
      "file_extension": ".py",
      "mimetype": "text/x-python",
      "name": "python",
      "nbconvert_exporter": "python",
      "pygments_lexer": "ipython3",
      "version": "3.9.7"
    }
  },
  "nbformat": 4,
  "nbformat_minor": 0
}
