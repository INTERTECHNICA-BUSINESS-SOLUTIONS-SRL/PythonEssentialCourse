{
  "cells": [
    {
      "cell_type": "markdown",
      "metadata": {
        "id": "HoOwWSVgv-IC"
      },
      "source": [
        "# File text operations\n",
        "\n",
        "File text operations are essential for handling the persistence of textual data.\n",
        "Python allows the basic operations of opening and closing a text file, along with reading and writing textual data into it."
      ]
    },
    {
      "cell_type": "markdown",
      "metadata": {
        "id": "gB_wJkrmwlDZ"
      },
      "source": [
        "## Persisting complex data\n",
        "One of the most used mechanisms for persisting text data into a file is the usage of CSV (comma separated values) data.\n",
        "\n",
        "At the most basic level, each persisted entity is written in a single line and entity values are separated by comma."
      ]
    },
    {
      "cell_type": "code",
      "execution_count": 10,
      "metadata": {
        "id": "vk_XRXQNw7OU"
      },
      "outputs": [],
      "source": [
        "# initialize data to be written into the file\n",
        "first_names = [\"John\", \"Joe\", \"Johnson\"]\n",
        "last_names = [\"Smith\", \"Doe\", \"Williams\"]\n",
        "ages = [70, 45, 30]\n",
        "\n",
        "# format the data to be written into the file\n",
        "data = []\n",
        "for i in range(0, len(first_names)) :\n",
        "  text_data = \"{0},{1},{2}\\n\".format(first_names[i], last_names[i], ages[i])\n",
        "  data.append(text_data)\n",
        "\n",
        "# open the csv file\n",
        "csv_file = open(\"persons.csv\", \"w\")\n",
        "csv_file.writelines(data)\n",
        "csv_file.close()"
      ]
    },
    {
      "cell_type": "markdown",
      "metadata": {
        "id": "hXvHz2H8VmEI"
      },
      "source": [
        "## Reading complex data\n",
        "\n",
        "Data stored in CSV files is read and processed by applications. We will address the simple case of reading data from a CSV file where entity values are separated by a comma, each entity being on its own line."
      ]
    },
    {
      "cell_type": "code",
      "execution_count": 11,
      "metadata": {
        "id": "pmxplEeAYkfx"
      },
      "outputs": [
        {
          "name": "stdout",
          "output_type": "stream",
          "text": [
            "The first names read from file are: ['John', 'Joe', 'Johnson']\n",
            "The last names read from file are: ['Smith', 'Doe', 'Williams']\n",
            "The ages read from file are: [70, 45, 30]\n"
          ]
        }
      ],
      "source": [
        "# initialize read data\n",
        "read_first_names = []\n",
        "read_last_names = []\n",
        "read_ages = []\n",
        "\n",
        "# open the csv file\n",
        "csv_file = open(\"persons.csv\", \"r\")\n",
        "read_lines = csv_file.readlines()\n",
        "csv_file.close()\n",
        "\n",
        "# process line by line the read data\n",
        "for read_line in read_lines:\n",
        "  # purify and extract data\n",
        "  read_line = read_line.replace(\"\\n\", \"\")\n",
        "  entity_data = read_line.split(\",\")\n",
        "\n",
        "  # store data in memory for processing\n",
        "  read_first_names.append(entity_data[0])\n",
        "  read_last_names.append(entity_data[1])\n",
        "  read_ages.append(int(entity_data[2]))\n",
        "\n",
        "\n",
        "# print the read data\n",
        "print(\"The first names read from file are:\", read_first_names)\n",
        "print(\"The last names read from file are:\", read_last_names)\n",
        "print(\"The ages read from file are:\", read_ages)"
      ]
    }
  ],
  "metadata": {
    "colab": {
      "provenance": []
    },
    "kernelspec": {
      "display_name": "Python 3",
      "name": "python3"
    },
    "language_info": {
      "codemirror_mode": {
        "name": "ipython",
        "version": 3
      },
      "file_extension": ".py",
      "mimetype": "text/x-python",
      "name": "python",
      "nbconvert_exporter": "python",
      "pygments_lexer": "ipython3",
      "version": "3.9.7"
    }
  },
  "nbformat": 4,
  "nbformat_minor": 0
}
