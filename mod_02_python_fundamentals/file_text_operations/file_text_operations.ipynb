{
  "nbformat": 4,
  "nbformat_minor": 0,
  "metadata": {
    "colab": {
      "provenance": []
    },
    "kernelspec": {
      "name": "python3",
      "display_name": "Python 3"
    },
    "language_info": {
      "name": "python"
    }
  },
  "cells": [
    {
      "cell_type": "markdown",
      "source": [
        "# File text operations\n",
        "\n",
        "File text operations are essential for handling the persistence of textual data.\n",
        "Python allows the basic operations of opening and closing a text file, along with reading and writing textual data into it."
      ],
      "metadata": {
        "id": "HoOwWSVgv-IC"
      }
    },
    {
      "cell_type": "markdown",
      "source": [
        "## Persisting complex data\n",
        "One of the most used mechanisms for persisting text data into a file is the usage of CSV (comma separated values) data.\n",
        "\n",
        "At the most basic level, each persisted entity is written in a single line and entity values are separated by comma."
      ],
      "metadata": {
        "id": "gB_wJkrmwlDZ"
      }
    },
    {
      "cell_type": "code",
      "source": [
        "# initialize data to be written into the file\n",
        "first_names = [\"John\", \"Joe\", \"Johnson\"]\n",
        "last_names = [\"Smith\", \"Doe\", \"Williams\"]\n",
        "ages = [70, 45, 30]\n",
        "\n",
        "# format the data to be written into the file\n",
        "data = []\n",
        "for i in range(0, len(first_names)) :\n",
        "  text_data = \"{0},{1},{2}\\n\".format(first_names[i], last_names[i], ages[i])\n",
        "  data.append(text_data)\n",
        "\n",
        "# open the csv file\n",
        "csv_file = open(\"persons.csv\", \"w\")\n",
        "csv_file.writelines(data)\n",
        "csv_file.close()"
      ],
      "metadata": {
        "id": "vk_XRXQNw7OU"
      },
      "execution_count": 10,
      "outputs": []
    },
    {
      "cell_type": "markdown",
      "source": [
        "## Reading complex data\n",
        "\n",
        "Data stored in CSV files is read and processed by applications. We will address the simple case of reading data from a CSV file where entity values are separated by a comma, each entity being on its own line."
      ],
      "metadata": {
        "id": "hXvHz2H8VmEI"
      }
    },
    {
      "cell_type": "code",
      "source": [
        "# initialize read data\n",
        "read_first_names = []\n",
        "read_last_names = []\n",
        "read_ages = []\n",
        "\n",
        "# open the csv file\n",
        "csv_file = open(\"persons.csv\", \"r\")\n",
        "read_lines = csv_file.readlines()\n",
        "csv_file.close()\n",
        "\n",
        "# process line by line the read data\n",
        "for read_line in read_lines:\n",
        "  # purify and extract data\n",
        "  read_line = read_line.replace(\"\\n\", \"\")\n",
        "  entity_data = read_line.split(\",\")\n",
        "\n",
        "  # store data in memory for processing\n",
        "  read_first_names.append(entity_data[0])\n",
        "  read_last_names.append(entity_data[1])\n",
        "  read_ages.append(int(entity_data[2]))"
      ],
      "metadata": {
        "id": "pmxplEeAYkfx"
      },
      "execution_count": 18,
      "outputs": []
    }
  ]
}