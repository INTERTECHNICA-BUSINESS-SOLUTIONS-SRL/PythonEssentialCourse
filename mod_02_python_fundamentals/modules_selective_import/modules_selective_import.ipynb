{
  "cells": [
    {
      "cell_type": "code",
      "execution_count": 1,
      "metadata": {},
      "outputs": [
        {
          "name": "stdout",
          "output_type": "stream",
          "text": [
            "Collecting wget\n",
            "  Downloading wget-3.2.zip (10 kB)\n",
            "  Installing build dependencies: started\n",
            "  Installing build dependencies: finished with status 'done'\n",
            "  Getting requirements to build wheel: started\n",
            "  Getting requirements to build wheel: finished with status 'done'\n",
            "  Preparing metadata (pyproject.toml): started\n",
            "  Preparing metadata (pyproject.toml): finished with status 'done'\n",
            "Building wheels for collected packages: wget\n",
            "  Building wheel for wget (pyproject.toml): started\n",
            "  Building wheel for wget (pyproject.toml): finished with status 'done'\n",
            "  Created wheel for wget: filename=wget-3.2-py3-none-any.whl size=9680 sha256=88672719d3a4ea782cd4382849fbba77ba2cd2290339bde9066c8052fb750639\n",
            "  Stored in directory: c:\\users\\one\\appdata\\local\\pip\\cache\\wheels\\40\\b3\\0f\\a40dbd1c6861731779f62cc4babcb234387e11d697df70ee97\n",
            "Successfully built wget\n",
            "Installing collected packages: wget\n",
            "Successfully installed wget-3.2\n",
            "Note: you may need to restart the kernel to use updated packages.\n"
          ]
        }
      ],
      "source": [
        "# notebook initialization code \n",
        "# can be safely ignored\n",
        "# downloads the python module for notebook access\n",
        "from pathlib import Path\n",
        "\n",
        "URL = \"https://raw.githubusercontent.com/INTERTECHNICA-BUSINESS-SOLUTIONS-SRL/PythonEssentialsCourse/main/mod_02_python_fundamentals/user_defined_modules/python/source/minmax.py\"\n",
        "if not Path(\"./minmax.py\").is_file() :\n",
        "    %pip install wget\n",
        "    import wget\n",
        "    wget.download(URL, out = \"./minmax.py\")"
      ]
    },
    {
      "cell_type": "markdown",
      "metadata": {
        "id": "HoOwWSVgv-IC"
      },
      "source": [
        "# Selectively importing from a module\n",
        "\n",
        "Python allows a selective import from a module, in other terms to import strictly the entities that need to be used and not all the entieies from the module.\n",
        "\n",
        "This is done via the **from import** statement."
      ]
    },
    {
      "cell_type": "code",
      "execution_count": 7,
      "metadata": {
        "colab": {
          "base_uri": "https://localhost:8080/"
        },
        "id": "vk_XRXQNw7OU",
        "outputId": "559564dd-4673-457e-8372-51b1e51f0244"
      },
      "outputs": [
        {
          "name": "stdout",
          "output_type": "stream",
          "text": [
            "Minimal value is: 0\n",
            "Maximal value is: 9\n"
          ]
        }
      ],
      "source": [
        "# import selectively only the functions that are needed\n",
        "from minmax import max_value, min_value\n",
        "\n",
        "# the module's selectively imported functionality is available in the global namespace\n",
        "data = [0, 1, 2, 3, 4, 5, 6, 7, 8, 9]\n",
        "print(\"Minimal value is: {0:d}\".format(min_value(data)))\n",
        "print(\"Maximal value is: {0:d}\".format(max_value(data)))"
      ]
    }
  ],
  "metadata": {
    "colab": {
      "provenance": []
    },
    "kernelspec": {
      "display_name": "Python 3",
      "name": "python3"
    },
    "language_info": {
      "codemirror_mode": {
        "name": "ipython",
        "version": 3
      },
      "file_extension": ".py",
      "mimetype": "text/x-python",
      "name": "python",
      "nbconvert_exporter": "python",
      "pygments_lexer": "ipython3",
      "version": "3.11.5"
    }
  },
  "nbformat": 4,
  "nbformat_minor": 0
}
