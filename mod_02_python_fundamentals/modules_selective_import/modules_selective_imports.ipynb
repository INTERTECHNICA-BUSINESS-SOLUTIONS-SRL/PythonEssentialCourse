{
  "nbformat": 4,
  "nbformat_minor": 0,
  "metadata": {
    "colab": {
      "provenance": []
    },
    "kernelspec": {
      "name": "python3",
      "display_name": "Python 3"
    },
    "language_info": {
      "name": "python"
    }
  },
  "cells": [
    {
      "cell_type": "markdown",
      "source": [
        "# Selectively importing from a module\n",
        "\n",
        "Python allows a selective import from a module, in other terms to import strictly the entities that need to be used and not all the entieies from the module.\n",
        "\n",
        "This is done via the **from import** statement."
      ],
      "metadata": {
        "id": "HoOwWSVgv-IC"
      }
    },
    {
      "cell_type": "code",
      "source": [
        "# import selectively only the functions that are needed\n",
        "from minmax import max_value, min_value\n",
        "\n",
        "# the module's selectively imported functionality is available in the global namespace\n",
        "data = [0, 1, 2, 3, 4, 5, 6, 7, 8, 9]\n",
        "print(\"Minimal value is: {0:d}\".format(min_value(data)))\n",
        "print(\"Maximal value is: {0:d}\".format(max_value(data)))"
      ],
      "metadata": {
        "id": "vk_XRXQNw7OU",
        "colab": {
          "base_uri": "https://localhost:8080/"
        },
        "outputId": "559564dd-4673-457e-8372-51b1e51f0244"
      },
      "execution_count": 7,
      "outputs": [
        {
          "output_type": "stream",
          "name": "stdout",
          "text": [
            "Minimal value is: 0\n",
            "Maximal value is: 9\n"
          ]
        }
      ]
    }
  ]
}