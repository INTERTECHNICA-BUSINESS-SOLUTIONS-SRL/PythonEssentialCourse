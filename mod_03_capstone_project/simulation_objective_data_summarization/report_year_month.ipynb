{
 "cells": [
  {
   "cell_type": "code",
   "execution_count": 11,
   "metadata": {},
   "outputs": [],
   "source": [
    "import csv\n",
    "import datetime\n",
    "import json"
   ]
  },
  {
   "cell_type": "code",
   "execution_count": 12,
   "metadata": {},
   "outputs": [],
   "source": [
    "def read_raw_csv_data(file_path):\n",
    "    \"\"\"Reads raw CSV data from a file\n",
    "    specified by file_path\n",
    "    \"\"\"\n",
    "    read_file = open(file_path)\n",
    "    dict_reader = csv.DictReader(read_file)\n",
    "    read_data = list(dict_reader)\n",
    "    read_file.close()\n",
    "\n",
    "    return read_data"
   ]
  },
  {
   "cell_type": "code",
   "execution_count": 13,
   "metadata": {},
   "outputs": [],
   "source": [
    "# read the raw consolidated price data\n",
    "consolidated_prices_raw_data = read_raw_csv_data(\"./data/augmented_prices.csv\")"
   ]
  },
  {
   "cell_type": "code",
   "execution_count": 14,
   "metadata": {},
   "outputs": [],
   "source": [
    "def extract_dictionary_values(raw_data):\n",
    "    \"\"\" Extracts dictionary values from raw data\n",
    "    \"\"\"\n",
    "    prices_data = raw_data.copy()\n",
    "    for price_data_item in prices_data:\n",
    "        # convert data record by record\n",
    "        price_data_item[\"date\"] = datetime.datetime.fromisoformat(price_data_item[\"date\"])\n",
    "        price_data_item[\"diesel_price\"] = float(price_data_item[\"diesel_price\"])\n",
    "        price_data_item[\"gasoline_price\"] = float(price_data_item[\"gasoline_price\"])\n",
    "        price_data_item[\"diesel_price_difference\"] = float(price_data_item[\"diesel_price_difference\"])\n",
    "        price_data_item[\"gasoline_price_difference\"] = float(price_data_item[\"gasoline_price_difference\"])\n",
    "        price_data_item[\"diesel_price_difference_percent\"] = float(price_data_item[\"diesel_price_difference_percent\"])\n",
    "        price_data_item[\"gasoline_price_difference_percent\"] = float(price_data_item[\"gasoline_price_difference_percent\"])\n",
    "        price_data_item[\"year\"] = price_data_item[\"date\"].year\n",
    "        price_data_item[\"month\"] = price_data_item[\"date\"].month\n",
    "\n",
    "    return prices_data"
   ]
  },
  {
   "cell_type": "code",
   "execution_count": 15,
   "metadata": {},
   "outputs": [],
   "source": [
    "# create formatted data from raw data\n",
    "consolidated_prices_data = extract_dictionary_values(consolidated_prices_raw_data)"
   ]
  },
  {
   "cell_type": "code",
   "execution_count": 16,
   "metadata": {},
   "outputs": [],
   "source": [
    "def extract_reporting_data_dictionary(consolidated_data):\n",
    "    \"\"\"Extract reporting data from consolidated data list as a \n",
    "    dictionary with the key being the date and the \n",
    "    value being another dictionary with the key the month and the \n",
    "    value being the reporting data list\n",
    "    \"\"\"\n",
    "    reporting_data_dictionary = {}\n",
    "\n",
    "    # explore the consolidated data year by year\n",
    "    for consolidated_data_item in consolidated_data:\n",
    "        current_year = consolidated_data_item[\"year\"]\n",
    "        current_month = consolidated_data_item[\"month\"]\n",
    "\n",
    "        # allocate the year and month entry in the dictionary\n",
    "        if not current_year in reporting_data_dictionary:\n",
    "            reporting_data_dictionary[current_year] = {}\n",
    "        month_data_dictionary = reporting_data_dictionary[current_year]\n",
    "        if not current_month in month_data_dictionary:\n",
    "            # make sure that month data is properly initialized\n",
    "            month_data_dictionary[current_month] = {}\n",
    "            month_data_dictionary[current_month][\"diesel_price\"] = []\n",
    "            month_data_dictionary[current_month][\"gasoline_price\"] = []\n",
    "            month_data_dictionary[current_month][\"diesel_price_difference\"] = []\n",
    "            month_data_dictionary[current_month][\"gasoline_price_difference\"] = []\n",
    "            month_data_dictionary[current_month][\"diesel_price_difference_percent\"] = []\n",
    "            month_data_dictionary[current_month][\"gasoline_price_difference_percent\"] = []\n",
    "\n",
    "        # add read data into the dictionary list values\n",
    "        month_data_dictionary[current_month][\"diesel_price\"].append(consolidated_data_item[\"diesel_price\"])\n",
    "        month_data_dictionary[current_month][\"gasoline_price\"].append(consolidated_data_item[\"gasoline_price\"])\n",
    "        month_data_dictionary[current_month][\"diesel_price_difference\"].append(consolidated_data_item[\"diesel_price_difference\"])\n",
    "        month_data_dictionary[current_month][\"gasoline_price_difference\"].append(consolidated_data_item[\"gasoline_price_difference\"])\n",
    "        month_data_dictionary[current_month][\"diesel_price_difference_percent\"].append(consolidated_data_item[\"diesel_price_difference_percent\"])\n",
    "        month_data_dictionary[current_month][\"gasoline_price_difference_percent\"].append(consolidated_data_item[\"gasoline_price_difference_percent\"])\n",
    "\n",
    "    return reporting_data_dictionary"
   ]
  },
  {
   "cell_type": "code",
   "execution_count": 17,
   "metadata": {},
   "outputs": [],
   "source": [
    "# extract the reporting data dictionary\n",
    "reporting_dictionary = extract_reporting_data_dictionary(\n",
    "    consolidated_prices_data)"
   ]
  },
  {
   "cell_type": "code",
   "execution_count": 18,
   "metadata": {},
   "outputs": [],
   "source": [
    "def get_year_month_summary_data(reporting_data_dictionary):\n",
    "    \"\"\" Extracts the year-month price summary data \n",
    "    from a reporting data dictionary\n",
    "    \"\"\"\n",
    "    year_month_summarization = {}\n",
    "\n",
    "    # explore the reporting data dictionary year by year\n",
    "    for year in reporting_data_dictionary.keys():\n",
    "        if not year in year_month_summarization:\n",
    "            # allocate year entry in reporting data\n",
    "            year_month_summarization[year] = {}\n",
    "        year_items_dictionary = reporting_data_dictionary[year]\n",
    "\n",
    "        # explore the monthly data for the current year\n",
    "        for month in year_items_dictionary.keys():\n",
    "            if not month in year_month_summarization[year]:\n",
    "                # allocate month entry in reporting data\n",
    "                year_month_summarization[year][month] = {}\n",
    "\n",
    "            # extract basic data\n",
    "            month_item = year_items_dictionary[month]\n",
    "            report_item = year_month_summarization[year][month]\n",
    "\n",
    "            # calculate reporting data and store it\n",
    "            report_item[\"min_diesel_price\"] = min(month_item[\"diesel_price\"])\n",
    "            report_item[\"avg_diesel_price\"] = sum(month_item[\"diesel_price\"]) / len(month_item[\"diesel_price\"])\n",
    "            report_item[\"max_diesel_price\"] = max(month_item[\"diesel_price\"])\n",
    "\n",
    "            report_item[\"min_gasoline_price\"] = min(month_item[\"gasoline_price\"])\n",
    "            report_item[\"avg_gasoline_price\"] = sum(month_item[\"gasoline_price\"]) / len(month_item[\"gasoline_price\"])\n",
    "            report_item[\"max_gasoline_price\"] = max(month_item[\"gasoline_price\"])\n",
    "\n",
    "    # return the created values\n",
    "    return year_month_summarization"
   ]
  },
  {
   "cell_type": "code",
   "execution_count": 19,
   "metadata": {},
   "outputs": [],
   "source": [
    "year_month_summary_data = get_year_month_summary_data(reporting_dictionary)"
   ]
  },
  {
   "cell_type": "code",
   "execution_count": 20,
   "metadata": {},
   "outputs": [],
   "source": [
    "# save the created reporting data into the JSON storage file\n",
    "json_storage = open(\"./output_data/year_month_summarization.json\", \"w\")\n",
    "json.dump(year_month_summary_data, json_storage, indent=2)\n",
    "json_storage.close()"
   ]
  }
 ],
 "metadata": {
  "kernelspec": {
   "display_name": "Python 3",
   "language": "python",
   "name": "python3"
  },
  "language_info": {
   "codemirror_mode": {
    "name": "ipython",
    "version": 3
   },
   "file_extension": ".py",
   "mimetype": "text/x-python",
   "name": "python",
   "nbconvert_exporter": "python",
   "pygments_lexer": "ipython3",
   "version": "3.11.5"
  },
  "orig_nbformat": 4
 },
 "nbformat": 4,
 "nbformat_minor": 2
}
