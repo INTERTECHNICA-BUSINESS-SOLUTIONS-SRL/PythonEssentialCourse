{
 "cells": [
  {
   "cell_type": "code",
   "execution_count": 1,
   "metadata": {},
   "outputs": [],
   "source": [
    "import json"
   ]
  },
  {
   "cell_type": "code",
   "execution_count": 2,
   "metadata": {},
   "outputs": [],
   "source": [
    "def read_raw_json_data (file_path):\n",
    "    \"\"\"Reads raw JSON data from a file\n",
    "    specified by file_path\n",
    "    \"\"\"   \n",
    "    read_file = open(file_path)\n",
    "    read_data = json.load(read_file)\n",
    "    read_file.close()\n",
    "    \n",
    "    return read_data"
   ]
  },
  {
   "cell_type": "code",
   "execution_count": 3,
   "metadata": {},
   "outputs": [],
   "source": [
    "# read the raw consolidated price data\n",
    "year_month_summarization_raw_data = read_raw_json_data(\"./output_data/year_month_summarization.json\")"
   ]
  },
  {
   "cell_type": "code",
   "execution_count": 4,
   "metadata": {},
   "outputs": [],
   "source": [
    "def get_year_summary_data(year_month_summarization_data):\n",
    "    \"\"\"Extracts yearly summary data from a year and month\n",
    "    data summarization\n",
    "    \"\"\"\n",
    "    year_summary = {}\n",
    "    \n",
    "    for year in year_month_summarization_data:\n",
    "        year_data = year_month_summarization_data[year]\n",
    "        \n",
    "        # prepare the monthly data list storage \n",
    "        months_data_min_diesel_price = []\n",
    "        months_data_avg_diesel_price = []\n",
    "        months_data_max_diesel_price = []\n",
    "\n",
    "        months_data_min_gasoline_price = []\n",
    "        months_data_avg_gasoline_price = []\n",
    "        months_data_max_gasoline_price = []\n",
    "        \n",
    "        # iterate over all months and store relevant value\n",
    "        for month in year_data:\n",
    "            month_data = year_data[month]\n",
    "            \n",
    "            months_data_min_diesel_price.append(month_data[\"min_diesel_price\"])\n",
    "            months_data_avg_diesel_price.append(month_data[\"avg_diesel_price\"])\n",
    "            months_data_max_diesel_price.append(month_data[\"max_diesel_price\"])\n",
    "            \n",
    "            months_data_min_gasoline_price.append(month_data[\"min_gasoline_price\"])\n",
    "            months_data_avg_gasoline_price.append(month_data[\"avg_gasoline_price\"])\n",
    "            months_data_max_gasoline_price.append(month_data[\"max_gasoline_price\"])\n",
    "\n",
    "        # ensure year and month data allocation    \n",
    "        if not year in year_summary:\n",
    "            year_summary[year] = {}\n",
    "        \n",
    "        # calculate and store relevant data\n",
    "        year_summary[year][\"min_diesel_price\"] = min(months_data_min_diesel_price)\n",
    "        year_summary[year][\"avg_diesel_price\"] = sum(months_data_avg_diesel_price)/len(months_data_avg_diesel_price)\n",
    "        year_summary[year][\"max_diesel_price\"] = max(months_data_max_diesel_price) \n",
    "\n",
    "        year_summary[year][\"min_gasoline_price\"] = min(months_data_min_gasoline_price)\n",
    "        year_summary[year][\"avg_gasoline_price\"] = sum(months_data_avg_gasoline_price)/len(months_data_avg_gasoline_price)\n",
    "        year_summary[year][\"max_gasoline_price\"] = max(months_data_max_gasoline_price) \n",
    "           \n",
    "    return year_summary"
   ]
  },
  {
   "cell_type": "code",
   "execution_count": 6,
   "metadata": {},
   "outputs": [],
   "source": [
    "# extract the year summary data\n",
    "year_summary_data = get_year_summary_data(year_month_summarization_raw_data)"
   ]
  },
  {
   "cell_type": "code",
   "execution_count": 7,
   "metadata": {},
   "outputs": [],
   "source": [
    "# save the created reporting data into the JSON storage file\n",
    "json_storage = open(\"./output_data/year_summarization.json\", \"w\")\n",
    "json.dump(year_summary_data, json_storage, indent= 2)\n",
    "json_storage.close()"
   ]
  }
 ],
 "metadata": {
  "kernelspec": {
   "display_name": "Python 3",
   "language": "python",
   "name": "python3"
  },
  "language_info": {
   "codemirror_mode": {
    "name": "ipython",
    "version": 3
   },
   "file_extension": ".py",
   "mimetype": "text/x-python",
   "name": "python",
   "nbconvert_exporter": "python",
   "pygments_lexer": "ipython3",
   "version": "3.11.5"
  },
  "orig_nbformat": 4
 },
 "nbformat": 4,
 "nbformat_minor": 2
}
