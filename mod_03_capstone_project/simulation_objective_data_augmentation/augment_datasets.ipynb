{
 "cells": [
  {
   "cell_type": "code",
   "execution_count": 1,
   "metadata": {},
   "outputs": [],
   "source": [
    "import csv\n",
    "import datetime "
   ]
  },
  {
   "cell_type": "code",
   "execution_count": 2,
   "metadata": {},
   "outputs": [],
   "source": [
    "def read_raw_csv_data (file_path):\n",
    "    \"\"\"Reads raw CSV data from a file\n",
    "    specified by file_path\n",
    "    \"\"\"   \n",
    "    read_file = open(file_path)\n",
    "    dict_reader = csv.DictReader(read_file)\n",
    "    read_data = list(dict_reader)\n",
    "    read_file.close()\n",
    "    \n",
    "    return read_data"
   ]
  },
  {
   "cell_type": "code",
   "execution_count": 3,
   "metadata": {},
   "outputs": [],
   "source": [
    "# read the raw consolidated price data\n",
    "consolidated_prices_raw_data = read_raw_csv_data(\"./output_data/consolidated_prices.csv\")"
   ]
  },
  {
   "cell_type": "code",
   "execution_count": 4,
   "metadata": {},
   "outputs": [],
   "source": [
    "def extract_dictionary_values(raw_data) :\n",
    "    \"\"\" Extracts dictionary values from raw data\n",
    "    \"\"\"\n",
    "    prices_data = raw_data.copy()\n",
    "    for price_data_item in prices_data:\n",
    "        price_data_item[\"date\"] = datetime.datetime.fromisoformat(price_data_item[\"date\"])\n",
    "        price_data_item[\"diesel_price\"] = float(price_data_item[\"diesel_price\"])\n",
    "        price_data_item[\"gasoline_price\"] = float(price_data_item[\"gasoline_price\"])\n",
    "        \n",
    "    return prices_data"
   ]
  },
  {
   "cell_type": "code",
   "execution_count": 5,
   "metadata": {},
   "outputs": [],
   "source": [
    "# create formatted data from raw data\n",
    "consolidated_prices_data = extract_dictionary_values(consolidated_prices_raw_data)"
   ]
  },
  {
   "cell_type": "code",
   "execution_count": 6,
   "metadata": {},
   "outputs": [],
   "source": [
    "def extract_dates_dictionary(consolidated_data):\n",
    "    \"\"\"Extract data from consolidated data list as a \n",
    "    dictionary with the key being the date and the \n",
    "    value being the list item\n",
    "    \"\"\"\n",
    "    date_dictionary = {}\n",
    "    \n",
    "    for consolidated_data_item in consolidated_data:\n",
    "        date_dictionary[consolidated_data_item[\"date\"]] =  consolidated_data_item\n",
    "        \n",
    "    return date_dictionary"
   ]
  },
  {
   "cell_type": "code",
   "execution_count": 7,
   "metadata": {},
   "outputs": [],
   "source": [
    "# extract the date dictionary\n",
    "date_dictionary = extract_dates_dictionary(consolidated_prices_data)"
   ]
  },
  {
   "cell_type": "code",
   "execution_count": 8,
   "metadata": {},
   "outputs": [],
   "source": [
    "# parse the date dictionary in ascending date order\n",
    "sorted_dates = list(date_dictionary.keys())\n",
    "sorted_dates.sort()\n",
    "\n",
    "date_dictionary[sorted_dates[0]][\"diesel_price_difference\"] = 0\n",
    "date_dictionary[sorted_dates[0]][\"gasoline_price_difference\"] = 0\n",
    "date_dictionary[sorted_dates[0]][\"diesel_price_difference_percent\"] = 0\n",
    "date_dictionary[sorted_dates[0]][\"gasoline_price_difference_percent\"] = 0\n",
    "\n",
    "for index in range(1, len(sorted_dates)) :\n",
    "    diesel_price_today = date_dictionary[sorted_dates[index]][\"diesel_price\"]\n",
    "    diesel_price_yesterday = date_dictionary[sorted_dates[index - 1]][\"diesel_price\"]\n",
    "    gasoline_price_today = date_dictionary[sorted_dates[index]][\"gasoline_price\"]\n",
    "    gasoline_price_yesterday = date_dictionary[sorted_dates[index - 1]][\"gasoline_price\"]\n",
    "    \n",
    "    date_dictionary[sorted_dates[index]][\"diesel_price_difference\"] = diesel_price_today - diesel_price_yesterday\n",
    "    date_dictionary[sorted_dates[index]][\"gasoline_price_difference\"] = gasoline_price_today - gasoline_price_yesterday\n",
    "    date_dictionary[sorted_dates[index]][\"diesel_price_difference_percent\"] = date_dictionary[sorted_dates[index]][\"diesel_price_difference\"]  / diesel_price_yesterday\n",
    "    date_dictionary[sorted_dates[index]][\"gasoline_price_difference_percent\"] = date_dictionary[sorted_dates[index]][\"gasoline_price_difference\"]  / gasoline_price_yesterday"
   ]
  },
  {
   "cell_type": "code",
   "execution_count": 9,
   "metadata": {},
   "outputs": [],
   "source": [
    "augmented_dataset_file = open(\"./output_data/augmented_prices.csv\", \"w\", newline=\"\")\n",
    "\n",
    "dict_writer = csv.DictWriter(augmented_dataset_file, fieldnames=[\n",
    "    \"date\",\n",
    "    \"diesel_price\",\n",
    "    \"gasoline_price\",\n",
    "    \"diesel_price_difference\",\n",
    "    \"gasoline_price_difference\",\n",
    "    \"diesel_price_difference_percent\",\n",
    "    \"gasoline_price_difference_percent\",    \n",
    "])\n",
    "dict_writer.writeheader()\n",
    "dict_writer.writerows(date_dictionary.values())\n",
    "\n",
    "augmented_dataset_file.close()"
   ]
  }
 ],
 "metadata": {
  "kernelspec": {
   "display_name": "Python 3",
   "language": "python",
   "name": "python3"
  },
  "language_info": {
   "codemirror_mode": {
    "name": "ipython",
    "version": 3
   },
   "file_extension": ".py",
   "mimetype": "text/x-python",
   "name": "python",
   "nbconvert_exporter": "python",
   "pygments_lexer": "ipython3",
   "version": "3.11.5"
  },
  "orig_nbformat": 4
 },
 "nbformat": 4,
 "nbformat_minor": 2
}
