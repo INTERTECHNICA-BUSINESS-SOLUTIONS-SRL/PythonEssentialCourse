{
 "cells": [
  {
   "cell_type": "code",
   "execution_count": 1,
   "metadata": {},
   "outputs": [],
   "source": [
    "import csv\n",
    "import datetime "
   ]
  },
  {
   "cell_type": "code",
   "execution_count": 2,
   "metadata": {},
   "outputs": [],
   "source": [
    "def read_raw_csv_data (file_path):\n",
    "    \"\"\"Reads raw CSV data from a file\n",
    "    specified by file_path\n",
    "    \"\"\"   \n",
    "    read_file = open(file_path)\n",
    "    dict_reader = csv.DictReader(read_file)\n",
    "    read_data = list(dict_reader)\n",
    "    read_file.close()\n",
    "    \n",
    "    return read_data"
   ]
  },
  {
   "cell_type": "code",
   "execution_count": 3,
   "metadata": {},
   "outputs": [],
   "source": [
    "# read the raw diesel price data\n",
    "diesel_prices_raw_data = read_raw_csv_data(\"./data/dieselPricesInRomania.csv\")\n",
    "\n",
    "# read the raw gasoline price data\n",
    "gasoline_prices_raw_data = read_raw_csv_data(\"./data/gasolinePricesInRomania.csv\")"
   ]
  },
  {
   "cell_type": "code",
   "execution_count": 4,
   "metadata": {},
   "outputs": [],
   "source": [
    "def extract_datetime_value(raw_value):\n",
    "    \"\"\"Extracts the datetime value from a \n",
    "    string data value\n",
    "    \"\"\"\n",
    "    try:\n",
    "        return datetime.datetime.strptime(raw_value, \"%d-%m-%Y\")\n",
    "    except ValueError:\n",
    "        return datetime.datetime.strptime(raw_value, \"%d/%m/%Y\")"
   ]
  },
  {
   "cell_type": "code",
   "execution_count": 5,
   "metadata": {},
   "outputs": [],
   "source": [
    "def extract_dictionary_values(raw_data) :\n",
    "    \"\"\" Extracts dictionary values from raw data\n",
    "    \"\"\"\n",
    "    prices_data = {}\n",
    "    for raw_data_item in raw_data:\n",
    "        date = extract_datetime_value(raw_data_item[\"date\"])\n",
    "        price = float(raw_data_item[\"price\"])\n",
    "        prices_data[date] = price\n",
    "        \n",
    "    return prices_data"
   ]
  },
  {
   "cell_type": "code",
   "execution_count": 6,
   "metadata": {},
   "outputs": [],
   "source": [
    "# create formatted data from raw data\n",
    "diesel_data = extract_dictionary_values(diesel_prices_raw_data)\n",
    "gasoline_data = extract_dictionary_values(gasoline_prices_raw_data)"
   ]
  },
  {
   "cell_type": "code",
   "execution_count": 7,
   "metadata": {},
   "outputs": [],
   "source": [
    "# create the consolidated data\n",
    "all_dates = set(diesel_data.keys()).union(set(gasoline_data.keys()))\n",
    "all_dates = list(all_dates)\n",
    "all_dates.sort()\n",
    "\n",
    "consolidated_data = []\n",
    "\n",
    "for date_item in all_dates:\n",
    "    current_item = {}\n",
    "    current_item[\"date\"] = date_item\n",
    "    current_item[\"diesel_price\"] = diesel_data[date_item]\n",
    "    current_item[\"gasoline_price\"] = gasoline_data[date_item]\n",
    "\n",
    "    consolidated_data.append(current_item)"
   ]
  },
  {
   "cell_type": "code",
   "execution_count": 8,
   "metadata": {},
   "outputs": [],
   "source": [
    "consolidated_dataset_file = open(\"./output_data/consolidated_prices.csv\", \"w\", newline=\"\")\n",
    "\n",
    "dict_writer = csv.DictWriter(consolidated_dataset_file, fieldnames=[\"date\", \"diesel_price\", \"gasoline_price\"])\n",
    "dict_writer.writeheader()\n",
    "dict_writer.writerows(consolidated_data)\n",
    "\n",
    "consolidated_dataset_file.close() "
   ]
  }
 ],
 "metadata": {
  "kernelspec": {
   "display_name": "Python 3",
   "language": "python",
   "name": "python3"
  },
  "language_info": {
   "codemirror_mode": {
    "name": "ipython",
    "version": 3
   },
   "file_extension": ".py",
   "mimetype": "text/x-python",
   "name": "python",
   "nbconvert_exporter": "python",
   "pygments_lexer": "ipython3",
   "version": "3.11.5"
  },
  "orig_nbformat": 4
 },
 "nbformat": 4,
 "nbformat_minor": 2
}
